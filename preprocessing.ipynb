{
 "cells": [
  {
   "cell_type": "code",
   "execution_count": 1,
   "metadata": {
    "collapsed": true,
    "jupyter": {
     "outputs_hidden": true
    },
    "ExecuteTime": {
     "end_time": "2023-05-16T09:29:22.468597738Z",
     "start_time": "2023-05-16T09:29:22.365962425Z"
    }
   },
   "outputs": [],
   "source": [
    "import numpy as np\n",
    "import pandas as pd\n",
    "import psycopg2"
   ]
  },
  {
   "cell_type": "code",
   "execution_count": 2,
   "metadata": {
    "collapsed": false,
    "jupyter": {
     "outputs_hidden": false
    },
    "ExecuteTime": {
     "start_time": "2023-04-24T16:08:33.749103Z",
     "end_time": "2023-04-24T16:08:33.763381Z"
    }
   },
   "outputs": [],
   "source": [
    "DB_HOST = '127.0.0.1'\n",
    "DB_PORT = '5432'\n",
    "DB_NAME = 'jptrvl'\n",
    "DB_USER = 'postgres'\n",
    "DB_PASS = 'pttjp_000'\n",
    "\n",
    "TB_NAME = 'public.jptrvl_post'\n",
    "\n",
    "conn_string = f'host={DB_HOST} user={DB_USER} dbname={DB_NAME} password={DB_PASS} port={DB_PORT}'\n",
    "\n",
    "conn = psycopg2.connect(conn_string)\n",
    "\n",
    "sql = f\"SELECT * FROM {TB_NAME} WHERE publish_time BETWEEN '2022-01-01' AND '2023-04-23;'\""
   ]
  },
  {
   "cell_type": "code",
   "execution_count": 3,
   "metadata": {
    "collapsed": false,
    "jupyter": {
     "outputs_hidden": false
    },
    "ExecuteTime": {
     "start_time": "2023-04-24T16:08:35.881089Z",
     "end_time": "2023-04-24T16:08:36.039279Z"
    }
   },
   "outputs": [
    {
     "name": "stderr",
     "output_type": "stream",
     "text": [
      "/tmp/ipykernel_8582/269157739.py:1: UserWarning: pandas only supports SQLAlchemy connectable (engine/connection) or database string URI or sqlite3 DBAPI2 connection. Other DBAPI2 objects are not tested. Please consider using SQLAlchemy.\n",
      "  df = pd.read_sql(sql, conn)\n"
     ]
    },
    {
     "data": {
      "text/plain": "        id                          title  \\\n0        6              [公告] 2022新年道賀許願區    \n1        7          [資訊] 長崎觀光指南:舊上海銀行紀念館等   \n2        8    Re: [問題] 大家在日本發生過自認最丟臉的事是什麼   \n3        9          [住宿] 關西 W大阪 (W Hotel    \n4       10             [食記] 沖繩恩那村 亀ぬ浜海人料理   \n...    ...                            ...   \n7003  7046                [問題] 黃金週 京阪行程請益   \n7004  7047          [問題] 北海道旅遊時間抉擇（6月、7月）   \n7005  7048                [問題] 阪京7天6夜行程請益   \n7006  7049       [心得]2023日本自駕事故處理介紹（個人經歷）   \n7007  7072  [公告] 112.04實況回報(含天氣/物候/穿著詢問)    \n\n                                           link        author  \\\n0     /bbs/Japan_Travel/M.1640975790.A.051.html      sinohara   \n1     /bbs/Japan_Travel/M.1641017275.A.861.html      k4851118   \n2     /bbs/Japan_Travel/M.1641133021.A.761.html        tsuneo   \n3     /bbs/Japan_Travel/M.1641198125.A.93F.html     iPhone777   \n4     /bbs/Japan_Travel/M.1641368540.A.CAB.html    Sherlock56   \n...                                         ...           ...   \n7003  /bbs/Japan_Travel/M.1682173628.A.062.html          Jmoe   \n7004  /bbs/Japan_Travel/M.1682177891.A.FD9.html  awihsataw168   \n7005  /bbs/Japan_Travel/M.1682178076.A.ACA.html      chumu123   \n7006  /bbs/Japan_Travel/M.1682178302.A.B37.html       sherina   \n7007  /bbs/Japan_Travel/M.1680805832.A.BF8.html      sinohara   \n\n            publish_time push_count  \\\n0    2022-01-01 02:36:26         10   \n1    2022-01-01 14:07:52              \n2    2022-01-02 22:16:53          7   \n3    2022-01-03 16:21:57         13   \n4    2022-01-05 15:42:19          3   \n...                  ...        ...   \n7003 2023-04-22 22:26:55          9   \n7004 2023-04-22 23:38:09          8   \n7005 2023-04-22 23:41:14          4   \n7006 2023-04-22 23:44:48         10   \n7007 2023-04-07 02:30:30          爆   \n\n                                                content  \n0     各位版友大家好今年算是無法出國的第二年了或許在座的各位 不論是人在哪邊 都會想回去日本看看不...  \n1     長崎市歷史人文觀光指南:舊香港上海銀行長崎分店紀念館.玳瑁工藝館.須加五五道美術館巴哈姆特小...  \n2     ※ 引述《fantasycheng (MIT GS)》之銘言：: 之前在美國唸書的時候愛上了...  \n3     新年快樂!!!造訪日期：2121.11從上回寫完佐渡懶人包之後可能精疲力竭，超久都沒碰blo...  \n4        店名：亀ぬ浜   地址：沖縄県国頭郡恩納村字恩納419-4 恩納海浜公園那比海灘内  ...  \n...                                                 ...  \n7003  1. 行程日期：4/28～5/22. 每日行程：Day1:關西機場 → Haruka直達京都...  \n7004  旅遊時間：6月底或7月中最近搜尋機票後發現六月底大概一萬，七月中大概兩萬多，由於價差有點大，...  \n7005  因為是第一次自己出國自由行希望能夠順利，煩請各位指點、提醒需要注意的地方出遊日期：5/30(...  \n7006  詳細內容資訊參考：https://www.youtube.com/watch?v=kKyn1...  \n7007  各位版友大家好這次實況文比較晚發 先跟版友致歉一下最近幾天比較忙一些 所以實況文到現在才發四...  \n\n[7008 rows x 7 columns]",
      "text/html": "<div>\n<style scoped>\n    .dataframe tbody tr th:only-of-type {\n        vertical-align: middle;\n    }\n\n    .dataframe tbody tr th {\n        vertical-align: top;\n    }\n\n    .dataframe thead th {\n        text-align: right;\n    }\n</style>\n<table border=\"1\" class=\"dataframe\">\n  <thead>\n    <tr style=\"text-align: right;\">\n      <th></th>\n      <th>id</th>\n      <th>title</th>\n      <th>link</th>\n      <th>author</th>\n      <th>publish_time</th>\n      <th>push_count</th>\n      <th>content</th>\n    </tr>\n  </thead>\n  <tbody>\n    <tr>\n      <th>0</th>\n      <td>6</td>\n      <td>[公告] 2022新年道賀許願區</td>\n      <td>/bbs/Japan_Travel/M.1640975790.A.051.html</td>\n      <td>sinohara</td>\n      <td>2022-01-01 02:36:26</td>\n      <td>10</td>\n      <td>各位版友大家好今年算是無法出國的第二年了或許在座的各位 不論是人在哪邊 都會想回去日本看看不...</td>\n    </tr>\n    <tr>\n      <th>1</th>\n      <td>7</td>\n      <td>[資訊] 長崎觀光指南:舊上海銀行紀念館等</td>\n      <td>/bbs/Japan_Travel/M.1641017275.A.861.html</td>\n      <td>k4851118</td>\n      <td>2022-01-01 14:07:52</td>\n      <td></td>\n      <td>長崎市歷史人文觀光指南:舊香港上海銀行長崎分店紀念館.玳瑁工藝館.須加五五道美術館巴哈姆特小...</td>\n    </tr>\n    <tr>\n      <th>2</th>\n      <td>8</td>\n      <td>Re: [問題] 大家在日本發生過自認最丟臉的事是什麼</td>\n      <td>/bbs/Japan_Travel/M.1641133021.A.761.html</td>\n      <td>tsuneo</td>\n      <td>2022-01-02 22:16:53</td>\n      <td>7</td>\n      <td>※ 引述《fantasycheng (MIT GS)》之銘言：: 之前在美國唸書的時候愛上了...</td>\n    </tr>\n    <tr>\n      <th>3</th>\n      <td>9</td>\n      <td>[住宿] 關西 W大阪 (W Hotel</td>\n      <td>/bbs/Japan_Travel/M.1641198125.A.93F.html</td>\n      <td>iPhone777</td>\n      <td>2022-01-03 16:21:57</td>\n      <td>13</td>\n      <td>新年快樂!!!造訪日期：2121.11從上回寫完佐渡懶人包之後可能精疲力竭，超久都沒碰blo...</td>\n    </tr>\n    <tr>\n      <th>4</th>\n      <td>10</td>\n      <td>[食記] 沖繩恩那村 亀ぬ浜海人料理</td>\n      <td>/bbs/Japan_Travel/M.1641368540.A.CAB.html</td>\n      <td>Sherlock56</td>\n      <td>2022-01-05 15:42:19</td>\n      <td>3</td>\n      <td>店名：亀ぬ浜   地址：沖縄県国頭郡恩納村字恩納419-4 恩納海浜公園那比海灘内  ...</td>\n    </tr>\n    <tr>\n      <th>...</th>\n      <td>...</td>\n      <td>...</td>\n      <td>...</td>\n      <td>...</td>\n      <td>...</td>\n      <td>...</td>\n      <td>...</td>\n    </tr>\n    <tr>\n      <th>7003</th>\n      <td>7046</td>\n      <td>[問題] 黃金週 京阪行程請益</td>\n      <td>/bbs/Japan_Travel/M.1682173628.A.062.html</td>\n      <td>Jmoe</td>\n      <td>2023-04-22 22:26:55</td>\n      <td>9</td>\n      <td>1. 行程日期：4/28～5/22. 每日行程：Day1:關西機場 → Haruka直達京都...</td>\n    </tr>\n    <tr>\n      <th>7004</th>\n      <td>7047</td>\n      <td>[問題] 北海道旅遊時間抉擇（6月、7月）</td>\n      <td>/bbs/Japan_Travel/M.1682177891.A.FD9.html</td>\n      <td>awihsataw168</td>\n      <td>2023-04-22 23:38:09</td>\n      <td>8</td>\n      <td>旅遊時間：6月底或7月中最近搜尋機票後發現六月底大概一萬，七月中大概兩萬多，由於價差有點大，...</td>\n    </tr>\n    <tr>\n      <th>7005</th>\n      <td>7048</td>\n      <td>[問題] 阪京7天6夜行程請益</td>\n      <td>/bbs/Japan_Travel/M.1682178076.A.ACA.html</td>\n      <td>chumu123</td>\n      <td>2023-04-22 23:41:14</td>\n      <td>4</td>\n      <td>因為是第一次自己出國自由行希望能夠順利，煩請各位指點、提醒需要注意的地方出遊日期：5/30(...</td>\n    </tr>\n    <tr>\n      <th>7006</th>\n      <td>7049</td>\n      <td>[心得]2023日本自駕事故處理介紹（個人經歷）</td>\n      <td>/bbs/Japan_Travel/M.1682178302.A.B37.html</td>\n      <td>sherina</td>\n      <td>2023-04-22 23:44:48</td>\n      <td>10</td>\n      <td>詳細內容資訊參考：https://www.youtube.com/watch?v=kKyn1...</td>\n    </tr>\n    <tr>\n      <th>7007</th>\n      <td>7072</td>\n      <td>[公告] 112.04實況回報(含天氣/物候/穿著詢問)</td>\n      <td>/bbs/Japan_Travel/M.1680805832.A.BF8.html</td>\n      <td>sinohara</td>\n      <td>2023-04-07 02:30:30</td>\n      <td>爆</td>\n      <td>各位版友大家好這次實況文比較晚發 先跟版友致歉一下最近幾天比較忙一些 所以實況文到現在才發四...</td>\n    </tr>\n  </tbody>\n</table>\n<p>7008 rows × 7 columns</p>\n</div>"
     },
     "execution_count": 3,
     "metadata": {},
     "output_type": "execute_result"
    }
   ],
   "source": [
    "df = pd.read_sql(sql, conn)\n",
    "df"
   ]
  },
  {
   "cell_type": "code",
   "execution_count": 4,
   "metadata": {
    "collapsed": false,
    "jupyter": {
     "outputs_hidden": false
    },
    "ExecuteTime": {
     "start_time": "2023-04-24T16:10:35.801447Z",
     "end_time": "2023-04-24T16:10:35.817297Z"
    }
   },
   "outputs": [
    {
     "data": {
      "text/plain": "        id                        title  \\\n0        6            [公告] 2022新年道賀許願區    \n1        7        [資訊] 長崎觀光指南:舊上海銀行紀念館等   \n2        8  Re: [問題] 大家在日本發生過自認最丟臉的事是什麼   \n3        9        [住宿] 關西 W大阪 (W Hotel    \n4       10           [食記] 沖繩恩那村 亀ぬ浜海人料理   \n...    ...                          ...   \n7002  7045  [讓售] 4月24日teamlab 門票2張(可改期)   \n7003  7046              [問題] 黃金週 京阪行程請益   \n7004  7047        [問題] 北海道旅遊時間抉擇（6月、7月）   \n7005  7048              [問題] 阪京7天6夜行程請益   \n7006  7049     [心得]2023日本自駕事故處理介紹（個人經歷）   \n\n                                           link        author  \\\n0     /bbs/Japan_Travel/M.1640975790.A.051.html      sinohara   \n1     /bbs/Japan_Travel/M.1641017275.A.861.html      k4851118   \n2     /bbs/Japan_Travel/M.1641133021.A.761.html        tsuneo   \n3     /bbs/Japan_Travel/M.1641198125.A.93F.html     iPhone777   \n4     /bbs/Japan_Travel/M.1641368540.A.CAB.html    Sherlock56   \n...                                         ...           ...   \n7002  /bbs/Japan_Travel/M.1682173018.A.4AD.html       gracelo   \n7003  /bbs/Japan_Travel/M.1682173628.A.062.html          Jmoe   \n7004  /bbs/Japan_Travel/M.1682177891.A.FD9.html  awihsataw168   \n7005  /bbs/Japan_Travel/M.1682178076.A.ACA.html      chumu123   \n7006  /bbs/Japan_Travel/M.1682178302.A.B37.html       sherina   \n\n            publish_time push_count  \\\n0    2022-01-01 02:36:26         10   \n1    2022-01-01 14:07:52              \n2    2022-01-02 22:16:53          7   \n3    2022-01-03 16:21:57         13   \n4    2022-01-05 15:42:19          3   \n...                  ...        ...   \n7002 2023-04-22 22:16:56              \n7003 2023-04-22 22:26:55          9   \n7004 2023-04-22 23:38:09          8   \n7005 2023-04-22 23:41:14          4   \n7006 2023-04-22 23:44:48         10   \n\n                                                content  \n0     各位版友大家好今年算是無法出國的第二年了或許在座的各位 不論是人在哪邊 都會想回去日本看看不...  \n1     長崎市歷史人文觀光指南:舊香港上海銀行長崎分店紀念館.玳瑁工藝館.須加五五道美術館巴哈姆特小...  \n2     ※ 引述《fantasycheng (MIT GS)》之銘言：: 之前在美國唸書的時候愛上了...  \n3     新年快樂!!!造訪日期：2121.11從上回寫完佐渡懶人包之後可能精疲力竭，超久都沒碰blo...  \n4        店名：亀ぬ浜   地址：沖縄県国頭郡恩納村字恩納419-4 恩納海浜公園那比海灘内  ...  \n...                                                 ...  \n7002  1. 讓售品項：teamlab門票2張（可改入場日期與時段）2. 物品圖片：https://...  \n7003  1. 行程日期：4/28～5/22. 每日行程：Day1:關西機場 → Haruka直達京都...  \n7004  旅遊時間：6月底或7月中最近搜尋機票後發現六月底大概一萬，七月中大概兩萬多，由於價差有點大，...  \n7005  因為是第一次自己出國自由行希望能夠順利，煩請各位指點、提醒需要注意的地方出遊日期：5/30(...  \n7006  詳細內容資訊參考：https://www.youtube.com/watch?v=kKyn1...  \n\n[7008 rows x 7 columns]",
      "text/html": "<div>\n<style scoped>\n    .dataframe tbody tr th:only-of-type {\n        vertical-align: middle;\n    }\n\n    .dataframe tbody tr th {\n        vertical-align: top;\n    }\n\n    .dataframe thead th {\n        text-align: right;\n    }\n</style>\n<table border=\"1\" class=\"dataframe\">\n  <thead>\n    <tr style=\"text-align: right;\">\n      <th></th>\n      <th>id</th>\n      <th>title</th>\n      <th>link</th>\n      <th>author</th>\n      <th>publish_time</th>\n      <th>push_count</th>\n      <th>content</th>\n    </tr>\n  </thead>\n  <tbody>\n    <tr>\n      <th>0</th>\n      <td>6</td>\n      <td>[公告] 2022新年道賀許願區</td>\n      <td>/bbs/Japan_Travel/M.1640975790.A.051.html</td>\n      <td>sinohara</td>\n      <td>2022-01-01 02:36:26</td>\n      <td>10</td>\n      <td>各位版友大家好今年算是無法出國的第二年了或許在座的各位 不論是人在哪邊 都會想回去日本看看不...</td>\n    </tr>\n    <tr>\n      <th>1</th>\n      <td>7</td>\n      <td>[資訊] 長崎觀光指南:舊上海銀行紀念館等</td>\n      <td>/bbs/Japan_Travel/M.1641017275.A.861.html</td>\n      <td>k4851118</td>\n      <td>2022-01-01 14:07:52</td>\n      <td></td>\n      <td>長崎市歷史人文觀光指南:舊香港上海銀行長崎分店紀念館.玳瑁工藝館.須加五五道美術館巴哈姆特小...</td>\n    </tr>\n    <tr>\n      <th>2</th>\n      <td>8</td>\n      <td>Re: [問題] 大家在日本發生過自認最丟臉的事是什麼</td>\n      <td>/bbs/Japan_Travel/M.1641133021.A.761.html</td>\n      <td>tsuneo</td>\n      <td>2022-01-02 22:16:53</td>\n      <td>7</td>\n      <td>※ 引述《fantasycheng (MIT GS)》之銘言：: 之前在美國唸書的時候愛上了...</td>\n    </tr>\n    <tr>\n      <th>3</th>\n      <td>9</td>\n      <td>[住宿] 關西 W大阪 (W Hotel</td>\n      <td>/bbs/Japan_Travel/M.1641198125.A.93F.html</td>\n      <td>iPhone777</td>\n      <td>2022-01-03 16:21:57</td>\n      <td>13</td>\n      <td>新年快樂!!!造訪日期：2121.11從上回寫完佐渡懶人包之後可能精疲力竭，超久都沒碰blo...</td>\n    </tr>\n    <tr>\n      <th>4</th>\n      <td>10</td>\n      <td>[食記] 沖繩恩那村 亀ぬ浜海人料理</td>\n      <td>/bbs/Japan_Travel/M.1641368540.A.CAB.html</td>\n      <td>Sherlock56</td>\n      <td>2022-01-05 15:42:19</td>\n      <td>3</td>\n      <td>店名：亀ぬ浜   地址：沖縄県国頭郡恩納村字恩納419-4 恩納海浜公園那比海灘内  ...</td>\n    </tr>\n    <tr>\n      <th>...</th>\n      <td>...</td>\n      <td>...</td>\n      <td>...</td>\n      <td>...</td>\n      <td>...</td>\n      <td>...</td>\n      <td>...</td>\n    </tr>\n    <tr>\n      <th>7002</th>\n      <td>7045</td>\n      <td>[讓售] 4月24日teamlab 門票2張(可改期)</td>\n      <td>/bbs/Japan_Travel/M.1682173018.A.4AD.html</td>\n      <td>gracelo</td>\n      <td>2023-04-22 22:16:56</td>\n      <td></td>\n      <td>1. 讓售品項：teamlab門票2張（可改入場日期與時段）2. 物品圖片：https://...</td>\n    </tr>\n    <tr>\n      <th>7003</th>\n      <td>7046</td>\n      <td>[問題] 黃金週 京阪行程請益</td>\n      <td>/bbs/Japan_Travel/M.1682173628.A.062.html</td>\n      <td>Jmoe</td>\n      <td>2023-04-22 22:26:55</td>\n      <td>9</td>\n      <td>1. 行程日期：4/28～5/22. 每日行程：Day1:關西機場 → Haruka直達京都...</td>\n    </tr>\n    <tr>\n      <th>7004</th>\n      <td>7047</td>\n      <td>[問題] 北海道旅遊時間抉擇（6月、7月）</td>\n      <td>/bbs/Japan_Travel/M.1682177891.A.FD9.html</td>\n      <td>awihsataw168</td>\n      <td>2023-04-22 23:38:09</td>\n      <td>8</td>\n      <td>旅遊時間：6月底或7月中最近搜尋機票後發現六月底大概一萬，七月中大概兩萬多，由於價差有點大，...</td>\n    </tr>\n    <tr>\n      <th>7005</th>\n      <td>7048</td>\n      <td>[問題] 阪京7天6夜行程請益</td>\n      <td>/bbs/Japan_Travel/M.1682178076.A.ACA.html</td>\n      <td>chumu123</td>\n      <td>2023-04-22 23:41:14</td>\n      <td>4</td>\n      <td>因為是第一次自己出國自由行希望能夠順利，煩請各位指點、提醒需要注意的地方出遊日期：5/30(...</td>\n    </tr>\n    <tr>\n      <th>7006</th>\n      <td>7049</td>\n      <td>[心得]2023日本自駕事故處理介紹（個人經歷）</td>\n      <td>/bbs/Japan_Travel/M.1682178302.A.B37.html</td>\n      <td>sherina</td>\n      <td>2023-04-22 23:44:48</td>\n      <td>10</td>\n      <td>詳細內容資訊參考：https://www.youtube.com/watch?v=kKyn1...</td>\n    </tr>\n  </tbody>\n</table>\n<p>7008 rows × 7 columns</p>\n</div>"
     },
     "execution_count": 4,
     "metadata": {},
     "output_type": "execute_result"
    }
   ],
   "source": [
    "df = df.sort_values(by=['publish_time'])\n",
    "df"
   ]
  },
  {
   "cell_type": "code",
   "execution_count": 5,
   "metadata": {
    "collapsed": false,
    "jupyter": {
     "outputs_hidden": false
    },
    "ExecuteTime": {
     "start_time": "2023-04-24T16:11:09.045856Z",
     "end_time": "2023-04-24T16:11:09.087073Z"
    }
   },
   "outputs": [
    {
     "data": {
      "text/plain": "id              False\ntitle           False\nlink            False\nauthor          False\npublish_time    False\npush_count      False\ncontent         False\ndtype: bool"
     },
     "execution_count": 5,
     "metadata": {},
     "output_type": "execute_result"
    }
   ],
   "source": [
    "df.isnull().any()"
   ]
  },
  {
   "cell_type": "code",
   "execution_count": 6,
   "metadata": {
    "collapsed": false,
    "jupyter": {
     "outputs_hidden": false
    },
    "ExecuteTime": {
     "start_time": "2023-04-24T16:11:33.406667Z",
     "end_time": "2023-04-24T16:11:33.442640Z"
    }
   },
   "outputs": [
    {
     "data": {
      "text/plain": "        id                             title  \\\n948    938           [遊記] 關西紅葉百選~滋賀縣湖東三山賞楓行程   \n1078  1063         [問題] Hotels.com的代金券期限到今年底   \n1314  1287          [資訊] JR九州高速船博多--釜山航線重新運航   \n3438  3395         [遊記] 2022年底 仙台 山寺 仔虎燒肉 松島   \n3457  3413       [遊記] JAL東京羽田--台北松山 機上餐點即時分享   \n3504  3462  Re: [心得] 12/27--1/9東京心得（網卡、行李箱等）   \n3545  3501      [遊記] 2022年底 毛越寺 猊鼻溪 中尊寺 會津若松   \n5417  5441   Re: [問題] 3月份 西日本 山陽山陰 7天6夜 行程請益   \n6219  6245           [遊記] 高遠城址公園--百大名城的天下第一櫻   \n6220  6246         [遊記] 東京築地市場 玉子燒評比/海鮮燒/本願寺   \n6331  6364       [遊記] 東京駅一番街: 好買好逛 4/01新退稅規定   \n6422  6459     [公告] 112.04實況回報(含天氣/物候/穿著詢問)    \n7007  7072     [公告] 112.04實況回報(含天氣/物候/穿著詢問)    \n6903  6946                  [資訊] 茨城機場巴士+出境分享   \n6966  7043         [遊記] 東京 日本未來館 + 百合海鷗號搭乘攻略   \n\n                                           link        author  \\\n948   /bbs/Japan_Travel/M.1665573381.A.982.html   mapleleaves   \n1078  /bbs/Japan_Travel/M.1665992551.A.1FD.html         Dcupe   \n1314  /bbs/Japan_Travel/M.1666779264.A.3D1.html     mithralin   \n3438  /bbs/Japan_Travel/M.1673096800.A.BD5.html       mai2008   \n3457  /bbs/Japan_Travel/M.1673166888.A.567.html       beareni   \n3504  /bbs/Japan_Travel/M.1673273687.A.667.html           aij   \n3545  /bbs/Japan_Travel/M.1673361983.A.7B5.html       mai2008   \n5417  /bbs/Japan_Travel/M.1678600536.A.F73.html    DarkRobert   \n6219  /bbs/Japan_Travel/M.1680352534.A.403.html   mapleleaves   \n6220  /bbs/Japan_Travel/M.1680352975.A.0EB.html   goodcutecat   \n6331  /bbs/Japan_Travel/M.1680615453.A.209.html   goodcutecat   \n6422  /bbs/Japan_Travel/M.1680805832.A.BF8.html      sinohara   \n7007  /bbs/Japan_Travel/M.1680805832.A.BF8.html      sinohara   \n6903  /bbs/Japan_Travel/M.1681897893.A.59F.html  onejellyfish   \n6966  /bbs/Japan_Travel/M.1682171515.A.20A.html   goodcutecat   \n\n            publish_time push_count  \\\n948  2022-10-12 19:16:15          5   \n1078 2022-10-17 15:42:29          6   \n1314 2022-10-26 18:14:22          8   \n3438 2023-01-07 21:06:38          5   \n3457 2023-01-08 16:34:43          6   \n3504 2023-01-09 22:14:44         13   \n3545 2023-01-10 22:46:20              \n5417 2023-03-12 13:55:30          1   \n6219 2023-04-01 20:35:26          4   \n6220 2023-04-01 20:42:49          5   \n6331 2023-04-04 21:37:28         22   \n6422 2023-04-07 02:30:30          2   \n7007 2023-04-07 02:30:30          爆   \n6903 2023-04-19 17:51:12         14   \n6966 2023-04-22 21:51:46          1   \n\n                                                content  \n948                                                      \n1078                                                     \n1314                                                     \n3438  造訪日期：2022.12/24-2023.1/1全程使用 iphone 11 + A73 T...  \n3457                                                     \n3504                                                     \n3545  造訪日期：2022.12/24-2023.1/1全程使用 iphone 11 + A73 T...  \n5417                                                     \n6219                                                     \n6220                                      造訪日期：2023年03月  \n6331                                      造訪日期：2023年03月  \n6422  各位版友大家好這次實況文比較晚發 先跟版友致歉一下最近幾天比較忙一些 所以實況文到現在才發四...  \n7007  各位版友大家好這次實況文比較晚發 先跟版友致歉一下最近幾天比較忙一些 所以實況文到現在才發四...  \n6903                                                     \n6966                                      造訪日期：2023年03月  ",
      "text/html": "<div>\n<style scoped>\n    .dataframe tbody tr th:only-of-type {\n        vertical-align: middle;\n    }\n\n    .dataframe tbody tr th {\n        vertical-align: top;\n    }\n\n    .dataframe thead th {\n        text-align: right;\n    }\n</style>\n<table border=\"1\" class=\"dataframe\">\n  <thead>\n    <tr style=\"text-align: right;\">\n      <th></th>\n      <th>id</th>\n      <th>title</th>\n      <th>link</th>\n      <th>author</th>\n      <th>publish_time</th>\n      <th>push_count</th>\n      <th>content</th>\n    </tr>\n  </thead>\n  <tbody>\n    <tr>\n      <th>948</th>\n      <td>938</td>\n      <td>[遊記] 關西紅葉百選~滋賀縣湖東三山賞楓行程</td>\n      <td>/bbs/Japan_Travel/M.1665573381.A.982.html</td>\n      <td>mapleleaves</td>\n      <td>2022-10-12 19:16:15</td>\n      <td>5</td>\n      <td></td>\n    </tr>\n    <tr>\n      <th>1078</th>\n      <td>1063</td>\n      <td>[問題] Hotels.com的代金券期限到今年底</td>\n      <td>/bbs/Japan_Travel/M.1665992551.A.1FD.html</td>\n      <td>Dcupe</td>\n      <td>2022-10-17 15:42:29</td>\n      <td>6</td>\n      <td></td>\n    </tr>\n    <tr>\n      <th>1314</th>\n      <td>1287</td>\n      <td>[資訊] JR九州高速船博多--釜山航線重新運航</td>\n      <td>/bbs/Japan_Travel/M.1666779264.A.3D1.html</td>\n      <td>mithralin</td>\n      <td>2022-10-26 18:14:22</td>\n      <td>8</td>\n      <td></td>\n    </tr>\n    <tr>\n      <th>3438</th>\n      <td>3395</td>\n      <td>[遊記] 2022年底 仙台 山寺 仔虎燒肉 松島</td>\n      <td>/bbs/Japan_Travel/M.1673096800.A.BD5.html</td>\n      <td>mai2008</td>\n      <td>2023-01-07 21:06:38</td>\n      <td>5</td>\n      <td>造訪日期：2022.12/24-2023.1/1全程使用 iphone 11 + A73 T...</td>\n    </tr>\n    <tr>\n      <th>3457</th>\n      <td>3413</td>\n      <td>[遊記] JAL東京羽田--台北松山 機上餐點即時分享</td>\n      <td>/bbs/Japan_Travel/M.1673166888.A.567.html</td>\n      <td>beareni</td>\n      <td>2023-01-08 16:34:43</td>\n      <td>6</td>\n      <td></td>\n    </tr>\n    <tr>\n      <th>3504</th>\n      <td>3462</td>\n      <td>Re: [心得] 12/27--1/9東京心得（網卡、行李箱等）</td>\n      <td>/bbs/Japan_Travel/M.1673273687.A.667.html</td>\n      <td>aij</td>\n      <td>2023-01-09 22:14:44</td>\n      <td>13</td>\n      <td></td>\n    </tr>\n    <tr>\n      <th>3545</th>\n      <td>3501</td>\n      <td>[遊記] 2022年底 毛越寺 猊鼻溪 中尊寺 會津若松</td>\n      <td>/bbs/Japan_Travel/M.1673361983.A.7B5.html</td>\n      <td>mai2008</td>\n      <td>2023-01-10 22:46:20</td>\n      <td></td>\n      <td>造訪日期：2022.12/24-2023.1/1全程使用 iphone 11 + A73 T...</td>\n    </tr>\n    <tr>\n      <th>5417</th>\n      <td>5441</td>\n      <td>Re: [問題] 3月份 西日本 山陽山陰 7天6夜 行程請益</td>\n      <td>/bbs/Japan_Travel/M.1678600536.A.F73.html</td>\n      <td>DarkRobert</td>\n      <td>2023-03-12 13:55:30</td>\n      <td>1</td>\n      <td></td>\n    </tr>\n    <tr>\n      <th>6219</th>\n      <td>6245</td>\n      <td>[遊記] 高遠城址公園--百大名城的天下第一櫻</td>\n      <td>/bbs/Japan_Travel/M.1680352534.A.403.html</td>\n      <td>mapleleaves</td>\n      <td>2023-04-01 20:35:26</td>\n      <td>4</td>\n      <td></td>\n    </tr>\n    <tr>\n      <th>6220</th>\n      <td>6246</td>\n      <td>[遊記] 東京築地市場 玉子燒評比/海鮮燒/本願寺</td>\n      <td>/bbs/Japan_Travel/M.1680352975.A.0EB.html</td>\n      <td>goodcutecat</td>\n      <td>2023-04-01 20:42:49</td>\n      <td>5</td>\n      <td>造訪日期：2023年03月</td>\n    </tr>\n    <tr>\n      <th>6331</th>\n      <td>6364</td>\n      <td>[遊記] 東京駅一番街: 好買好逛 4/01新退稅規定</td>\n      <td>/bbs/Japan_Travel/M.1680615453.A.209.html</td>\n      <td>goodcutecat</td>\n      <td>2023-04-04 21:37:28</td>\n      <td>22</td>\n      <td>造訪日期：2023年03月</td>\n    </tr>\n    <tr>\n      <th>6422</th>\n      <td>6459</td>\n      <td>[公告] 112.04實況回報(含天氣/物候/穿著詢問)</td>\n      <td>/bbs/Japan_Travel/M.1680805832.A.BF8.html</td>\n      <td>sinohara</td>\n      <td>2023-04-07 02:30:30</td>\n      <td>2</td>\n      <td>各位版友大家好這次實況文比較晚發 先跟版友致歉一下最近幾天比較忙一些 所以實況文到現在才發四...</td>\n    </tr>\n    <tr>\n      <th>7007</th>\n      <td>7072</td>\n      <td>[公告] 112.04實況回報(含天氣/物候/穿著詢問)</td>\n      <td>/bbs/Japan_Travel/M.1680805832.A.BF8.html</td>\n      <td>sinohara</td>\n      <td>2023-04-07 02:30:30</td>\n      <td>爆</td>\n      <td>各位版友大家好這次實況文比較晚發 先跟版友致歉一下最近幾天比較忙一些 所以實況文到現在才發四...</td>\n    </tr>\n    <tr>\n      <th>6903</th>\n      <td>6946</td>\n      <td>[資訊] 茨城機場巴士+出境分享</td>\n      <td>/bbs/Japan_Travel/M.1681897893.A.59F.html</td>\n      <td>onejellyfish</td>\n      <td>2023-04-19 17:51:12</td>\n      <td>14</td>\n      <td></td>\n    </tr>\n    <tr>\n      <th>6966</th>\n      <td>7043</td>\n      <td>[遊記] 東京 日本未來館 + 百合海鷗號搭乘攻略</td>\n      <td>/bbs/Japan_Travel/M.1682171515.A.20A.html</td>\n      <td>goodcutecat</td>\n      <td>2023-04-22 21:51:46</td>\n      <td>1</td>\n      <td>造訪日期：2023年03月</td>\n    </tr>\n  </tbody>\n</table>\n</div>"
     },
     "execution_count": 6,
     "metadata": {},
     "output_type": "execute_result"
    }
   ],
   "source": [
    "df_dup = df[df.duplicated(subset=['content'], keep=False)]\n",
    "df_dup"
   ]
  },
  {
   "cell_type": "code",
   "execution_count": 7,
   "metadata": {
    "collapsed": false,
    "jupyter": {
     "outputs_hidden": false
    },
    "ExecuteTime": {
     "start_time": "2023-04-24T16:12:06.309714Z",
     "end_time": "2023-04-24T16:12:06.350389Z"
    }
   },
   "outputs": [
    {
     "data": {
      "text/plain": "        id                        title  \\\n0        6            [公告] 2022新年道賀許願區    \n1        7        [資訊] 長崎觀光指南:舊上海銀行紀念館等   \n2        8  Re: [問題] 大家在日本發生過自認最丟臉的事是什麼   \n3        9        [住宿] 關西 W大阪 (W Hotel    \n4       10           [食記] 沖繩恩那村 亀ぬ浜海人料理   \n...    ...                          ...   \n7002  7045  [讓售] 4月24日teamlab 門票2張(可改期)   \n7003  7046              [問題] 黃金週 京阪行程請益   \n7004  7047        [問題] 北海道旅遊時間抉擇（6月、7月）   \n7005  7048              [問題] 阪京7天6夜行程請益   \n7006  7049     [心得]2023日本自駕事故處理介紹（個人經歷）   \n\n                                           link        author  \\\n0     /bbs/Japan_Travel/M.1640975790.A.051.html      sinohara   \n1     /bbs/Japan_Travel/M.1641017275.A.861.html      k4851118   \n2     /bbs/Japan_Travel/M.1641133021.A.761.html        tsuneo   \n3     /bbs/Japan_Travel/M.1641198125.A.93F.html     iPhone777   \n4     /bbs/Japan_Travel/M.1641368540.A.CAB.html    Sherlock56   \n...                                         ...           ...   \n7002  /bbs/Japan_Travel/M.1682173018.A.4AD.html       gracelo   \n7003  /bbs/Japan_Travel/M.1682173628.A.062.html          Jmoe   \n7004  /bbs/Japan_Travel/M.1682177891.A.FD9.html  awihsataw168   \n7005  /bbs/Japan_Travel/M.1682178076.A.ACA.html      chumu123   \n7006  /bbs/Japan_Travel/M.1682178302.A.B37.html       sherina   \n\n            publish_time push_count  \\\n0    2022-01-01 02:36:26         10   \n1    2022-01-01 14:07:52              \n2    2022-01-02 22:16:53          7   \n3    2022-01-03 16:21:57         13   \n4    2022-01-05 15:42:19          3   \n...                  ...        ...   \n7002 2023-04-22 22:16:56              \n7003 2023-04-22 22:26:55          9   \n7004 2023-04-22 23:38:09          8   \n7005 2023-04-22 23:41:14          4   \n7006 2023-04-22 23:44:48         10   \n\n                                                content  \n0     各位版友大家好今年算是無法出國的第二年了或許在座的各位 不論是人在哪邊 都會想回去日本看看不...  \n1     長崎市歷史人文觀光指南:舊香港上海銀行長崎分店紀念館.玳瑁工藝館.須加五五道美術館巴哈姆特小...  \n2     ※ 引述《fantasycheng (MIT GS)》之銘言：: 之前在美國唸書的時候愛上了...  \n3     新年快樂!!!造訪日期：2121.11從上回寫完佐渡懶人包之後可能精疲力竭，超久都沒碰blo...  \n4        店名：亀ぬ浜   地址：沖縄県国頭郡恩納村字恩納419-4 恩納海浜公園那比海灘内  ...  \n...                                                 ...  \n7002  1. 讓售品項：teamlab門票2張（可改入場日期與時段）2. 物品圖片：https://...  \n7003  1. 行程日期：4/28～5/22. 每日行程：Day1:關西機場 → Haruka直達京都...  \n7004  旅遊時間：6月底或7月中最近搜尋機票後發現六月底大概一萬，七月中大概兩萬多，由於價差有點大，...  \n7005  因為是第一次自己出國自由行希望能夠順利，煩請各位指點、提醒需要注意的地方出遊日期：5/30(...  \n7006  詳細內容資訊參考：https://www.youtube.com/watch?v=kKyn1...  \n\n[6997 rows x 7 columns]",
      "text/html": "<div>\n<style scoped>\n    .dataframe tbody tr th:only-of-type {\n        vertical-align: middle;\n    }\n\n    .dataframe tbody tr th {\n        vertical-align: top;\n    }\n\n    .dataframe thead th {\n        text-align: right;\n    }\n</style>\n<table border=\"1\" class=\"dataframe\">\n  <thead>\n    <tr style=\"text-align: right;\">\n      <th></th>\n      <th>id</th>\n      <th>title</th>\n      <th>link</th>\n      <th>author</th>\n      <th>publish_time</th>\n      <th>push_count</th>\n      <th>content</th>\n    </tr>\n  </thead>\n  <tbody>\n    <tr>\n      <th>0</th>\n      <td>6</td>\n      <td>[公告] 2022新年道賀許願區</td>\n      <td>/bbs/Japan_Travel/M.1640975790.A.051.html</td>\n      <td>sinohara</td>\n      <td>2022-01-01 02:36:26</td>\n      <td>10</td>\n      <td>各位版友大家好今年算是無法出國的第二年了或許在座的各位 不論是人在哪邊 都會想回去日本看看不...</td>\n    </tr>\n    <tr>\n      <th>1</th>\n      <td>7</td>\n      <td>[資訊] 長崎觀光指南:舊上海銀行紀念館等</td>\n      <td>/bbs/Japan_Travel/M.1641017275.A.861.html</td>\n      <td>k4851118</td>\n      <td>2022-01-01 14:07:52</td>\n      <td></td>\n      <td>長崎市歷史人文觀光指南:舊香港上海銀行長崎分店紀念館.玳瑁工藝館.須加五五道美術館巴哈姆特小...</td>\n    </tr>\n    <tr>\n      <th>2</th>\n      <td>8</td>\n      <td>Re: [問題] 大家在日本發生過自認最丟臉的事是什麼</td>\n      <td>/bbs/Japan_Travel/M.1641133021.A.761.html</td>\n      <td>tsuneo</td>\n      <td>2022-01-02 22:16:53</td>\n      <td>7</td>\n      <td>※ 引述《fantasycheng (MIT GS)》之銘言：: 之前在美國唸書的時候愛上了...</td>\n    </tr>\n    <tr>\n      <th>3</th>\n      <td>9</td>\n      <td>[住宿] 關西 W大阪 (W Hotel</td>\n      <td>/bbs/Japan_Travel/M.1641198125.A.93F.html</td>\n      <td>iPhone777</td>\n      <td>2022-01-03 16:21:57</td>\n      <td>13</td>\n      <td>新年快樂!!!造訪日期：2121.11從上回寫完佐渡懶人包之後可能精疲力竭，超久都沒碰blo...</td>\n    </tr>\n    <tr>\n      <th>4</th>\n      <td>10</td>\n      <td>[食記] 沖繩恩那村 亀ぬ浜海人料理</td>\n      <td>/bbs/Japan_Travel/M.1641368540.A.CAB.html</td>\n      <td>Sherlock56</td>\n      <td>2022-01-05 15:42:19</td>\n      <td>3</td>\n      <td>店名：亀ぬ浜   地址：沖縄県国頭郡恩納村字恩納419-4 恩納海浜公園那比海灘内  ...</td>\n    </tr>\n    <tr>\n      <th>...</th>\n      <td>...</td>\n      <td>...</td>\n      <td>...</td>\n      <td>...</td>\n      <td>...</td>\n      <td>...</td>\n      <td>...</td>\n    </tr>\n    <tr>\n      <th>7002</th>\n      <td>7045</td>\n      <td>[讓售] 4月24日teamlab 門票2張(可改期)</td>\n      <td>/bbs/Japan_Travel/M.1682173018.A.4AD.html</td>\n      <td>gracelo</td>\n      <td>2023-04-22 22:16:56</td>\n      <td></td>\n      <td>1. 讓售品項：teamlab門票2張（可改入場日期與時段）2. 物品圖片：https://...</td>\n    </tr>\n    <tr>\n      <th>7003</th>\n      <td>7046</td>\n      <td>[問題] 黃金週 京阪行程請益</td>\n      <td>/bbs/Japan_Travel/M.1682173628.A.062.html</td>\n      <td>Jmoe</td>\n      <td>2023-04-22 22:26:55</td>\n      <td>9</td>\n      <td>1. 行程日期：4/28～5/22. 每日行程：Day1:關西機場 → Haruka直達京都...</td>\n    </tr>\n    <tr>\n      <th>7004</th>\n      <td>7047</td>\n      <td>[問題] 北海道旅遊時間抉擇（6月、7月）</td>\n      <td>/bbs/Japan_Travel/M.1682177891.A.FD9.html</td>\n      <td>awihsataw168</td>\n      <td>2023-04-22 23:38:09</td>\n      <td>8</td>\n      <td>旅遊時間：6月底或7月中最近搜尋機票後發現六月底大概一萬，七月中大概兩萬多，由於價差有點大，...</td>\n    </tr>\n    <tr>\n      <th>7005</th>\n      <td>7048</td>\n      <td>[問題] 阪京7天6夜行程請益</td>\n      <td>/bbs/Japan_Travel/M.1682178076.A.ACA.html</td>\n      <td>chumu123</td>\n      <td>2023-04-22 23:41:14</td>\n      <td>4</td>\n      <td>因為是第一次自己出國自由行希望能夠順利，煩請各位指點、提醒需要注意的地方出遊日期：5/30(...</td>\n    </tr>\n    <tr>\n      <th>7006</th>\n      <td>7049</td>\n      <td>[心得]2023日本自駕事故處理介紹（個人經歷）</td>\n      <td>/bbs/Japan_Travel/M.1682178302.A.B37.html</td>\n      <td>sherina</td>\n      <td>2023-04-22 23:44:48</td>\n      <td>10</td>\n      <td>詳細內容資訊參考：https://www.youtube.com/watch?v=kKyn1...</td>\n    </tr>\n  </tbody>\n</table>\n<p>6997 rows × 7 columns</p>\n</div>"
     },
     "execution_count": 7,
     "metadata": {},
     "output_type": "execute_result"
    }
   ],
   "source": [
    "df.drop_duplicates(subset=['content'], keep='first', inplace=True)\n",
    "df"
   ]
  },
  {
   "cell_type": "code",
   "execution_count": 8,
   "metadata": {
    "collapsed": false,
    "jupyter": {
     "outputs_hidden": false
    },
    "ExecuteTime": {
     "start_time": "2023-04-24T16:12:55.939607Z",
     "end_time": "2023-04-24T16:12:55.980817Z"
    }
   },
   "outputs": [
    {
     "data": {
      "text/plain": "        id                        title  \\\n0        6            [公告] 2022新年道賀許願區    \n1        7        [資訊] 長崎觀光指南:舊上海銀行紀念館等   \n2        8  Re: [問題] 大家在日本發生過自認最丟臉的事是什麼   \n3        9        [住宿] 關西 W大阪 (W Hotel    \n4       10           [食記] 沖繩恩那村 亀ぬ浜海人料理   \n...    ...                          ...   \n6992  7045  [讓售] 4月24日teamlab 門票2張(可改期)   \n6993  7046              [問題] 黃金週 京阪行程請益   \n6994  7047        [問題] 北海道旅遊時間抉擇（6月、7月）   \n6995  7048              [問題] 阪京7天6夜行程請益   \n6996  7049     [心得]2023日本自駕事故處理介紹（個人經歷）   \n\n                                           link        author  \\\n0     /bbs/Japan_Travel/M.1640975790.A.051.html      sinohara   \n1     /bbs/Japan_Travel/M.1641017275.A.861.html      k4851118   \n2     /bbs/Japan_Travel/M.1641133021.A.761.html        tsuneo   \n3     /bbs/Japan_Travel/M.1641198125.A.93F.html     iPhone777   \n4     /bbs/Japan_Travel/M.1641368540.A.CAB.html    Sherlock56   \n...                                         ...           ...   \n6992  /bbs/Japan_Travel/M.1682173018.A.4AD.html       gracelo   \n6993  /bbs/Japan_Travel/M.1682173628.A.062.html          Jmoe   \n6994  /bbs/Japan_Travel/M.1682177891.A.FD9.html  awihsataw168   \n6995  /bbs/Japan_Travel/M.1682178076.A.ACA.html      chumu123   \n6996  /bbs/Japan_Travel/M.1682178302.A.B37.html       sherina   \n\n            publish_time push_count  \\\n0    2022-01-01 02:36:26         10   \n1    2022-01-01 14:07:52              \n2    2022-01-02 22:16:53          7   \n3    2022-01-03 16:21:57         13   \n4    2022-01-05 15:42:19          3   \n...                  ...        ...   \n6992 2023-04-22 22:16:56              \n6993 2023-04-22 22:26:55          9   \n6994 2023-04-22 23:38:09          8   \n6995 2023-04-22 23:41:14          4   \n6996 2023-04-22 23:44:48         10   \n\n                                                content  \n0     各位版友大家好今年算是無法出國的第二年了或許在座的各位 不論是人在哪邊 都會想回去日本看看不...  \n1     長崎市歷史人文觀光指南:舊香港上海銀行長崎分店紀念館.玳瑁工藝館.須加五五道美術館巴哈姆特小...  \n2     ※ 引述《fantasycheng (MIT GS)》之銘言：: 之前在美國唸書的時候愛上了...  \n3     新年快樂!!!造訪日期：2121.11從上回寫完佐渡懶人包之後可能精疲力竭，超久都沒碰blo...  \n4        店名：亀ぬ浜   地址：沖縄県国頭郡恩納村字恩納419-4 恩納海浜公園那比海灘内  ...  \n...                                                 ...  \n6992  1. 讓售品項：teamlab門票2張（可改入場日期與時段）2. 物品圖片：https://...  \n6993  1. 行程日期：4/28～5/22. 每日行程：Day1:關西機場 → Haruka直達京都...  \n6994  旅遊時間：6月底或7月中最近搜尋機票後發現六月底大概一萬，七月中大概兩萬多，由於價差有點大，...  \n6995  因為是第一次自己出國自由行希望能夠順利，煩請各位指點、提醒需要注意的地方出遊日期：5/30(...  \n6996  詳細內容資訊參考：https://www.youtube.com/watch?v=kKyn1...  \n\n[6997 rows x 7 columns]",
      "text/html": "<div>\n<style scoped>\n    .dataframe tbody tr th:only-of-type {\n        vertical-align: middle;\n    }\n\n    .dataframe tbody tr th {\n        vertical-align: top;\n    }\n\n    .dataframe thead th {\n        text-align: right;\n    }\n</style>\n<table border=\"1\" class=\"dataframe\">\n  <thead>\n    <tr style=\"text-align: right;\">\n      <th></th>\n      <th>id</th>\n      <th>title</th>\n      <th>link</th>\n      <th>author</th>\n      <th>publish_time</th>\n      <th>push_count</th>\n      <th>content</th>\n    </tr>\n  </thead>\n  <tbody>\n    <tr>\n      <th>0</th>\n      <td>6</td>\n      <td>[公告] 2022新年道賀許願區</td>\n      <td>/bbs/Japan_Travel/M.1640975790.A.051.html</td>\n      <td>sinohara</td>\n      <td>2022-01-01 02:36:26</td>\n      <td>10</td>\n      <td>各位版友大家好今年算是無法出國的第二年了或許在座的各位 不論是人在哪邊 都會想回去日本看看不...</td>\n    </tr>\n    <tr>\n      <th>1</th>\n      <td>7</td>\n      <td>[資訊] 長崎觀光指南:舊上海銀行紀念館等</td>\n      <td>/bbs/Japan_Travel/M.1641017275.A.861.html</td>\n      <td>k4851118</td>\n      <td>2022-01-01 14:07:52</td>\n      <td></td>\n      <td>長崎市歷史人文觀光指南:舊香港上海銀行長崎分店紀念館.玳瑁工藝館.須加五五道美術館巴哈姆特小...</td>\n    </tr>\n    <tr>\n      <th>2</th>\n      <td>8</td>\n      <td>Re: [問題] 大家在日本發生過自認最丟臉的事是什麼</td>\n      <td>/bbs/Japan_Travel/M.1641133021.A.761.html</td>\n      <td>tsuneo</td>\n      <td>2022-01-02 22:16:53</td>\n      <td>7</td>\n      <td>※ 引述《fantasycheng (MIT GS)》之銘言：: 之前在美國唸書的時候愛上了...</td>\n    </tr>\n    <tr>\n      <th>3</th>\n      <td>9</td>\n      <td>[住宿] 關西 W大阪 (W Hotel</td>\n      <td>/bbs/Japan_Travel/M.1641198125.A.93F.html</td>\n      <td>iPhone777</td>\n      <td>2022-01-03 16:21:57</td>\n      <td>13</td>\n      <td>新年快樂!!!造訪日期：2121.11從上回寫完佐渡懶人包之後可能精疲力竭，超久都沒碰blo...</td>\n    </tr>\n    <tr>\n      <th>4</th>\n      <td>10</td>\n      <td>[食記] 沖繩恩那村 亀ぬ浜海人料理</td>\n      <td>/bbs/Japan_Travel/M.1641368540.A.CAB.html</td>\n      <td>Sherlock56</td>\n      <td>2022-01-05 15:42:19</td>\n      <td>3</td>\n      <td>店名：亀ぬ浜   地址：沖縄県国頭郡恩納村字恩納419-4 恩納海浜公園那比海灘内  ...</td>\n    </tr>\n    <tr>\n      <th>...</th>\n      <td>...</td>\n      <td>...</td>\n      <td>...</td>\n      <td>...</td>\n      <td>...</td>\n      <td>...</td>\n      <td>...</td>\n    </tr>\n    <tr>\n      <th>6992</th>\n      <td>7045</td>\n      <td>[讓售] 4月24日teamlab 門票2張(可改期)</td>\n      <td>/bbs/Japan_Travel/M.1682173018.A.4AD.html</td>\n      <td>gracelo</td>\n      <td>2023-04-22 22:16:56</td>\n      <td></td>\n      <td>1. 讓售品項：teamlab門票2張（可改入場日期與時段）2. 物品圖片：https://...</td>\n    </tr>\n    <tr>\n      <th>6993</th>\n      <td>7046</td>\n      <td>[問題] 黃金週 京阪行程請益</td>\n      <td>/bbs/Japan_Travel/M.1682173628.A.062.html</td>\n      <td>Jmoe</td>\n      <td>2023-04-22 22:26:55</td>\n      <td>9</td>\n      <td>1. 行程日期：4/28～5/22. 每日行程：Day1:關西機場 → Haruka直達京都...</td>\n    </tr>\n    <tr>\n      <th>6994</th>\n      <td>7047</td>\n      <td>[問題] 北海道旅遊時間抉擇（6月、7月）</td>\n      <td>/bbs/Japan_Travel/M.1682177891.A.FD9.html</td>\n      <td>awihsataw168</td>\n      <td>2023-04-22 23:38:09</td>\n      <td>8</td>\n      <td>旅遊時間：6月底或7月中最近搜尋機票後發現六月底大概一萬，七月中大概兩萬多，由於價差有點大，...</td>\n    </tr>\n    <tr>\n      <th>6995</th>\n      <td>7048</td>\n      <td>[問題] 阪京7天6夜行程請益</td>\n      <td>/bbs/Japan_Travel/M.1682178076.A.ACA.html</td>\n      <td>chumu123</td>\n      <td>2023-04-22 23:41:14</td>\n      <td>4</td>\n      <td>因為是第一次自己出國自由行希望能夠順利，煩請各位指點、提醒需要注意的地方出遊日期：5/30(...</td>\n    </tr>\n    <tr>\n      <th>6996</th>\n      <td>7049</td>\n      <td>[心得]2023日本自駕事故處理介紹（個人經歷）</td>\n      <td>/bbs/Japan_Travel/M.1682178302.A.B37.html</td>\n      <td>sherina</td>\n      <td>2023-04-22 23:44:48</td>\n      <td>10</td>\n      <td>詳細內容資訊參考：https://www.youtube.com/watch?v=kKyn1...</td>\n    </tr>\n  </tbody>\n</table>\n<p>6997 rows × 7 columns</p>\n</div>"
     },
     "execution_count": 8,
     "metadata": {},
     "output_type": "execute_result"
    }
   ],
   "source": [
    "df = df.reset_index(drop=True)\n",
    "df"
   ]
  },
  {
   "cell_type": "code",
   "execution_count": 9,
   "metadata": {
    "collapsed": false,
    "jupyter": {
     "outputs_hidden": false
    },
    "ExecuteTime": {
     "start_time": "2023-04-24T16:13:12.171508Z",
     "end_time": "2023-04-24T16:13:12.181284Z"
    }
   },
   "outputs": [
    {
     "data": {
      "text/plain": "                            title                                       link  \\\n0               [公告] 2022新年道賀許願區   /bbs/Japan_Travel/M.1640975790.A.051.html   \n1           [資訊] 長崎觀光指南:舊上海銀行紀念館等  /bbs/Japan_Travel/M.1641017275.A.861.html   \n2     Re: [問題] 大家在日本發生過自認最丟臉的事是什麼  /bbs/Japan_Travel/M.1641133021.A.761.html   \n3           [住宿] 關西 W大阪 (W Hotel   /bbs/Japan_Travel/M.1641198125.A.93F.html   \n4              [食記] 沖繩恩那村 亀ぬ浜海人料理  /bbs/Japan_Travel/M.1641368540.A.CAB.html   \n...                           ...                                        ...   \n6992  [讓售] 4月24日teamlab 門票2張(可改期)  /bbs/Japan_Travel/M.1682173018.A.4AD.html   \n6993              [問題] 黃金週 京阪行程請益  /bbs/Japan_Travel/M.1682173628.A.062.html   \n6994        [問題] 北海道旅遊時間抉擇（6月、7月）  /bbs/Japan_Travel/M.1682177891.A.FD9.html   \n6995              [問題] 阪京7天6夜行程請益  /bbs/Japan_Travel/M.1682178076.A.ACA.html   \n6996     [心得]2023日本自駕事故處理介紹（個人經歷）  /bbs/Japan_Travel/M.1682178302.A.B37.html   \n\n            author        publish_time push_count  \\\n0         sinohara 2022-01-01 02:36:26         10   \n1         k4851118 2022-01-01 14:07:52              \n2           tsuneo 2022-01-02 22:16:53          7   \n3        iPhone777 2022-01-03 16:21:57         13   \n4       Sherlock56 2022-01-05 15:42:19          3   \n...            ...                 ...        ...   \n6992       gracelo 2023-04-22 22:16:56              \n6993          Jmoe 2023-04-22 22:26:55          9   \n6994  awihsataw168 2023-04-22 23:38:09          8   \n6995      chumu123 2023-04-22 23:41:14          4   \n6996       sherina 2023-04-22 23:44:48         10   \n\n                                                content  \n0     各位版友大家好今年算是無法出國的第二年了或許在座的各位 不論是人在哪邊 都會想回去日本看看不...  \n1     長崎市歷史人文觀光指南:舊香港上海銀行長崎分店紀念館.玳瑁工藝館.須加五五道美術館巴哈姆特小...  \n2     ※ 引述《fantasycheng (MIT GS)》之銘言：: 之前在美國唸書的時候愛上了...  \n3     新年快樂!!!造訪日期：2121.11從上回寫完佐渡懶人包之後可能精疲力竭，超久都沒碰blo...  \n4        店名：亀ぬ浜   地址：沖縄県国頭郡恩納村字恩納419-4 恩納海浜公園那比海灘内  ...  \n...                                                 ...  \n6992  1. 讓售品項：teamlab門票2張（可改入場日期與時段）2. 物品圖片：https://...  \n6993  1. 行程日期：4/28～5/22. 每日行程：Day1:關西機場 → Haruka直達京都...  \n6994  旅遊時間：6月底或7月中最近搜尋機票後發現六月底大概一萬，七月中大概兩萬多，由於價差有點大，...  \n6995  因為是第一次自己出國自由行希望能夠順利，煩請各位指點、提醒需要注意的地方出遊日期：5/30(...  \n6996  詳細內容資訊參考：https://www.youtube.com/watch?v=kKyn1...  \n\n[6997 rows x 6 columns]",
      "text/html": "<div>\n<style scoped>\n    .dataframe tbody tr th:only-of-type {\n        vertical-align: middle;\n    }\n\n    .dataframe tbody tr th {\n        vertical-align: top;\n    }\n\n    .dataframe thead th {\n        text-align: right;\n    }\n</style>\n<table border=\"1\" class=\"dataframe\">\n  <thead>\n    <tr style=\"text-align: right;\">\n      <th></th>\n      <th>title</th>\n      <th>link</th>\n      <th>author</th>\n      <th>publish_time</th>\n      <th>push_count</th>\n      <th>content</th>\n    </tr>\n  </thead>\n  <tbody>\n    <tr>\n      <th>0</th>\n      <td>[公告] 2022新年道賀許願區</td>\n      <td>/bbs/Japan_Travel/M.1640975790.A.051.html</td>\n      <td>sinohara</td>\n      <td>2022-01-01 02:36:26</td>\n      <td>10</td>\n      <td>各位版友大家好今年算是無法出國的第二年了或許在座的各位 不論是人在哪邊 都會想回去日本看看不...</td>\n    </tr>\n    <tr>\n      <th>1</th>\n      <td>[資訊] 長崎觀光指南:舊上海銀行紀念館等</td>\n      <td>/bbs/Japan_Travel/M.1641017275.A.861.html</td>\n      <td>k4851118</td>\n      <td>2022-01-01 14:07:52</td>\n      <td></td>\n      <td>長崎市歷史人文觀光指南:舊香港上海銀行長崎分店紀念館.玳瑁工藝館.須加五五道美術館巴哈姆特小...</td>\n    </tr>\n    <tr>\n      <th>2</th>\n      <td>Re: [問題] 大家在日本發生過自認最丟臉的事是什麼</td>\n      <td>/bbs/Japan_Travel/M.1641133021.A.761.html</td>\n      <td>tsuneo</td>\n      <td>2022-01-02 22:16:53</td>\n      <td>7</td>\n      <td>※ 引述《fantasycheng (MIT GS)》之銘言：: 之前在美國唸書的時候愛上了...</td>\n    </tr>\n    <tr>\n      <th>3</th>\n      <td>[住宿] 關西 W大阪 (W Hotel</td>\n      <td>/bbs/Japan_Travel/M.1641198125.A.93F.html</td>\n      <td>iPhone777</td>\n      <td>2022-01-03 16:21:57</td>\n      <td>13</td>\n      <td>新年快樂!!!造訪日期：2121.11從上回寫完佐渡懶人包之後可能精疲力竭，超久都沒碰blo...</td>\n    </tr>\n    <tr>\n      <th>4</th>\n      <td>[食記] 沖繩恩那村 亀ぬ浜海人料理</td>\n      <td>/bbs/Japan_Travel/M.1641368540.A.CAB.html</td>\n      <td>Sherlock56</td>\n      <td>2022-01-05 15:42:19</td>\n      <td>3</td>\n      <td>店名：亀ぬ浜   地址：沖縄県国頭郡恩納村字恩納419-4 恩納海浜公園那比海灘内  ...</td>\n    </tr>\n    <tr>\n      <th>...</th>\n      <td>...</td>\n      <td>...</td>\n      <td>...</td>\n      <td>...</td>\n      <td>...</td>\n      <td>...</td>\n    </tr>\n    <tr>\n      <th>6992</th>\n      <td>[讓售] 4月24日teamlab 門票2張(可改期)</td>\n      <td>/bbs/Japan_Travel/M.1682173018.A.4AD.html</td>\n      <td>gracelo</td>\n      <td>2023-04-22 22:16:56</td>\n      <td></td>\n      <td>1. 讓售品項：teamlab門票2張（可改入場日期與時段）2. 物品圖片：https://...</td>\n    </tr>\n    <tr>\n      <th>6993</th>\n      <td>[問題] 黃金週 京阪行程請益</td>\n      <td>/bbs/Japan_Travel/M.1682173628.A.062.html</td>\n      <td>Jmoe</td>\n      <td>2023-04-22 22:26:55</td>\n      <td>9</td>\n      <td>1. 行程日期：4/28～5/22. 每日行程：Day1:關西機場 → Haruka直達京都...</td>\n    </tr>\n    <tr>\n      <th>6994</th>\n      <td>[問題] 北海道旅遊時間抉擇（6月、7月）</td>\n      <td>/bbs/Japan_Travel/M.1682177891.A.FD9.html</td>\n      <td>awihsataw168</td>\n      <td>2023-04-22 23:38:09</td>\n      <td>8</td>\n      <td>旅遊時間：6月底或7月中最近搜尋機票後發現六月底大概一萬，七月中大概兩萬多，由於價差有點大，...</td>\n    </tr>\n    <tr>\n      <th>6995</th>\n      <td>[問題] 阪京7天6夜行程請益</td>\n      <td>/bbs/Japan_Travel/M.1682178076.A.ACA.html</td>\n      <td>chumu123</td>\n      <td>2023-04-22 23:41:14</td>\n      <td>4</td>\n      <td>因為是第一次自己出國自由行希望能夠順利，煩請各位指點、提醒需要注意的地方出遊日期：5/30(...</td>\n    </tr>\n    <tr>\n      <th>6996</th>\n      <td>[心得]2023日本自駕事故處理介紹（個人經歷）</td>\n      <td>/bbs/Japan_Travel/M.1682178302.A.B37.html</td>\n      <td>sherina</td>\n      <td>2023-04-22 23:44:48</td>\n      <td>10</td>\n      <td>詳細內容資訊參考：https://www.youtube.com/watch?v=kKyn1...</td>\n    </tr>\n  </tbody>\n</table>\n<p>6997 rows × 6 columns</p>\n</div>"
     },
     "execution_count": 9,
     "metadata": {},
     "output_type": "execute_result"
    }
   ],
   "source": [
    "df = df.drop(['id'], axis=1)\n",
    "df"
   ]
  },
  {
   "cell_type": "code",
   "execution_count": 10,
   "metadata": {
    "collapsed": false,
    "jupyter": {
     "outputs_hidden": false
    },
    "ExecuteTime": {
     "start_time": "2023-04-24T16:13:20.808851Z",
     "end_time": "2023-04-24T16:13:20.811646Z"
    }
   },
   "outputs": [],
   "source": [
    "df['push_count'] = df['push_count'].replace(['','爆'],['0','100'])"
   ]
  },
  {
   "cell_type": "code",
   "execution_count": 11,
   "metadata": {
    "collapsed": false,
    "jupyter": {
     "outputs_hidden": false
    },
    "ExecuteTime": {
     "start_time": "2023-04-24T16:13:22.710032Z",
     "end_time": "2023-04-24T16:13:22.712408Z"
    }
   },
   "outputs": [
    {
     "data": {
      "text/plain": "                            title                                       link  \\\n0               [公告] 2022新年道賀許願區   /bbs/Japan_Travel/M.1640975790.A.051.html   \n1           [資訊] 長崎觀光指南:舊上海銀行紀念館等  /bbs/Japan_Travel/M.1641017275.A.861.html   \n2     Re: [問題] 大家在日本發生過自認最丟臉的事是什麼  /bbs/Japan_Travel/M.1641133021.A.761.html   \n3           [住宿] 關西 W大阪 (W Hotel   /bbs/Japan_Travel/M.1641198125.A.93F.html   \n4              [食記] 沖繩恩那村 亀ぬ浜海人料理  /bbs/Japan_Travel/M.1641368540.A.CAB.html   \n...                           ...                                        ...   \n6992  [讓售] 4月24日teamlab 門票2張(可改期)  /bbs/Japan_Travel/M.1682173018.A.4AD.html   \n6993              [問題] 黃金週 京阪行程請益  /bbs/Japan_Travel/M.1682173628.A.062.html   \n6994        [問題] 北海道旅遊時間抉擇（6月、7月）  /bbs/Japan_Travel/M.1682177891.A.FD9.html   \n6995              [問題] 阪京7天6夜行程請益  /bbs/Japan_Travel/M.1682178076.A.ACA.html   \n6996     [心得]2023日本自駕事故處理介紹（個人經歷）  /bbs/Japan_Travel/M.1682178302.A.B37.html   \n\n            author        publish_time push_count  \\\n0         sinohara 2022-01-01 02:36:26         10   \n1         k4851118 2022-01-01 14:07:52          0   \n2           tsuneo 2022-01-02 22:16:53          7   \n3        iPhone777 2022-01-03 16:21:57         13   \n4       Sherlock56 2022-01-05 15:42:19          3   \n...            ...                 ...        ...   \n6992       gracelo 2023-04-22 22:16:56          0   \n6993          Jmoe 2023-04-22 22:26:55          9   \n6994  awihsataw168 2023-04-22 23:38:09          8   \n6995      chumu123 2023-04-22 23:41:14          4   \n6996       sherina 2023-04-22 23:44:48         10   \n\n                                                content  \n0     各位版友大家好今年算是無法出國的第二年了或許在座的各位 不論是人在哪邊 都會想回去日本看看不...  \n1     長崎市歷史人文觀光指南:舊香港上海銀行長崎分店紀念館.玳瑁工藝館.須加五五道美術館巴哈姆特小...  \n2     ※ 引述《fantasycheng (MIT GS)》之銘言：: 之前在美國唸書的時候愛上了...  \n3     新年快樂!!!造訪日期：2121.11從上回寫完佐渡懶人包之後可能精疲力竭，超久都沒碰blo...  \n4        店名：亀ぬ浜   地址：沖縄県国頭郡恩納村字恩納419-4 恩納海浜公園那比海灘内  ...  \n...                                                 ...  \n6992  1. 讓售品項：teamlab門票2張（可改入場日期與時段）2. 物品圖片：https://...  \n6993  1. 行程日期：4/28～5/22. 每日行程：Day1:關西機場 → Haruka直達京都...  \n6994  旅遊時間：6月底或7月中最近搜尋機票後發現六月底大概一萬，七月中大概兩萬多，由於價差有點大，...  \n6995  因為是第一次自己出國自由行希望能夠順利，煩請各位指點、提醒需要注意的地方出遊日期：5/30(...  \n6996  詳細內容資訊參考：https://www.youtube.com/watch?v=kKyn1...  \n\n[6997 rows x 6 columns]",
      "text/html": "<div>\n<style scoped>\n    .dataframe tbody tr th:only-of-type {\n        vertical-align: middle;\n    }\n\n    .dataframe tbody tr th {\n        vertical-align: top;\n    }\n\n    .dataframe thead th {\n        text-align: right;\n    }\n</style>\n<table border=\"1\" class=\"dataframe\">\n  <thead>\n    <tr style=\"text-align: right;\">\n      <th></th>\n      <th>title</th>\n      <th>link</th>\n      <th>author</th>\n      <th>publish_time</th>\n      <th>push_count</th>\n      <th>content</th>\n    </tr>\n  </thead>\n  <tbody>\n    <tr>\n      <th>0</th>\n      <td>[公告] 2022新年道賀許願區</td>\n      <td>/bbs/Japan_Travel/M.1640975790.A.051.html</td>\n      <td>sinohara</td>\n      <td>2022-01-01 02:36:26</td>\n      <td>10</td>\n      <td>各位版友大家好今年算是無法出國的第二年了或許在座的各位 不論是人在哪邊 都會想回去日本看看不...</td>\n    </tr>\n    <tr>\n      <th>1</th>\n      <td>[資訊] 長崎觀光指南:舊上海銀行紀念館等</td>\n      <td>/bbs/Japan_Travel/M.1641017275.A.861.html</td>\n      <td>k4851118</td>\n      <td>2022-01-01 14:07:52</td>\n      <td>0</td>\n      <td>長崎市歷史人文觀光指南:舊香港上海銀行長崎分店紀念館.玳瑁工藝館.須加五五道美術館巴哈姆特小...</td>\n    </tr>\n    <tr>\n      <th>2</th>\n      <td>Re: [問題] 大家在日本發生過自認最丟臉的事是什麼</td>\n      <td>/bbs/Japan_Travel/M.1641133021.A.761.html</td>\n      <td>tsuneo</td>\n      <td>2022-01-02 22:16:53</td>\n      <td>7</td>\n      <td>※ 引述《fantasycheng (MIT GS)》之銘言：: 之前在美國唸書的時候愛上了...</td>\n    </tr>\n    <tr>\n      <th>3</th>\n      <td>[住宿] 關西 W大阪 (W Hotel</td>\n      <td>/bbs/Japan_Travel/M.1641198125.A.93F.html</td>\n      <td>iPhone777</td>\n      <td>2022-01-03 16:21:57</td>\n      <td>13</td>\n      <td>新年快樂!!!造訪日期：2121.11從上回寫完佐渡懶人包之後可能精疲力竭，超久都沒碰blo...</td>\n    </tr>\n    <tr>\n      <th>4</th>\n      <td>[食記] 沖繩恩那村 亀ぬ浜海人料理</td>\n      <td>/bbs/Japan_Travel/M.1641368540.A.CAB.html</td>\n      <td>Sherlock56</td>\n      <td>2022-01-05 15:42:19</td>\n      <td>3</td>\n      <td>店名：亀ぬ浜   地址：沖縄県国頭郡恩納村字恩納419-4 恩納海浜公園那比海灘内  ...</td>\n    </tr>\n    <tr>\n      <th>...</th>\n      <td>...</td>\n      <td>...</td>\n      <td>...</td>\n      <td>...</td>\n      <td>...</td>\n      <td>...</td>\n    </tr>\n    <tr>\n      <th>6992</th>\n      <td>[讓售] 4月24日teamlab 門票2張(可改期)</td>\n      <td>/bbs/Japan_Travel/M.1682173018.A.4AD.html</td>\n      <td>gracelo</td>\n      <td>2023-04-22 22:16:56</td>\n      <td>0</td>\n      <td>1. 讓售品項：teamlab門票2張（可改入場日期與時段）2. 物品圖片：https://...</td>\n    </tr>\n    <tr>\n      <th>6993</th>\n      <td>[問題] 黃金週 京阪行程請益</td>\n      <td>/bbs/Japan_Travel/M.1682173628.A.062.html</td>\n      <td>Jmoe</td>\n      <td>2023-04-22 22:26:55</td>\n      <td>9</td>\n      <td>1. 行程日期：4/28～5/22. 每日行程：Day1:關西機場 → Haruka直達京都...</td>\n    </tr>\n    <tr>\n      <th>6994</th>\n      <td>[問題] 北海道旅遊時間抉擇（6月、7月）</td>\n      <td>/bbs/Japan_Travel/M.1682177891.A.FD9.html</td>\n      <td>awihsataw168</td>\n      <td>2023-04-22 23:38:09</td>\n      <td>8</td>\n      <td>旅遊時間：6月底或7月中最近搜尋機票後發現六月底大概一萬，七月中大概兩萬多，由於價差有點大，...</td>\n    </tr>\n    <tr>\n      <th>6995</th>\n      <td>[問題] 阪京7天6夜行程請益</td>\n      <td>/bbs/Japan_Travel/M.1682178076.A.ACA.html</td>\n      <td>chumu123</td>\n      <td>2023-04-22 23:41:14</td>\n      <td>4</td>\n      <td>因為是第一次自己出國自由行希望能夠順利，煩請各位指點、提醒需要注意的地方出遊日期：5/30(...</td>\n    </tr>\n    <tr>\n      <th>6996</th>\n      <td>[心得]2023日本自駕事故處理介紹（個人經歷）</td>\n      <td>/bbs/Japan_Travel/M.1682178302.A.B37.html</td>\n      <td>sherina</td>\n      <td>2023-04-22 23:44:48</td>\n      <td>10</td>\n      <td>詳細內容資訊參考：https://www.youtube.com/watch?v=kKyn1...</td>\n    </tr>\n  </tbody>\n</table>\n<p>6997 rows × 6 columns</p>\n</div>"
     },
     "execution_count": 11,
     "metadata": {},
     "output_type": "execute_result"
    }
   ],
   "source": [
    "df"
   ]
  },
  {
   "cell_type": "code",
   "execution_count": 16,
   "metadata": {
    "collapsed": false,
    "jupyter": {
     "outputs_hidden": false
    },
    "ExecuteTime": {
     "start_time": "2023-04-24T16:13:52.418299Z",
     "end_time": "2023-04-24T16:13:52.433756Z"
    }
   },
   "outputs": [
    {
     "data": {
      "text/plain": "                            title                                       link  \\\n0               [公告] 2022新年道賀許願區   /bbs/Japan_Travel/M.1640975790.A.051.html   \n1           [資訊] 長崎觀光指南:舊上海銀行紀念館等  /bbs/Japan_Travel/M.1641017275.A.861.html   \n2     Re: [問題] 大家在日本發生過自認最丟臉的事是什麼  /bbs/Japan_Travel/M.1641133021.A.761.html   \n3           [住宿] 關西 W大阪 (W Hotel   /bbs/Japan_Travel/M.1641198125.A.93F.html   \n4              [食記] 沖繩恩那村 亀ぬ浜海人料理  /bbs/Japan_Travel/M.1641368540.A.CAB.html   \n...                           ...                                        ...   \n6992  [讓售] 4月24日teamlab 門票2張(可改期)  /bbs/Japan_Travel/M.1682173018.A.4AD.html   \n6993              [問題] 黃金週 京阪行程請益  /bbs/Japan_Travel/M.1682173628.A.062.html   \n6994        [問題] 北海道旅遊時間抉擇（6月、7月）  /bbs/Japan_Travel/M.1682177891.A.FD9.html   \n6995              [問題] 阪京7天6夜行程請益  /bbs/Japan_Travel/M.1682178076.A.ACA.html   \n6996     [心得]2023日本自駕事故處理介紹（個人經歷）  /bbs/Japan_Travel/M.1682178302.A.B37.html   \n\n            author        publish_time push_count  \\\n0         sinohara 2022-01-01 02:36:26         10   \n1         k4851118 2022-01-01 14:07:52          0   \n2           tsuneo 2022-01-02 22:16:53          7   \n3        iPhone777 2022-01-03 16:21:57         13   \n4       Sherlock56 2022-01-05 15:42:19          3   \n...            ...                 ...        ...   \n6992       gracelo 2023-04-22 22:16:56          0   \n6993          Jmoe 2023-04-22 22:26:55          9   \n6994  awihsataw168 2023-04-22 23:38:09          8   \n6995      chumu123 2023-04-22 23:41:14          4   \n6996       sherina 2023-04-22 23:44:48         10   \n\n                                                content  \n0     各位版友大家好今年算是無法出國的第二年了或許在座的各位 不論是人在哪邊 都會想回去日本看看不...  \n1     長崎市歷史人文觀光指南:舊香港上海銀行長崎分店紀念館.玳瑁工藝館.須加五五道美術館巴哈姆特小...  \n2     ※ 引述《fantasycheng (MIT GS)》之銘言：: 之前在美國唸書的時候愛上了...  \n3     新年快樂!!!造訪日期：2121.11從上回寫完佐渡懶人包之後可能精疲力竭，超久都沒碰blo...  \n4     店名：亀ぬ浜   地址：沖縄県国頭郡恩納村字恩納419-4 恩納海浜公園那比海灘内   電話...  \n...                                                 ...  \n6992  1. 讓售品項：teamlab門票2張（可改入場日期與時段）2. 物品圖片：https://...  \n6993  1. 行程日期：4/28～5/22. 每日行程：Day1:關西機場 → Haruka直達京都...  \n6994  旅遊時間：6月底或7月中最近搜尋機票後發現六月底大概一萬，七月中大概兩萬多，由於價差有點大，...  \n6995  因為是第一次自己出國自由行希望能夠順利，煩請各位指點、提醒需要注意的地方出遊日期：5/30(...  \n6996  詳細內容資訊參考：https://www.youtube.com/watch?v=kKyn1...  \n\n[6997 rows x 6 columns]",
      "text/html": "<div>\n<style scoped>\n    .dataframe tbody tr th:only-of-type {\n        vertical-align: middle;\n    }\n\n    .dataframe tbody tr th {\n        vertical-align: top;\n    }\n\n    .dataframe thead th {\n        text-align: right;\n    }\n</style>\n<table border=\"1\" class=\"dataframe\">\n  <thead>\n    <tr style=\"text-align: right;\">\n      <th></th>\n      <th>title</th>\n      <th>link</th>\n      <th>author</th>\n      <th>publish_time</th>\n      <th>push_count</th>\n      <th>content</th>\n    </tr>\n  </thead>\n  <tbody>\n    <tr>\n      <th>0</th>\n      <td>[公告] 2022新年道賀許願區</td>\n      <td>/bbs/Japan_Travel/M.1640975790.A.051.html</td>\n      <td>sinohara</td>\n      <td>2022-01-01 02:36:26</td>\n      <td>10</td>\n      <td>各位版友大家好今年算是無法出國的第二年了或許在座的各位 不論是人在哪邊 都會想回去日本看看不...</td>\n    </tr>\n    <tr>\n      <th>1</th>\n      <td>[資訊] 長崎觀光指南:舊上海銀行紀念館等</td>\n      <td>/bbs/Japan_Travel/M.1641017275.A.861.html</td>\n      <td>k4851118</td>\n      <td>2022-01-01 14:07:52</td>\n      <td>0</td>\n      <td>長崎市歷史人文觀光指南:舊香港上海銀行長崎分店紀念館.玳瑁工藝館.須加五五道美術館巴哈姆特小...</td>\n    </tr>\n    <tr>\n      <th>2</th>\n      <td>Re: [問題] 大家在日本發生過自認最丟臉的事是什麼</td>\n      <td>/bbs/Japan_Travel/M.1641133021.A.761.html</td>\n      <td>tsuneo</td>\n      <td>2022-01-02 22:16:53</td>\n      <td>7</td>\n      <td>※ 引述《fantasycheng (MIT GS)》之銘言：: 之前在美國唸書的時候愛上了...</td>\n    </tr>\n    <tr>\n      <th>3</th>\n      <td>[住宿] 關西 W大阪 (W Hotel</td>\n      <td>/bbs/Japan_Travel/M.1641198125.A.93F.html</td>\n      <td>iPhone777</td>\n      <td>2022-01-03 16:21:57</td>\n      <td>13</td>\n      <td>新年快樂!!!造訪日期：2121.11從上回寫完佐渡懶人包之後可能精疲力竭，超久都沒碰blo...</td>\n    </tr>\n    <tr>\n      <th>4</th>\n      <td>[食記] 沖繩恩那村 亀ぬ浜海人料理</td>\n      <td>/bbs/Japan_Travel/M.1641368540.A.CAB.html</td>\n      <td>Sherlock56</td>\n      <td>2022-01-05 15:42:19</td>\n      <td>3</td>\n      <td>店名：亀ぬ浜   地址：沖縄県国頭郡恩納村字恩納419-4 恩納海浜公園那比海灘内   電話...</td>\n    </tr>\n    <tr>\n      <th>...</th>\n      <td>...</td>\n      <td>...</td>\n      <td>...</td>\n      <td>...</td>\n      <td>...</td>\n      <td>...</td>\n    </tr>\n    <tr>\n      <th>6992</th>\n      <td>[讓售] 4月24日teamlab 門票2張(可改期)</td>\n      <td>/bbs/Japan_Travel/M.1682173018.A.4AD.html</td>\n      <td>gracelo</td>\n      <td>2023-04-22 22:16:56</td>\n      <td>0</td>\n      <td>1. 讓售品項：teamlab門票2張（可改入場日期與時段）2. 物品圖片：https://...</td>\n    </tr>\n    <tr>\n      <th>6993</th>\n      <td>[問題] 黃金週 京阪行程請益</td>\n      <td>/bbs/Japan_Travel/M.1682173628.A.062.html</td>\n      <td>Jmoe</td>\n      <td>2023-04-22 22:26:55</td>\n      <td>9</td>\n      <td>1. 行程日期：4/28～5/22. 每日行程：Day1:關西機場 → Haruka直達京都...</td>\n    </tr>\n    <tr>\n      <th>6994</th>\n      <td>[問題] 北海道旅遊時間抉擇（6月、7月）</td>\n      <td>/bbs/Japan_Travel/M.1682177891.A.FD9.html</td>\n      <td>awihsataw168</td>\n      <td>2023-04-22 23:38:09</td>\n      <td>8</td>\n      <td>旅遊時間：6月底或7月中最近搜尋機票後發現六月底大概一萬，七月中大概兩萬多，由於價差有點大，...</td>\n    </tr>\n    <tr>\n      <th>6995</th>\n      <td>[問題] 阪京7天6夜行程請益</td>\n      <td>/bbs/Japan_Travel/M.1682178076.A.ACA.html</td>\n      <td>chumu123</td>\n      <td>2023-04-22 23:41:14</td>\n      <td>4</td>\n      <td>因為是第一次自己出國自由行希望能夠順利，煩請各位指點、提醒需要注意的地方出遊日期：5/30(...</td>\n    </tr>\n    <tr>\n      <th>6996</th>\n      <td>[心得]2023日本自駕事故處理介紹（個人經歷）</td>\n      <td>/bbs/Japan_Travel/M.1682178302.A.B37.html</td>\n      <td>sherina</td>\n      <td>2023-04-22 23:44:48</td>\n      <td>10</td>\n      <td>詳細內容資訊參考：https://www.youtube.com/watch?v=kKyn1...</td>\n    </tr>\n  </tbody>\n</table>\n<p>6997 rows × 6 columns</p>\n</div>"
     },
     "execution_count": 16,
     "metadata": {},
     "output_type": "execute_result"
    }
   ],
   "source": [
    "df['content'] = df['content'].str.strip()\n",
    "df"
   ]
  },
  {
   "cell_type": "code",
   "execution_count": 17,
   "metadata": {
    "collapsed": false,
    "jupyter": {
     "outputs_hidden": false
    },
    "ExecuteTime": {
     "start_time": "2023-04-24T16:13:56.721626Z",
     "end_time": "2023-04-24T16:13:56.762992Z"
    }
   },
   "outputs": [
    {
     "data": {
      "text/plain": "                            title                                       link  \\\n0               [公告] 2022新年道賀許願區   /bbs/Japan_Travel/M.1640975790.A.051.html   \n1           [資訊] 長崎觀光指南:舊上海銀行紀念館等  /bbs/Japan_Travel/M.1641017275.A.861.html   \n2     Re: [問題] 大家在日本發生過自認最丟臉的事是什麼  /bbs/Japan_Travel/M.1641133021.A.761.html   \n3           [住宿] 關西 W大阪 (W Hotel   /bbs/Japan_Travel/M.1641198125.A.93F.html   \n4              [食記] 沖繩恩那村 亀ぬ浜海人料理  /bbs/Japan_Travel/M.1641368540.A.CAB.html   \n...                           ...                                        ...   \n6992  [讓售] 4月24日teamlab 門票2張(可改期)  /bbs/Japan_Travel/M.1682173018.A.4AD.html   \n6993              [問題] 黃金週 京阪行程請益  /bbs/Japan_Travel/M.1682173628.A.062.html   \n6994        [問題] 北海道旅遊時間抉擇（6月、7月）  /bbs/Japan_Travel/M.1682177891.A.FD9.html   \n6995              [問題] 阪京7天6夜行程請益  /bbs/Japan_Travel/M.1682178076.A.ACA.html   \n6996     [心得]2023日本自駕事故處理介紹（個人經歷）  /bbs/Japan_Travel/M.1682178302.A.B37.html   \n\n            author        publish_time push_count  \\\n0         sinohara 2022-01-01 02:36:26         10   \n1         k4851118 2022-01-01 14:07:52          0   \n2           tsuneo 2022-01-02 22:16:53          7   \n3        iPhone777 2022-01-03 16:21:57         13   \n4       Sherlock56 2022-01-05 15:42:19          3   \n...            ...                 ...        ...   \n6992       gracelo 2023-04-22 22:16:56          0   \n6993          Jmoe 2023-04-22 22:26:55          9   \n6994  awihsataw168 2023-04-22 23:38:09          8   \n6995      chumu123 2023-04-22 23:41:14          4   \n6996       sherina 2023-04-22 23:44:48         10   \n\n                                                content  \n0     各位版友大家好今年算是無法出國的第二年了或許在座的各位 不論是人在哪邊 都會想回去日本看看不...  \n1     長崎市歷史人文觀光指南:舊香港上海銀行長崎分店紀念館.玳瑁工藝館.須加五五道美術館巴哈姆特小...  \n2     ※ 引述《fantasycheng (MIT GS)》之銘言：: 之前在美國唸書的時候愛上了...  \n3     新年快樂!!!造訪日期：2121.11從上回寫完佐渡懶人包之後可能精疲力竭，超久都沒碰blo...  \n4     店名：亀ぬ浜   地址：沖縄県国頭郡恩納村字恩納419-4 恩納海浜公園那比海灘内   電話...  \n...                                                 ...  \n6992  1. 讓售品項：teamlab門票2張（可改入場日期與時段）2. 物品圖片：https://...  \n6993  1. 行程日期：4/28～5/22. 每日行程：Day1:關西機場 → Haruka直達京都...  \n6994  旅遊時間：6月底或7月中最近搜尋機票後發現六月底大概一萬，七月中大概兩萬多，由於價差有點大，...  \n6995  因為是第一次自己出國自由行希望能夠順利，煩請各位指點、提醒需要注意的地方出遊日期：5/30(...  \n6996  詳細內容資訊參考：https://www.youtube.com/watch?v=kKyn1...  \n\n[6997 rows x 6 columns]",
      "text/html": "<div>\n<style scoped>\n    .dataframe tbody tr th:only-of-type {\n        vertical-align: middle;\n    }\n\n    .dataframe tbody tr th {\n        vertical-align: top;\n    }\n\n    .dataframe thead th {\n        text-align: right;\n    }\n</style>\n<table border=\"1\" class=\"dataframe\">\n  <thead>\n    <tr style=\"text-align: right;\">\n      <th></th>\n      <th>title</th>\n      <th>link</th>\n      <th>author</th>\n      <th>publish_time</th>\n      <th>push_count</th>\n      <th>content</th>\n    </tr>\n  </thead>\n  <tbody>\n    <tr>\n      <th>0</th>\n      <td>[公告] 2022新年道賀許願區</td>\n      <td>/bbs/Japan_Travel/M.1640975790.A.051.html</td>\n      <td>sinohara</td>\n      <td>2022-01-01 02:36:26</td>\n      <td>10</td>\n      <td>各位版友大家好今年算是無法出國的第二年了或許在座的各位 不論是人在哪邊 都會想回去日本看看不...</td>\n    </tr>\n    <tr>\n      <th>1</th>\n      <td>[資訊] 長崎觀光指南:舊上海銀行紀念館等</td>\n      <td>/bbs/Japan_Travel/M.1641017275.A.861.html</td>\n      <td>k4851118</td>\n      <td>2022-01-01 14:07:52</td>\n      <td>0</td>\n      <td>長崎市歷史人文觀光指南:舊香港上海銀行長崎分店紀念館.玳瑁工藝館.須加五五道美術館巴哈姆特小...</td>\n    </tr>\n    <tr>\n      <th>2</th>\n      <td>Re: [問題] 大家在日本發生過自認最丟臉的事是什麼</td>\n      <td>/bbs/Japan_Travel/M.1641133021.A.761.html</td>\n      <td>tsuneo</td>\n      <td>2022-01-02 22:16:53</td>\n      <td>7</td>\n      <td>※ 引述《fantasycheng (MIT GS)》之銘言：: 之前在美國唸書的時候愛上了...</td>\n    </tr>\n    <tr>\n      <th>3</th>\n      <td>[住宿] 關西 W大阪 (W Hotel</td>\n      <td>/bbs/Japan_Travel/M.1641198125.A.93F.html</td>\n      <td>iPhone777</td>\n      <td>2022-01-03 16:21:57</td>\n      <td>13</td>\n      <td>新年快樂!!!造訪日期：2121.11從上回寫完佐渡懶人包之後可能精疲力竭，超久都沒碰blo...</td>\n    </tr>\n    <tr>\n      <th>4</th>\n      <td>[食記] 沖繩恩那村 亀ぬ浜海人料理</td>\n      <td>/bbs/Japan_Travel/M.1641368540.A.CAB.html</td>\n      <td>Sherlock56</td>\n      <td>2022-01-05 15:42:19</td>\n      <td>3</td>\n      <td>店名：亀ぬ浜   地址：沖縄県国頭郡恩納村字恩納419-4 恩納海浜公園那比海灘内   電話...</td>\n    </tr>\n    <tr>\n      <th>...</th>\n      <td>...</td>\n      <td>...</td>\n      <td>...</td>\n      <td>...</td>\n      <td>...</td>\n      <td>...</td>\n    </tr>\n    <tr>\n      <th>6992</th>\n      <td>[讓售] 4月24日teamlab 門票2張(可改期)</td>\n      <td>/bbs/Japan_Travel/M.1682173018.A.4AD.html</td>\n      <td>gracelo</td>\n      <td>2023-04-22 22:16:56</td>\n      <td>0</td>\n      <td>1. 讓售品項：teamlab門票2張（可改入場日期與時段）2. 物品圖片：https://...</td>\n    </tr>\n    <tr>\n      <th>6993</th>\n      <td>[問題] 黃金週 京阪行程請益</td>\n      <td>/bbs/Japan_Travel/M.1682173628.A.062.html</td>\n      <td>Jmoe</td>\n      <td>2023-04-22 22:26:55</td>\n      <td>9</td>\n      <td>1. 行程日期：4/28～5/22. 每日行程：Day1:關西機場 → Haruka直達京都...</td>\n    </tr>\n    <tr>\n      <th>6994</th>\n      <td>[問題] 北海道旅遊時間抉擇（6月、7月）</td>\n      <td>/bbs/Japan_Travel/M.1682177891.A.FD9.html</td>\n      <td>awihsataw168</td>\n      <td>2023-04-22 23:38:09</td>\n      <td>8</td>\n      <td>旅遊時間：6月底或7月中最近搜尋機票後發現六月底大概一萬，七月中大概兩萬多，由於價差有點大，...</td>\n    </tr>\n    <tr>\n      <th>6995</th>\n      <td>[問題] 阪京7天6夜行程請益</td>\n      <td>/bbs/Japan_Travel/M.1682178076.A.ACA.html</td>\n      <td>chumu123</td>\n      <td>2023-04-22 23:41:14</td>\n      <td>4</td>\n      <td>因為是第一次自己出國自由行希望能夠順利，煩請各位指點、提醒需要注意的地方出遊日期：5/30(...</td>\n    </tr>\n    <tr>\n      <th>6996</th>\n      <td>[心得]2023日本自駕事故處理介紹（個人經歷）</td>\n      <td>/bbs/Japan_Travel/M.1682178302.A.B37.html</td>\n      <td>sherina</td>\n      <td>2023-04-22 23:44:48</td>\n      <td>10</td>\n      <td>詳細內容資訊參考：https://www.youtube.com/watch?v=kKyn1...</td>\n    </tr>\n  </tbody>\n</table>\n<p>6997 rows × 6 columns</p>\n</div>"
     },
     "execution_count": 17,
     "metadata": {},
     "output_type": "execute_result"
    }
   ],
   "source": [
    "df['content'] = df['content'].str.strip('')\n",
    "df"
   ]
  },
  {
   "cell_type": "code",
   "execution_count": 18,
   "metadata": {
    "collapsed": false,
    "jupyter": {
     "outputs_hidden": false
    },
    "ExecuteTime": {
     "start_time": "2023-04-24T16:14:01.335619Z",
     "end_time": "2023-04-24T16:14:01.408126Z"
    }
   },
   "outputs": [],
   "source": [
    "df.to_csv('./ptt_jptrvl_post_new.csv', encoding='utf-8', sep=',', index=False)"
   ]
  },
  {
   "cell_type": "markdown",
   "source": [
    "# Change publish time to date"
   ],
   "metadata": {
    "collapsed": false
   }
  },
  {
   "cell_type": "code",
   "execution_count": 2,
   "outputs": [
    {
     "data": {
      "text/plain": "                            title                                       link   \n0               [公告] 2022新年道賀許願區   /bbs/Japan_Travel/M.1640975790.A.051.html  \\\n1           [資訊] 長崎觀光指南:舊上海銀行紀念館等  /bbs/Japan_Travel/M.1641017275.A.861.html   \n2     Re: [問題] 大家在日本發生過自認最丟臉的事是什麼  /bbs/Japan_Travel/M.1641133021.A.761.html   \n3           [住宿] 關西 W大阪 (W Hotel   /bbs/Japan_Travel/M.1641198125.A.93F.html   \n4              [食記] 沖繩恩那村 亀ぬ浜海人料理  /bbs/Japan_Travel/M.1641368540.A.CAB.html   \n...                           ...                                        ...   \n6992  [讓售] 4月24日teamlab 門票2張(可改期)  /bbs/Japan_Travel/M.1682173018.A.4AD.html   \n6993              [問題] 黃金週 京阪行程請益  /bbs/Japan_Travel/M.1682173628.A.062.html   \n6994        [問題] 北海道旅遊時間抉擇（6月、7月）  /bbs/Japan_Travel/M.1682177891.A.FD9.html   \n6995              [問題] 阪京7天6夜行程請益  /bbs/Japan_Travel/M.1682178076.A.ACA.html   \n6996     [心得]2023日本自駕事故處理介紹（個人經歷）  /bbs/Japan_Travel/M.1682178302.A.B37.html   \n\n            author         publish_time push_count   \n0         sinohara  2022-01-01 02:36:26         10  \\\n1         k4851118  2022-01-01 14:07:52          0   \n2           tsuneo  2022-01-02 22:16:53          7   \n3        iPhone777  2022-01-03 16:21:57         13   \n4       Sherlock56  2022-01-05 15:42:19          3   \n...            ...                  ...        ...   \n6992       gracelo  2023-04-22 22:16:56          0   \n6993          Jmoe  2023-04-22 22:26:55          9   \n6994  awihsataw168  2023-04-22 23:38:09          8   \n6995      chumu123  2023-04-22 23:41:14          4   \n6996       sherina  2023-04-22 23:44:48         10   \n\n                                                content  \n0     各位版友大家好今年算是無法出國的第二年了或許在座的各位 不論是人在哪邊 都會想回去日本看看不...  \n1     長崎市歷史人文觀光指南:舊香港上海銀行長崎分店紀念館.玳瑁工藝館.須加五五道美術館巴哈姆特小...  \n2     ※ 引述《fantasycheng (MIT GS)》之銘言：: 之前在美國唸書的時候愛上了...  \n3     新年快樂!!!造訪日期：2121.11從上回寫完佐渡懶人包之後可能精疲力竭，超久都沒碰blo...  \n4     店名：亀ぬ浜   地址：沖縄県国頭郡恩納村字恩納419-4 恩納海浜公園那比海灘内   電話...  \n...                                                 ...  \n6992  1. 讓售品項：teamlab門票2張（可改入場日期與時段）2. 物品圖片：https://...  \n6993  1. 行程日期：4/28～5/22. 每日行程：Day1:關西機場 → Haruka直達京都...  \n6994  旅遊時間：6月底或7月中最近搜尋機票後發現六月底大概一萬，七月中大概兩萬多，由於價差有點大，...  \n6995  因為是第一次自己出國自由行希望能夠順利，煩請各位指點、提醒需要注意的地方出遊日期：5/30(...  \n6996  詳細內容資訊參考：https://www.youtube.com/watch?v=kKyn1...  \n\n[6997 rows x 6 columns]",
      "text/html": "<div>\n<style scoped>\n    .dataframe tbody tr th:only-of-type {\n        vertical-align: middle;\n    }\n\n    .dataframe tbody tr th {\n        vertical-align: top;\n    }\n\n    .dataframe thead th {\n        text-align: right;\n    }\n</style>\n<table border=\"1\" class=\"dataframe\">\n  <thead>\n    <tr style=\"text-align: right;\">\n      <th></th>\n      <th>title</th>\n      <th>link</th>\n      <th>author</th>\n      <th>publish_time</th>\n      <th>push_count</th>\n      <th>content</th>\n    </tr>\n  </thead>\n  <tbody>\n    <tr>\n      <th>0</th>\n      <td>[公告] 2022新年道賀許願區</td>\n      <td>/bbs/Japan_Travel/M.1640975790.A.051.html</td>\n      <td>sinohara</td>\n      <td>2022-01-01 02:36:26</td>\n      <td>10</td>\n      <td>各位版友大家好今年算是無法出國的第二年了或許在座的各位 不論是人在哪邊 都會想回去日本看看不...</td>\n    </tr>\n    <tr>\n      <th>1</th>\n      <td>[資訊] 長崎觀光指南:舊上海銀行紀念館等</td>\n      <td>/bbs/Japan_Travel/M.1641017275.A.861.html</td>\n      <td>k4851118</td>\n      <td>2022-01-01 14:07:52</td>\n      <td>0</td>\n      <td>長崎市歷史人文觀光指南:舊香港上海銀行長崎分店紀念館.玳瑁工藝館.須加五五道美術館巴哈姆特小...</td>\n    </tr>\n    <tr>\n      <th>2</th>\n      <td>Re: [問題] 大家在日本發生過自認最丟臉的事是什麼</td>\n      <td>/bbs/Japan_Travel/M.1641133021.A.761.html</td>\n      <td>tsuneo</td>\n      <td>2022-01-02 22:16:53</td>\n      <td>7</td>\n      <td>※ 引述《fantasycheng (MIT GS)》之銘言：: 之前在美國唸書的時候愛上了...</td>\n    </tr>\n    <tr>\n      <th>3</th>\n      <td>[住宿] 關西 W大阪 (W Hotel</td>\n      <td>/bbs/Japan_Travel/M.1641198125.A.93F.html</td>\n      <td>iPhone777</td>\n      <td>2022-01-03 16:21:57</td>\n      <td>13</td>\n      <td>新年快樂!!!造訪日期：2121.11從上回寫完佐渡懶人包之後可能精疲力竭，超久都沒碰blo...</td>\n    </tr>\n    <tr>\n      <th>4</th>\n      <td>[食記] 沖繩恩那村 亀ぬ浜海人料理</td>\n      <td>/bbs/Japan_Travel/M.1641368540.A.CAB.html</td>\n      <td>Sherlock56</td>\n      <td>2022-01-05 15:42:19</td>\n      <td>3</td>\n      <td>店名：亀ぬ浜   地址：沖縄県国頭郡恩納村字恩納419-4 恩納海浜公園那比海灘内   電話...</td>\n    </tr>\n    <tr>\n      <th>...</th>\n      <td>...</td>\n      <td>...</td>\n      <td>...</td>\n      <td>...</td>\n      <td>...</td>\n      <td>...</td>\n    </tr>\n    <tr>\n      <th>6992</th>\n      <td>[讓售] 4月24日teamlab 門票2張(可改期)</td>\n      <td>/bbs/Japan_Travel/M.1682173018.A.4AD.html</td>\n      <td>gracelo</td>\n      <td>2023-04-22 22:16:56</td>\n      <td>0</td>\n      <td>1. 讓售品項：teamlab門票2張（可改入場日期與時段）2. 物品圖片：https://...</td>\n    </tr>\n    <tr>\n      <th>6993</th>\n      <td>[問題] 黃金週 京阪行程請益</td>\n      <td>/bbs/Japan_Travel/M.1682173628.A.062.html</td>\n      <td>Jmoe</td>\n      <td>2023-04-22 22:26:55</td>\n      <td>9</td>\n      <td>1. 行程日期：4/28～5/22. 每日行程：Day1:關西機場 → Haruka直達京都...</td>\n    </tr>\n    <tr>\n      <th>6994</th>\n      <td>[問題] 北海道旅遊時間抉擇（6月、7月）</td>\n      <td>/bbs/Japan_Travel/M.1682177891.A.FD9.html</td>\n      <td>awihsataw168</td>\n      <td>2023-04-22 23:38:09</td>\n      <td>8</td>\n      <td>旅遊時間：6月底或7月中最近搜尋機票後發現六月底大概一萬，七月中大概兩萬多，由於價差有點大，...</td>\n    </tr>\n    <tr>\n      <th>6995</th>\n      <td>[問題] 阪京7天6夜行程請益</td>\n      <td>/bbs/Japan_Travel/M.1682178076.A.ACA.html</td>\n      <td>chumu123</td>\n      <td>2023-04-22 23:41:14</td>\n      <td>4</td>\n      <td>因為是第一次自己出國自由行希望能夠順利，煩請各位指點、提醒需要注意的地方出遊日期：5/30(...</td>\n    </tr>\n    <tr>\n      <th>6996</th>\n      <td>[心得]2023日本自駕事故處理介紹（個人經歷）</td>\n      <td>/bbs/Japan_Travel/M.1682178302.A.B37.html</td>\n      <td>sherina</td>\n      <td>2023-04-22 23:44:48</td>\n      <td>10</td>\n      <td>詳細內容資訊參考：https://www.youtube.com/watch?v=kKyn1...</td>\n    </tr>\n  </tbody>\n</table>\n<p>6997 rows × 6 columns</p>\n</div>"
     },
     "execution_count": 2,
     "metadata": {},
     "output_type": "execute_result"
    }
   ],
   "source": [
    "df = pd.read_csv('ptt_jptrvl_post_new.csv', encoding='utf-8', index_col=False)\n",
    "df"
   ],
   "metadata": {
    "collapsed": false,
    "ExecuteTime": {
     "end_time": "2023-05-16T09:31:01.962655886Z",
     "start_time": "2023-05-16T09:31:01.885277563Z"
    }
   }
  },
  {
   "cell_type": "code",
   "execution_count": 6,
   "outputs": [
    {
     "data": {
      "text/plain": "                            title                                       link   \n0               [公告] 2022新年道賀許願區   /bbs/Japan_Travel/M.1640975790.A.051.html  \\\n1           [資訊] 長崎觀光指南:舊上海銀行紀念館等  /bbs/Japan_Travel/M.1641017275.A.861.html   \n2     Re: [問題] 大家在日本發生過自認最丟臉的事是什麼  /bbs/Japan_Travel/M.1641133021.A.761.html   \n3           [住宿] 關西 W大阪 (W Hotel   /bbs/Japan_Travel/M.1641198125.A.93F.html   \n4              [食記] 沖繩恩那村 亀ぬ浜海人料理  /bbs/Japan_Travel/M.1641368540.A.CAB.html   \n...                           ...                                        ...   \n6992  [讓售] 4月24日teamlab 門票2張(可改期)  /bbs/Japan_Travel/M.1682173018.A.4AD.html   \n6993              [問題] 黃金週 京阪行程請益  /bbs/Japan_Travel/M.1682173628.A.062.html   \n6994        [問題] 北海道旅遊時間抉擇（6月、7月）  /bbs/Japan_Travel/M.1682177891.A.FD9.html   \n6995              [問題] 阪京7天6夜行程請益  /bbs/Japan_Travel/M.1682178076.A.ACA.html   \n6996     [心得]2023日本自駕事故處理介紹（個人經歷）  /bbs/Japan_Travel/M.1682178302.A.B37.html   \n\n            author         publish_time push_count   \n0         sinohara  2022-01-01 02:36:26         10  \\\n1         k4851118  2022-01-01 14:07:52          0   \n2           tsuneo  2022-01-02 22:16:53          7   \n3        iPhone777  2022-01-03 16:21:57         13   \n4       Sherlock56  2022-01-05 15:42:19          3   \n...            ...                  ...        ...   \n6992       gracelo  2023-04-22 22:16:56          0   \n6993          Jmoe  2023-04-22 22:26:55          9   \n6994  awihsataw168  2023-04-22 23:38:09          8   \n6995      chumu123  2023-04-22 23:41:14          4   \n6996       sherina  2023-04-22 23:44:48         10   \n\n                                                content        date      time  \n0     各位版友大家好今年算是無法出國的第二年了或許在座的各位 不論是人在哪邊 都會想回去日本看看不...  2022-01-01  02:36:26  \n1     長崎市歷史人文觀光指南:舊香港上海銀行長崎分店紀念館.玳瑁工藝館.須加五五道美術館巴哈姆特小...  2022-01-01  14:07:52  \n2     ※ 引述《fantasycheng (MIT GS)》之銘言：: 之前在美國唸書的時候愛上了...  2022-01-02  22:16:53  \n3     新年快樂!!!造訪日期：2121.11從上回寫完佐渡懶人包之後可能精疲力竭，超久都沒碰blo...  2022-01-03  16:21:57  \n4     店名：亀ぬ浜   地址：沖縄県国頭郡恩納村字恩納419-4 恩納海浜公園那比海灘内   電話...  2022-01-05  15:42:19  \n...                                                 ...         ...       ...  \n6992  1. 讓售品項：teamlab門票2張（可改入場日期與時段）2. 物品圖片：https://...  2023-04-22  22:16:56  \n6993  1. 行程日期：4/28～5/22. 每日行程：Day1:關西機場 → Haruka直達京都...  2023-04-22  22:26:55  \n6994  旅遊時間：6月底或7月中最近搜尋機票後發現六月底大概一萬，七月中大概兩萬多，由於價差有點大，...  2023-04-22  23:38:09  \n6995  因為是第一次自己出國自由行希望能夠順利，煩請各位指點、提醒需要注意的地方出遊日期：5/30(...  2023-04-22  23:41:14  \n6996  詳細內容資訊參考：https://www.youtube.com/watch?v=kKyn1...  2023-04-22  23:44:48  \n\n[6997 rows x 8 columns]",
      "text/html": "<div>\n<style scoped>\n    .dataframe tbody tr th:only-of-type {\n        vertical-align: middle;\n    }\n\n    .dataframe tbody tr th {\n        vertical-align: top;\n    }\n\n    .dataframe thead th {\n        text-align: right;\n    }\n</style>\n<table border=\"1\" class=\"dataframe\">\n  <thead>\n    <tr style=\"text-align: right;\">\n      <th></th>\n      <th>title</th>\n      <th>link</th>\n      <th>author</th>\n      <th>publish_time</th>\n      <th>push_count</th>\n      <th>content</th>\n      <th>date</th>\n      <th>time</th>\n    </tr>\n  </thead>\n  <tbody>\n    <tr>\n      <th>0</th>\n      <td>[公告] 2022新年道賀許願區</td>\n      <td>/bbs/Japan_Travel/M.1640975790.A.051.html</td>\n      <td>sinohara</td>\n      <td>2022-01-01 02:36:26</td>\n      <td>10</td>\n      <td>各位版友大家好今年算是無法出國的第二年了或許在座的各位 不論是人在哪邊 都會想回去日本看看不...</td>\n      <td>2022-01-01</td>\n      <td>02:36:26</td>\n    </tr>\n    <tr>\n      <th>1</th>\n      <td>[資訊] 長崎觀光指南:舊上海銀行紀念館等</td>\n      <td>/bbs/Japan_Travel/M.1641017275.A.861.html</td>\n      <td>k4851118</td>\n      <td>2022-01-01 14:07:52</td>\n      <td>0</td>\n      <td>長崎市歷史人文觀光指南:舊香港上海銀行長崎分店紀念館.玳瑁工藝館.須加五五道美術館巴哈姆特小...</td>\n      <td>2022-01-01</td>\n      <td>14:07:52</td>\n    </tr>\n    <tr>\n      <th>2</th>\n      <td>Re: [問題] 大家在日本發生過自認最丟臉的事是什麼</td>\n      <td>/bbs/Japan_Travel/M.1641133021.A.761.html</td>\n      <td>tsuneo</td>\n      <td>2022-01-02 22:16:53</td>\n      <td>7</td>\n      <td>※ 引述《fantasycheng (MIT GS)》之銘言：: 之前在美國唸書的時候愛上了...</td>\n      <td>2022-01-02</td>\n      <td>22:16:53</td>\n    </tr>\n    <tr>\n      <th>3</th>\n      <td>[住宿] 關西 W大阪 (W Hotel</td>\n      <td>/bbs/Japan_Travel/M.1641198125.A.93F.html</td>\n      <td>iPhone777</td>\n      <td>2022-01-03 16:21:57</td>\n      <td>13</td>\n      <td>新年快樂!!!造訪日期：2121.11從上回寫完佐渡懶人包之後可能精疲力竭，超久都沒碰blo...</td>\n      <td>2022-01-03</td>\n      <td>16:21:57</td>\n    </tr>\n    <tr>\n      <th>4</th>\n      <td>[食記] 沖繩恩那村 亀ぬ浜海人料理</td>\n      <td>/bbs/Japan_Travel/M.1641368540.A.CAB.html</td>\n      <td>Sherlock56</td>\n      <td>2022-01-05 15:42:19</td>\n      <td>3</td>\n      <td>店名：亀ぬ浜   地址：沖縄県国頭郡恩納村字恩納419-4 恩納海浜公園那比海灘内   電話...</td>\n      <td>2022-01-05</td>\n      <td>15:42:19</td>\n    </tr>\n    <tr>\n      <th>...</th>\n      <td>...</td>\n      <td>...</td>\n      <td>...</td>\n      <td>...</td>\n      <td>...</td>\n      <td>...</td>\n      <td>...</td>\n      <td>...</td>\n    </tr>\n    <tr>\n      <th>6992</th>\n      <td>[讓售] 4月24日teamlab 門票2張(可改期)</td>\n      <td>/bbs/Japan_Travel/M.1682173018.A.4AD.html</td>\n      <td>gracelo</td>\n      <td>2023-04-22 22:16:56</td>\n      <td>0</td>\n      <td>1. 讓售品項：teamlab門票2張（可改入場日期與時段）2. 物品圖片：https://...</td>\n      <td>2023-04-22</td>\n      <td>22:16:56</td>\n    </tr>\n    <tr>\n      <th>6993</th>\n      <td>[問題] 黃金週 京阪行程請益</td>\n      <td>/bbs/Japan_Travel/M.1682173628.A.062.html</td>\n      <td>Jmoe</td>\n      <td>2023-04-22 22:26:55</td>\n      <td>9</td>\n      <td>1. 行程日期：4/28～5/22. 每日行程：Day1:關西機場 → Haruka直達京都...</td>\n      <td>2023-04-22</td>\n      <td>22:26:55</td>\n    </tr>\n    <tr>\n      <th>6994</th>\n      <td>[問題] 北海道旅遊時間抉擇（6月、7月）</td>\n      <td>/bbs/Japan_Travel/M.1682177891.A.FD9.html</td>\n      <td>awihsataw168</td>\n      <td>2023-04-22 23:38:09</td>\n      <td>8</td>\n      <td>旅遊時間：6月底或7月中最近搜尋機票後發現六月底大概一萬，七月中大概兩萬多，由於價差有點大，...</td>\n      <td>2023-04-22</td>\n      <td>23:38:09</td>\n    </tr>\n    <tr>\n      <th>6995</th>\n      <td>[問題] 阪京7天6夜行程請益</td>\n      <td>/bbs/Japan_Travel/M.1682178076.A.ACA.html</td>\n      <td>chumu123</td>\n      <td>2023-04-22 23:41:14</td>\n      <td>4</td>\n      <td>因為是第一次自己出國自由行希望能夠順利，煩請各位指點、提醒需要注意的地方出遊日期：5/30(...</td>\n      <td>2023-04-22</td>\n      <td>23:41:14</td>\n    </tr>\n    <tr>\n      <th>6996</th>\n      <td>[心得]2023日本自駕事故處理介紹（個人經歷）</td>\n      <td>/bbs/Japan_Travel/M.1682178302.A.B37.html</td>\n      <td>sherina</td>\n      <td>2023-04-22 23:44:48</td>\n      <td>10</td>\n      <td>詳細內容資訊參考：https://www.youtube.com/watch?v=kKyn1...</td>\n      <td>2023-04-22</td>\n      <td>23:44:48</td>\n    </tr>\n  </tbody>\n</table>\n<p>6997 rows × 8 columns</p>\n</div>"
     },
     "execution_count": 6,
     "metadata": {},
     "output_type": "execute_result"
    }
   ],
   "source": [
    "# if publish_time is a timestamp it could work but it is a string\n",
    "#df['date'] = [p.date() for p in df['publish_time']]\n",
    "#df['time'] = [p.time() for p in df['publish_time']]\n",
    "#df\n",
    "\n",
    "df[['date', 'time']] = df['publish_time'].str.split(' ', expand=True)\n",
    "df"
   ],
   "metadata": {
    "collapsed": false,
    "ExecuteTime": {
     "end_time": "2023-05-16T11:52:55.366408950Z",
     "start_time": "2023-05-16T11:52:55.319431764Z"
    }
   }
  },
  {
   "cell_type": "code",
   "execution_count": 7,
   "outputs": [],
   "source": [
    "df.to_csv('./jptrvl_post_time.csv', encoding='utf-8', sep=',', index=False)"
   ],
   "metadata": {
    "collapsed": false,
    "ExecuteTime": {
     "end_time": "2023-05-16T11:54:29.274820033Z",
     "start_time": "2023-05-16T11:54:29.207223762Z"
    }
   }
  },
  {
   "cell_type": "markdown",
   "metadata": {},
   "source": [
    "# CSV Word Segmentation"
   ]
  },
  {
   "cell_type": "code",
   "execution_count": 26,
   "metadata": {
    "collapsed": false,
    "jupyter": {
     "outputs_hidden": false
    },
    "ExecuteTime": {
     "start_time": "2023-04-24T17:37:18.918573Z",
     "end_time": "2023-04-24T17:37:18.988990Z"
    }
   },
   "outputs": [
    {
     "data": {
      "text/plain": "                            title                                       link  \\\n0               [公告] 2022新年道賀許願區   /bbs/Japan_Travel/M.1640975790.A.051.html   \n1           [資訊] 長崎觀光指南:舊上海銀行紀念館等  /bbs/Japan_Travel/M.1641017275.A.861.html   \n2     Re: [問題] 大家在日本發生過自認最丟臉的事是什麼  /bbs/Japan_Travel/M.1641133021.A.761.html   \n3           [住宿] 關西 W大阪 (W Hotel   /bbs/Japan_Travel/M.1641198125.A.93F.html   \n4              [食記] 沖繩恩那村 亀ぬ浜海人料理  /bbs/Japan_Travel/M.1641368540.A.CAB.html   \n...                           ...                                        ...   \n6992  [讓售] 4月24日teamlab 門票2張(可改期)  /bbs/Japan_Travel/M.1682173018.A.4AD.html   \n6993              [問題] 黃金週 京阪行程請益  /bbs/Japan_Travel/M.1682173628.A.062.html   \n6994        [問題] 北海道旅遊時間抉擇（6月、7月）  /bbs/Japan_Travel/M.1682177891.A.FD9.html   \n6995              [問題] 阪京7天6夜行程請益  /bbs/Japan_Travel/M.1682178076.A.ACA.html   \n6996     [心得]2023日本自駕事故處理介紹（個人經歷）  /bbs/Japan_Travel/M.1682178302.A.B37.html   \n\n            author         publish_time push_count  \\\n0         sinohara  2022-01-01 02:36:26         10   \n1         k4851118  2022-01-01 14:07:52          0   \n2           tsuneo  2022-01-02 22:16:53          7   \n3        iPhone777  2022-01-03 16:21:57         13   \n4       Sherlock56  2022-01-05 15:42:19          3   \n...            ...                  ...        ...   \n6992       gracelo  2023-04-22 22:16:56          0   \n6993          Jmoe  2023-04-22 22:26:55          9   \n6994  awihsataw168  2023-04-22 23:38:09          8   \n6995      chumu123  2023-04-22 23:41:14          4   \n6996       sherina  2023-04-22 23:44:48         10   \n\n                                                content  \n0     各位版友大家好今年算是無法出國的第二年了或許在座的各位 不論是人在哪邊 都會想回去日本看看不...  \n1     長崎市歷史人文觀光指南:舊香港上海銀行長崎分店紀念館.玳瑁工藝館.須加五五道美術館巴哈姆特小...  \n2     ※ 引述《fantasycheng (MIT GS)》之銘言：: 之前在美國唸書的時候愛上了...  \n3     新年快樂!!!造訪日期：2121.11從上回寫完佐渡懶人包之後可能精疲力竭，超久都沒碰blo...  \n4     店名：亀ぬ浜   地址：沖縄県国頭郡恩納村字恩納419-4 恩納海浜公園那比海灘内   電話...  \n...                                                 ...  \n6992  1. 讓售品項：teamlab門票2張（可改入場日期與時段）2. 物品圖片：https://...  \n6993  1. 行程日期：4/28～5/22. 每日行程：Day1:關西機場 → Haruka直達京都...  \n6994  旅遊時間：6月底或7月中最近搜尋機票後發現六月底大概一萬，七月中大概兩萬多，由於價差有點大，...  \n6995  因為是第一次自己出國自由行希望能夠順利，煩請各位指點、提醒需要注意的地方出遊日期：5/30(...  \n6996  詳細內容資訊參考：https://www.youtube.com/watch?v=kKyn1...  \n\n[6997 rows x 6 columns]",
      "text/html": "<div>\n<style scoped>\n    .dataframe tbody tr th:only-of-type {\n        vertical-align: middle;\n    }\n\n    .dataframe tbody tr th {\n        vertical-align: top;\n    }\n\n    .dataframe thead th {\n        text-align: right;\n    }\n</style>\n<table border=\"1\" class=\"dataframe\">\n  <thead>\n    <tr style=\"text-align: right;\">\n      <th></th>\n      <th>title</th>\n      <th>link</th>\n      <th>author</th>\n      <th>publish_time</th>\n      <th>push_count</th>\n      <th>content</th>\n    </tr>\n  </thead>\n  <tbody>\n    <tr>\n      <th>0</th>\n      <td>[公告] 2022新年道賀許願區</td>\n      <td>/bbs/Japan_Travel/M.1640975790.A.051.html</td>\n      <td>sinohara</td>\n      <td>2022-01-01 02:36:26</td>\n      <td>10</td>\n      <td>各位版友大家好今年算是無法出國的第二年了或許在座的各位 不論是人在哪邊 都會想回去日本看看不...</td>\n    </tr>\n    <tr>\n      <th>1</th>\n      <td>[資訊] 長崎觀光指南:舊上海銀行紀念館等</td>\n      <td>/bbs/Japan_Travel/M.1641017275.A.861.html</td>\n      <td>k4851118</td>\n      <td>2022-01-01 14:07:52</td>\n      <td>0</td>\n      <td>長崎市歷史人文觀光指南:舊香港上海銀行長崎分店紀念館.玳瑁工藝館.須加五五道美術館巴哈姆特小...</td>\n    </tr>\n    <tr>\n      <th>2</th>\n      <td>Re: [問題] 大家在日本發生過自認最丟臉的事是什麼</td>\n      <td>/bbs/Japan_Travel/M.1641133021.A.761.html</td>\n      <td>tsuneo</td>\n      <td>2022-01-02 22:16:53</td>\n      <td>7</td>\n      <td>※ 引述《fantasycheng (MIT GS)》之銘言：: 之前在美國唸書的時候愛上了...</td>\n    </tr>\n    <tr>\n      <th>3</th>\n      <td>[住宿] 關西 W大阪 (W Hotel</td>\n      <td>/bbs/Japan_Travel/M.1641198125.A.93F.html</td>\n      <td>iPhone777</td>\n      <td>2022-01-03 16:21:57</td>\n      <td>13</td>\n      <td>新年快樂!!!造訪日期：2121.11從上回寫完佐渡懶人包之後可能精疲力竭，超久都沒碰blo...</td>\n    </tr>\n    <tr>\n      <th>4</th>\n      <td>[食記] 沖繩恩那村 亀ぬ浜海人料理</td>\n      <td>/bbs/Japan_Travel/M.1641368540.A.CAB.html</td>\n      <td>Sherlock56</td>\n      <td>2022-01-05 15:42:19</td>\n      <td>3</td>\n      <td>店名：亀ぬ浜   地址：沖縄県国頭郡恩納村字恩納419-4 恩納海浜公園那比海灘内   電話...</td>\n    </tr>\n    <tr>\n      <th>...</th>\n      <td>...</td>\n      <td>...</td>\n      <td>...</td>\n      <td>...</td>\n      <td>...</td>\n      <td>...</td>\n    </tr>\n    <tr>\n      <th>6992</th>\n      <td>[讓售] 4月24日teamlab 門票2張(可改期)</td>\n      <td>/bbs/Japan_Travel/M.1682173018.A.4AD.html</td>\n      <td>gracelo</td>\n      <td>2023-04-22 22:16:56</td>\n      <td>0</td>\n      <td>1. 讓售品項：teamlab門票2張（可改入場日期與時段）2. 物品圖片：https://...</td>\n    </tr>\n    <tr>\n      <th>6993</th>\n      <td>[問題] 黃金週 京阪行程請益</td>\n      <td>/bbs/Japan_Travel/M.1682173628.A.062.html</td>\n      <td>Jmoe</td>\n      <td>2023-04-22 22:26:55</td>\n      <td>9</td>\n      <td>1. 行程日期：4/28～5/22. 每日行程：Day1:關西機場 → Haruka直達京都...</td>\n    </tr>\n    <tr>\n      <th>6994</th>\n      <td>[問題] 北海道旅遊時間抉擇（6月、7月）</td>\n      <td>/bbs/Japan_Travel/M.1682177891.A.FD9.html</td>\n      <td>awihsataw168</td>\n      <td>2023-04-22 23:38:09</td>\n      <td>8</td>\n      <td>旅遊時間：6月底或7月中最近搜尋機票後發現六月底大概一萬，七月中大概兩萬多，由於價差有點大，...</td>\n    </tr>\n    <tr>\n      <th>6995</th>\n      <td>[問題] 阪京7天6夜行程請益</td>\n      <td>/bbs/Japan_Travel/M.1682178076.A.ACA.html</td>\n      <td>chumu123</td>\n      <td>2023-04-22 23:41:14</td>\n      <td>4</td>\n      <td>因為是第一次自己出國自由行希望能夠順利，煩請各位指點、提醒需要注意的地方出遊日期：5/30(...</td>\n    </tr>\n    <tr>\n      <th>6996</th>\n      <td>[心得]2023日本自駕事故處理介紹（個人經歷）</td>\n      <td>/bbs/Japan_Travel/M.1682178302.A.B37.html</td>\n      <td>sherina</td>\n      <td>2023-04-22 23:44:48</td>\n      <td>10</td>\n      <td>詳細內容資訊參考：https://www.youtube.com/watch?v=kKyn1...</td>\n    </tr>\n  </tbody>\n</table>\n<p>6997 rows × 6 columns</p>\n</div>"
     },
     "execution_count": 26,
     "metadata": {},
     "output_type": "execute_result"
    }
   ],
   "source": [
    "df = pd.read_csv('ptt_jptrvl_post_new.csv', encoding='utf-8', index_col=False)\n",
    "df"
   ]
  },
  {
   "cell_type": "code",
   "execution_count": 25,
   "outputs": [],
   "source": [
    "import csv\n",
    "import jieba\n",
    "\n",
    "# 載入自訂詞庫\n",
    "# jieba.load_userdict('user_dict.txt')\n",
    "\n",
    "# 輸入檔案路徑和欄位名稱\n",
    "input_file = 'ptt_jptrvl_post_new.csv'\n",
    "content_col = 'content'\n",
    "words_col = 'words'\n",
    "\n",
    "# 開啟檔案\n",
    "with open(input_file, 'r', encoding='utf-8', newline='') as f:\n",
    "    reader = csv.DictReader(f)\n",
    "\n",
    "    # 新增欄位名稱\n",
    "    fieldnames = reader.fieldnames + [words_col]\n",
    "\n",
    "    # 開啟輸出檔案\n",
    "    with open('jieba_word_seg.csv', 'w', encoding='utf-8', newline='') as g:\n",
    "        writer = csv.DictWriter(g, fieldnames=fieldnames)\n",
    "        writer.writeheader()\n",
    "\n",
    "        # 逐筆處理\n",
    "        for row in reader:\n",
    "            content = row[content_col]\n",
    "\n",
    "            # 使用jieba進行斷詞\n",
    "            words = jieba.cut(content)\n",
    "\n",
    "            # 將斷詞結果以空格連接成字串\n",
    "            words_str = ' '.join(words)\n",
    "\n",
    "            # 寫入新欄位\n",
    "            row[words_col] = words_str\n",
    "\n",
    "            # 寫入輸出檔案\n",
    "            writer.writerow(row)"
   ],
   "metadata": {
    "collapsed": false,
    "ExecuteTime": {
     "start_time": "2023-04-24T17:30:07.386596Z",
     "end_time": "2023-04-24T17:30:17.796584Z"
    }
   }
  },
  {
   "cell_type": "markdown",
   "source": [
    "# POS tagger"
   ],
   "metadata": {
    "collapsed": false
   }
  },
  {
   "cell_type": "code",
   "execution_count": null,
   "outputs": [],
   "source": [],
   "metadata": {
    "collapsed": false
   }
  },
  {
   "cell_type": "markdown",
   "source": [
    "# Word Frequency"
   ],
   "metadata": {
    "collapsed": false
   }
  },
  {
   "cell_type": "code",
   "execution_count": 29,
   "outputs": [
    {
     "data": {
      "text/plain": "                            title                                       link  \\\n0               [公告] 2022新年道賀許願區   /bbs/Japan_Travel/M.1640975790.A.051.html   \n1           [資訊] 長崎觀光指南:舊上海銀行紀念館等  /bbs/Japan_Travel/M.1641017275.A.861.html   \n2     Re: [問題] 大家在日本發生過自認最丟臉的事是什麼  /bbs/Japan_Travel/M.1641133021.A.761.html   \n3           [住宿] 關西 W大阪 (W Hotel   /bbs/Japan_Travel/M.1641198125.A.93F.html   \n4              [食記] 沖繩恩那村 亀ぬ浜海人料理  /bbs/Japan_Travel/M.1641368540.A.CAB.html   \n...                           ...                                        ...   \n6992  [讓售] 4月24日teamlab 門票2張(可改期)  /bbs/Japan_Travel/M.1682173018.A.4AD.html   \n6993              [問題] 黃金週 京阪行程請益  /bbs/Japan_Travel/M.1682173628.A.062.html   \n6994        [問題] 北海道旅遊時間抉擇（6月、7月）  /bbs/Japan_Travel/M.1682177891.A.FD9.html   \n6995              [問題] 阪京7天6夜行程請益  /bbs/Japan_Travel/M.1682178076.A.ACA.html   \n6996     [心得]2023日本自駕事故處理介紹（個人經歷）  /bbs/Japan_Travel/M.1682178302.A.B37.html   \n\n            author         publish_time push_count  \\\n0         sinohara  2022-01-01 02:36:26         10   \n1         k4851118  2022-01-01 14:07:52          0   \n2           tsuneo  2022-01-02 22:16:53          7   \n3        iPhone777  2022-01-03 16:21:57         13   \n4       Sherlock56  2022-01-05 15:42:19          3   \n...            ...                  ...        ...   \n6992       gracelo  2023-04-22 22:16:56          0   \n6993          Jmoe  2023-04-22 22:26:55          9   \n6994  awihsataw168  2023-04-22 23:38:09          8   \n6995      chumu123  2023-04-22 23:41:14          4   \n6996       sherina  2023-04-22 23:44:48         10   \n\n                                                content  \\\n0     各位版友大家好今年算是無法出國的第二年了或許在座的各位 不論是人在哪邊 都會想回去日本看看不...   \n1     長崎市歷史人文觀光指南:舊香港上海銀行長崎分店紀念館.玳瑁工藝館.須加五五道美術館巴哈姆特小...   \n2     ※ 引述《fantasycheng (MIT GS)》之銘言：: 之前在美國唸書的時候愛上了...   \n3     新年快樂!!!造訪日期：2121.11從上回寫完佐渡懶人包之後可能精疲力竭，超久都沒碰blo...   \n4     店名：亀ぬ浜   地址：沖縄県国頭郡恩納村字恩納419-4 恩納海浜公園那比海灘内   電話...   \n...                                                 ...   \n6992  1. 讓售品項：teamlab門票2張（可改入場日期與時段）2. 物品圖片：https://...   \n6993  1. 行程日期：4/28～5/22. 每日行程：Day1:關西機場 → Haruka直達京都...   \n6994  旅遊時間：6月底或7月中最近搜尋機票後發現六月底大概一萬，七月中大概兩萬多，由於價差有點大，...   \n6995  因為是第一次自己出國自由行希望能夠順利，煩請各位指點、提醒需要注意的地方出遊日期：5/30(...   \n6996  詳細內容資訊參考：https://www.youtube.com/watch?v=kKyn1...   \n\n                                                  words  \n0     各位 版友 大家 好 今年 算是 無法 出國 的 第二年 了 或許 在座 的 各位   不論...  \n1     長 崎市 歷史 人文 觀光 指南 : 舊 香港 上海 銀行長 崎 分店 紀念館 . 玳瑁 工...  \n2     ※   引述 《 fantasycheng   ( MIT   GS ) 》 之銘言 ： :...  \n3     新年 快樂 ! ! ! 造訪 日期 ： 2121.11 從 上 回寫 完佐渡 懶人包 之 後...  \n4     店名 ： 亀 ぬ 浜       地址 ： 沖 縄 県 国 頭 郡 恩 納 村 字 恩 納 ...  \n...                                                 ...  \n6992  1 .   讓 售品 項 ： teamlab 門票 2 張 （ 可 改入場 日期 與 時段 ...  \n6993  1 .   行程 日期 ： 4 / 28 ～ 5 / 22 .   每日 行程 ： Day1...  \n6994  旅遊 時間 ： 6 月底 或 7 月 中 最近 搜尋機票 後 發現 六月 底 大概 一萬 ，...  \n6995  因為 是 第一次 自己 出國 自由 行 希望 能夠 順利 ， 煩請 各位 指點 、 提醒 需...  \n6996  詳細 內容 資訊 參考 ： https : / / www . youtube . com ...  \n\n[6997 rows x 7 columns]",
      "text/html": "<div>\n<style scoped>\n    .dataframe tbody tr th:only-of-type {\n        vertical-align: middle;\n    }\n\n    .dataframe tbody tr th {\n        vertical-align: top;\n    }\n\n    .dataframe thead th {\n        text-align: right;\n    }\n</style>\n<table border=\"1\" class=\"dataframe\">\n  <thead>\n    <tr style=\"text-align: right;\">\n      <th></th>\n      <th>title</th>\n      <th>link</th>\n      <th>author</th>\n      <th>publish_time</th>\n      <th>push_count</th>\n      <th>content</th>\n      <th>words</th>\n    </tr>\n  </thead>\n  <tbody>\n    <tr>\n      <th>0</th>\n      <td>[公告] 2022新年道賀許願區</td>\n      <td>/bbs/Japan_Travel/M.1640975790.A.051.html</td>\n      <td>sinohara</td>\n      <td>2022-01-01 02:36:26</td>\n      <td>10</td>\n      <td>各位版友大家好今年算是無法出國的第二年了或許在座的各位 不論是人在哪邊 都會想回去日本看看不...</td>\n      <td>各位 版友 大家 好 今年 算是 無法 出國 的 第二年 了 或許 在座 的 各位   不論...</td>\n    </tr>\n    <tr>\n      <th>1</th>\n      <td>[資訊] 長崎觀光指南:舊上海銀行紀念館等</td>\n      <td>/bbs/Japan_Travel/M.1641017275.A.861.html</td>\n      <td>k4851118</td>\n      <td>2022-01-01 14:07:52</td>\n      <td>0</td>\n      <td>長崎市歷史人文觀光指南:舊香港上海銀行長崎分店紀念館.玳瑁工藝館.須加五五道美術館巴哈姆特小...</td>\n      <td>長 崎市 歷史 人文 觀光 指南 : 舊 香港 上海 銀行長 崎 分店 紀念館 . 玳瑁 工...</td>\n    </tr>\n    <tr>\n      <th>2</th>\n      <td>Re: [問題] 大家在日本發生過自認最丟臉的事是什麼</td>\n      <td>/bbs/Japan_Travel/M.1641133021.A.761.html</td>\n      <td>tsuneo</td>\n      <td>2022-01-02 22:16:53</td>\n      <td>7</td>\n      <td>※ 引述《fantasycheng (MIT GS)》之銘言：: 之前在美國唸書的時候愛上了...</td>\n      <td>※   引述 《 fantasycheng   ( MIT   GS ) 》 之銘言 ： :...</td>\n    </tr>\n    <tr>\n      <th>3</th>\n      <td>[住宿] 關西 W大阪 (W Hotel</td>\n      <td>/bbs/Japan_Travel/M.1641198125.A.93F.html</td>\n      <td>iPhone777</td>\n      <td>2022-01-03 16:21:57</td>\n      <td>13</td>\n      <td>新年快樂!!!造訪日期：2121.11從上回寫完佐渡懶人包之後可能精疲力竭，超久都沒碰blo...</td>\n      <td>新年 快樂 ! ! ! 造訪 日期 ： 2121.11 從 上 回寫 完佐渡 懶人包 之 後...</td>\n    </tr>\n    <tr>\n      <th>4</th>\n      <td>[食記] 沖繩恩那村 亀ぬ浜海人料理</td>\n      <td>/bbs/Japan_Travel/M.1641368540.A.CAB.html</td>\n      <td>Sherlock56</td>\n      <td>2022-01-05 15:42:19</td>\n      <td>3</td>\n      <td>店名：亀ぬ浜   地址：沖縄県国頭郡恩納村字恩納419-4 恩納海浜公園那比海灘内   電話...</td>\n      <td>店名 ： 亀 ぬ 浜       地址 ： 沖 縄 県 国 頭 郡 恩 納 村 字 恩 納 ...</td>\n    </tr>\n    <tr>\n      <th>...</th>\n      <td>...</td>\n      <td>...</td>\n      <td>...</td>\n      <td>...</td>\n      <td>...</td>\n      <td>...</td>\n      <td>...</td>\n    </tr>\n    <tr>\n      <th>6992</th>\n      <td>[讓售] 4月24日teamlab 門票2張(可改期)</td>\n      <td>/bbs/Japan_Travel/M.1682173018.A.4AD.html</td>\n      <td>gracelo</td>\n      <td>2023-04-22 22:16:56</td>\n      <td>0</td>\n      <td>1. 讓售品項：teamlab門票2張（可改入場日期與時段）2. 物品圖片：https://...</td>\n      <td>1 .   讓 售品 項 ： teamlab 門票 2 張 （ 可 改入場 日期 與 時段 ...</td>\n    </tr>\n    <tr>\n      <th>6993</th>\n      <td>[問題] 黃金週 京阪行程請益</td>\n      <td>/bbs/Japan_Travel/M.1682173628.A.062.html</td>\n      <td>Jmoe</td>\n      <td>2023-04-22 22:26:55</td>\n      <td>9</td>\n      <td>1. 行程日期：4/28～5/22. 每日行程：Day1:關西機場 → Haruka直達京都...</td>\n      <td>1 .   行程 日期 ： 4 / 28 ～ 5 / 22 .   每日 行程 ： Day1...</td>\n    </tr>\n    <tr>\n      <th>6994</th>\n      <td>[問題] 北海道旅遊時間抉擇（6月、7月）</td>\n      <td>/bbs/Japan_Travel/M.1682177891.A.FD9.html</td>\n      <td>awihsataw168</td>\n      <td>2023-04-22 23:38:09</td>\n      <td>8</td>\n      <td>旅遊時間：6月底或7月中最近搜尋機票後發現六月底大概一萬，七月中大概兩萬多，由於價差有點大，...</td>\n      <td>旅遊 時間 ： 6 月底 或 7 月 中 最近 搜尋機票 後 發現 六月 底 大概 一萬 ，...</td>\n    </tr>\n    <tr>\n      <th>6995</th>\n      <td>[問題] 阪京7天6夜行程請益</td>\n      <td>/bbs/Japan_Travel/M.1682178076.A.ACA.html</td>\n      <td>chumu123</td>\n      <td>2023-04-22 23:41:14</td>\n      <td>4</td>\n      <td>因為是第一次自己出國自由行希望能夠順利，煩請各位指點、提醒需要注意的地方出遊日期：5/30(...</td>\n      <td>因為 是 第一次 自己 出國 自由 行 希望 能夠 順利 ， 煩請 各位 指點 、 提醒 需...</td>\n    </tr>\n    <tr>\n      <th>6996</th>\n      <td>[心得]2023日本自駕事故處理介紹（個人經歷）</td>\n      <td>/bbs/Japan_Travel/M.1682178302.A.B37.html</td>\n      <td>sherina</td>\n      <td>2023-04-22 23:44:48</td>\n      <td>10</td>\n      <td>詳細內容資訊參考：https://www.youtube.com/watch?v=kKyn1...</td>\n      <td>詳細 內容 資訊 參考 ： https : / / www . youtube . com ...</td>\n    </tr>\n  </tbody>\n</table>\n<p>6997 rows × 7 columns</p>\n</div>"
     },
     "execution_count": 29,
     "metadata": {},
     "output_type": "execute_result"
    }
   ],
   "source": [
    "df_seg = pd.read_csv('jieba_word_seg.csv', encoding='utf-8', index_col=False)\n",
    "df_seg"
   ],
   "metadata": {
    "collapsed": false,
    "ExecuteTime": {
     "start_time": "2023-04-24T17:57:44.735332Z",
     "end_time": "2023-04-24T17:57:44.894620Z"
    }
   }
  },
  {
   "cell_type": "code",
   "execution_count": 32,
   "outputs": [
    {
     "ename": "AttributeError",
     "evalue": "'float' object has no attribute 'split'",
     "output_type": "error",
     "traceback": [
      "\u001B[0;31m---------------------------------------------------------------------------\u001B[0m",
      "\u001B[0;31mAttributeError\u001B[0m                            Traceback (most recent call last)",
      "Cell \u001B[0;32mIn[32], line 11\u001B[0m\n\u001B[1;32m      8\u001B[0m     \u001B[38;5;66;03m# 回傳詞頻統計結果\u001B[39;00m\n\u001B[1;32m      9\u001B[0m     \u001B[38;5;28;01mreturn\u001B[39;00m word_freq\n\u001B[0;32m---> 11\u001B[0m df_seg[\u001B[38;5;124m'\u001B[39m\u001B[38;5;124mword_freq\u001B[39m\u001B[38;5;124m'\u001B[39m] \u001B[38;5;241m=\u001B[39m \u001B[43mdf_seg\u001B[49m\u001B[43m[\u001B[49m\u001B[38;5;124;43m'\u001B[39;49m\u001B[38;5;124;43mwords\u001B[39;49m\u001B[38;5;124;43m'\u001B[39;49m\u001B[43m]\u001B[49m\u001B[38;5;241;43m.\u001B[39;49m\u001B[43mapply\u001B[49m\u001B[43m(\u001B[49m\u001B[43mget_word_freq\u001B[49m\u001B[43m)\u001B[49m\n",
      "File \u001B[0;32m~/anaconda3/envs/scraping/lib/python3.9/site-packages/pandas/core/series.py:4771\u001B[0m, in \u001B[0;36mapply\u001B[0;34m(self, func, convert_dtype, args, **kwargs)\u001B[0m\n\u001B[1;32m   4760\u001B[0m \u001B[38;5;129m@overload\u001B[39m\n\u001B[1;32m   4761\u001B[0m \u001B[38;5;28;01mdef\u001B[39;00m \u001B[38;5;21mrename\u001B[39m(\n\u001B[1;32m   4762\u001B[0m     \u001B[38;5;28mself\u001B[39m,\n\u001B[0;32m   (...)\u001B[0m\n\u001B[1;32m   4769\u001B[0m     errors: IgnoreRaise \u001B[38;5;241m=\u001B[39m \u001B[38;5;241m.\u001B[39m\u001B[38;5;241m.\u001B[39m\u001B[38;5;241m.\u001B[39m,\n\u001B[1;32m   4770\u001B[0m ) \u001B[38;5;241m-\u001B[39m\u001B[38;5;241m>\u001B[39m Series \u001B[38;5;241m|\u001B[39m \u001B[38;5;28;01mNone\u001B[39;00m:\n\u001B[0;32m-> 4771\u001B[0m     \u001B[38;5;241m.\u001B[39m\u001B[38;5;241m.\u001B[39m\u001B[38;5;241m.\u001B[39m\n",
      "File \u001B[0;32m~/anaconda3/envs/scraping/lib/python3.9/site-packages/pandas/core/apply.py:1123\u001B[0m, in \u001B[0;36mapply\u001B[0;34m(self)\u001B[0m\n\u001B[1;32m   1119\u001B[0m axis: AxisInt \u001B[38;5;241m=\u001B[39m \u001B[38;5;241m0\u001B[39m\n\u001B[1;32m   1120\u001B[0m obj: Resampler \u001B[38;5;241m|\u001B[39m BaseWindow\n\u001B[1;32m   1122\u001B[0m \u001B[38;5;28;01mdef\u001B[39;00m \u001B[38;5;21m__init__\u001B[39m(\n\u001B[0;32m-> 1123\u001B[0m     \u001B[38;5;28mself\u001B[39m,\n\u001B[1;32m   1124\u001B[0m     obj: Resampler \u001B[38;5;241m|\u001B[39m BaseWindow,\n\u001B[1;32m   1125\u001B[0m     func: AggFuncType,\n\u001B[1;32m   1126\u001B[0m     args,\n\u001B[1;32m   1127\u001B[0m     kwargs,\n\u001B[1;32m   1128\u001B[0m ) \u001B[38;5;241m-\u001B[39m\u001B[38;5;241m>\u001B[39m \u001B[38;5;28;01mNone\u001B[39;00m:\n\u001B[1;32m   1129\u001B[0m     \u001B[38;5;28msuper\u001B[39m()\u001B[38;5;241m.\u001B[39m\u001B[38;5;21m__init__\u001B[39m(\n\u001B[1;32m   1130\u001B[0m         obj,\n\u001B[1;32m   1131\u001B[0m         func,\n\u001B[0;32m   (...)\u001B[0m\n\u001B[1;32m   1135\u001B[0m         kwargs\u001B[38;5;241m=\u001B[39mkwargs,\n\u001B[1;32m   1136\u001B[0m     )\n\u001B[1;32m   1138\u001B[0m \u001B[38;5;28;01mdef\u001B[39;00m \u001B[38;5;21mapply\u001B[39m(\u001B[38;5;28mself\u001B[39m):\n",
      "File \u001B[0;32m~/anaconda3/envs/scraping/lib/python3.9/site-packages/pandas/core/apply.py:1174\u001B[0m, in \u001B[0;36mapply_standard\u001B[0;34m(self)\u001B[0m\n\u001B[1;32m   1145\u001B[0m \u001B[38;5;28;01mdef\u001B[39;00m \u001B[38;5;21mreconstruct_func\u001B[39m(\n\u001B[1;32m   1146\u001B[0m     func: AggFuncType \u001B[38;5;241m|\u001B[39m \u001B[38;5;28;01mNone\u001B[39;00m, \u001B[38;5;241m*\u001B[39m\u001B[38;5;241m*\u001B[39mkwargs\n\u001B[1;32m   1147\u001B[0m ) \u001B[38;5;241m-\u001B[39m\u001B[38;5;241m>\u001B[39m \u001B[38;5;28mtuple\u001B[39m[\u001B[38;5;28mbool\u001B[39m, AggFuncType \u001B[38;5;241m|\u001B[39m \u001B[38;5;28;01mNone\u001B[39;00m, \u001B[38;5;28mlist\u001B[39m[\u001B[38;5;28mstr\u001B[39m] \u001B[38;5;241m|\u001B[39m \u001B[38;5;28;01mNone\u001B[39;00m, npt\u001B[38;5;241m.\u001B[39mNDArray[np\u001B[38;5;241m.\u001B[39mintp] \u001B[38;5;241m|\u001B[39m \u001B[38;5;28;01mNone\u001B[39;00m]:\n\u001B[1;32m   1148\u001B[0m \u001B[38;5;250m    \u001B[39m\u001B[38;5;124;03m\"\"\"\u001B[39;00m\n\u001B[1;32m   1149\u001B[0m \u001B[38;5;124;03m    This is the internal function to reconstruct func given if there is relabeling\u001B[39;00m\n\u001B[1;32m   1150\u001B[0m \u001B[38;5;124;03m    or not and also normalize the keyword to get new order of columns.\u001B[39;00m\n\u001B[1;32m   1151\u001B[0m \n\u001B[1;32m   1152\u001B[0m \u001B[38;5;124;03m    If named aggregation is applied, `func` will be None, and kwargs contains the\u001B[39;00m\n\u001B[1;32m   1153\u001B[0m \u001B[38;5;124;03m    column and aggregation function information to be parsed;\u001B[39;00m\n\u001B[1;32m   1154\u001B[0m \u001B[38;5;124;03m    If named aggregation is not applied, `func` is either string (e.g. 'min') or\u001B[39;00m\n\u001B[1;32m   1155\u001B[0m \u001B[38;5;124;03m    Callable, or list of them (e.g. ['min', np.max]), or the dictionary of column name\u001B[39;00m\n\u001B[1;32m   1156\u001B[0m \u001B[38;5;124;03m    and str/Callable/list of them (e.g. {'A': 'min'}, or {'A': [np.min, lambda x: x]})\u001B[39;00m\n\u001B[1;32m   1157\u001B[0m \n\u001B[1;32m   1158\u001B[0m \u001B[38;5;124;03m    If relabeling is True, will return relabeling, reconstructed func, column\u001B[39;00m\n\u001B[1;32m   1159\u001B[0m \u001B[38;5;124;03m    names, and the reconstructed order of columns.\u001B[39;00m\n\u001B[1;32m   1160\u001B[0m \u001B[38;5;124;03m    If relabeling is False, the columns and order will be None.\u001B[39;00m\n\u001B[1;32m   1161\u001B[0m \n\u001B[1;32m   1162\u001B[0m \u001B[38;5;124;03m    Parameters\u001B[39;00m\n\u001B[1;32m   1163\u001B[0m \u001B[38;5;124;03m    ----------\u001B[39;00m\n\u001B[1;32m   1164\u001B[0m \u001B[38;5;124;03m    func: agg function (e.g. 'min' or Callable) or list of agg functions\u001B[39;00m\n\u001B[1;32m   1165\u001B[0m \u001B[38;5;124;03m        (e.g. ['min', np.max]) or dictionary (e.g. {'A': ['min', np.max]}).\u001B[39;00m\n\u001B[1;32m   1166\u001B[0m \u001B[38;5;124;03m    **kwargs: dict, kwargs used in is_multi_agg_with_relabel and\u001B[39;00m\n\u001B[1;32m   1167\u001B[0m \u001B[38;5;124;03m        normalize_keyword_aggregation function for relabelling\u001B[39;00m\n\u001B[1;32m   1168\u001B[0m \n\u001B[1;32m   1169\u001B[0m \u001B[38;5;124;03m    Returns\u001B[39;00m\n\u001B[1;32m   1170\u001B[0m \u001B[38;5;124;03m    -------\u001B[39;00m\n\u001B[1;32m   1171\u001B[0m \u001B[38;5;124;03m    relabelling: bool, if there is relabelling or not\u001B[39;00m\n\u001B[1;32m   1172\u001B[0m \u001B[38;5;124;03m    func: normalized and mangled func\u001B[39;00m\n\u001B[1;32m   1173\u001B[0m \u001B[38;5;124;03m    columns: list of column names\u001B[39;00m\n\u001B[0;32m-> 1174\u001B[0m \u001B[38;5;124;03m    order: array of columns indices\u001B[39;00m\n\u001B[1;32m   1175\u001B[0m \n\u001B[1;32m   1176\u001B[0m \u001B[38;5;124;03m    Examples\u001B[39;00m\n\u001B[1;32m   1177\u001B[0m \u001B[38;5;124;03m    --------\u001B[39;00m\n\u001B[1;32m   1178\u001B[0m \u001B[38;5;124;03m    >>> reconstruct_func(None, **{\"foo\": (\"col\", \"min\")})\u001B[39;00m\n\u001B[1;32m   1179\u001B[0m \u001B[38;5;124;03m    (True, defaultdict(<class 'list'>, {'col': ['min']}), ('foo',), array([0]))\u001B[39;00m\n\u001B[1;32m   1180\u001B[0m \n\u001B[1;32m   1181\u001B[0m \u001B[38;5;124;03m    >>> reconstruct_func(\"min\")\u001B[39;00m\n\u001B[1;32m   1182\u001B[0m \u001B[38;5;124;03m    (False, 'min', None, None)\u001B[39;00m\n\u001B[1;32m   1183\u001B[0m \u001B[38;5;124;03m    \"\"\"\u001B[39;00m\n\u001B[1;32m   1184\u001B[0m     relabeling \u001B[38;5;241m=\u001B[39m func \u001B[38;5;129;01mis\u001B[39;00m \u001B[38;5;28;01mNone\u001B[39;00m \u001B[38;5;129;01mand\u001B[39;00m is_multi_agg_with_relabel(\u001B[38;5;241m*\u001B[39m\u001B[38;5;241m*\u001B[39mkwargs)\n\u001B[1;32m   1185\u001B[0m     columns: \u001B[38;5;28mlist\u001B[39m[\u001B[38;5;28mstr\u001B[39m] \u001B[38;5;241m|\u001B[39m \u001B[38;5;28;01mNone\u001B[39;00m \u001B[38;5;241m=\u001B[39m \u001B[38;5;28;01mNone\u001B[39;00m\n",
      "File \u001B[0;32m~/anaconda3/envs/scraping/lib/python3.9/site-packages/pandas/_libs/lib.pyx:2924\u001B[0m, in \u001B[0;36mpandas._libs.lib.map_infer\u001B[0;34m()\u001B[0m\n",
      "Cell \u001B[0;32mIn[32], line 5\u001B[0m, in \u001B[0;36mget_word_freq\u001B[0;34m(words)\u001B[0m\n\u001B[1;32m      3\u001B[0m \u001B[38;5;28;01mdef\u001B[39;00m \u001B[38;5;21mget_word_freq\u001B[39m(words):\n\u001B[1;32m      4\u001B[0m     \u001B[38;5;66;03m# 將文字欄位轉為list\u001B[39;00m\n\u001B[0;32m----> 5\u001B[0m     words_list \u001B[38;5;241m=\u001B[39m \u001B[43mwords\u001B[49m\u001B[38;5;241;43m.\u001B[39;49m\u001B[43msplit\u001B[49m(\u001B[38;5;124m'\u001B[39m\u001B[38;5;124m \u001B[39m\u001B[38;5;124m'\u001B[39m)\n\u001B[1;32m      6\u001B[0m     \u001B[38;5;66;03m# 計算詞頻\u001B[39;00m\n\u001B[1;32m      7\u001B[0m     word_freq \u001B[38;5;241m=\u001B[39m \u001B[38;5;28mdict\u001B[39m(Counter(words_list))\n",
      "\u001B[0;31mAttributeError\u001B[0m: 'float' object has no attribute 'split'"
     ]
    }
   ],
   "source": [
    "from collections import Counter\n",
    "\n",
    "def get_word_freq(words):\n",
    "    # 將文字欄位轉為list\n",
    "    words_list = words.split(' ')\n",
    "    # 計算詞頻\n",
    "    word_freq = dict(Counter(words_list))\n",
    "    # 回傳詞頻統計結果\n",
    "    return word_freq\n",
    "\n",
    "df_seg['word_freq'] = df_seg['words'].apply(get_word_freq)\n"
   ],
   "metadata": {
    "collapsed": false
   }
  }
 ],
 "metadata": {
  "kernelspec": {
   "display_name": "Python 3 (ipykernel)",
   "language": "python",
   "name": "python3"
  },
  "language_info": {
   "codemirror_mode": {
    "name": "ipython",
    "version": 3
   },
   "file_extension": ".py",
   "mimetype": "text/x-python",
   "name": "python",
   "nbconvert_exporter": "python",
   "pygments_lexer": "ipython3",
   "version": "3.9.13"
  }
 },
 "nbformat": 4,
 "nbformat_minor": 4
}
