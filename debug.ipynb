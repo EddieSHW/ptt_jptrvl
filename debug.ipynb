{
 "cells": [
  {
   "cell_type": "code",
   "execution_count": 1,
   "metadata": {
    "collapsed": true,
    "ExecuteTime": {
     "end_time": "2023-05-24T09:10:47.998050317Z",
     "start_time": "2023-05-24T09:10:47.743679970Z"
    }
   },
   "outputs": [],
   "source": [
    "from wordcloud import WordCloud\n",
    "import pandas as pd\n",
    "import jieba"
   ]
  },
  {
   "cell_type": "code",
   "execution_count": 2,
   "outputs": [],
   "source": [
    "def wordcloud(date):\n",
    "    # open csv file\n",
    "    df = pd.read_csv('ptt_jptrvl_post_new.csv')\n",
    "\n",
    "    # 選擇當天的文章內容\n",
    "    df = df.loc[df['publish_time'] == date, 'content']\n",
    "\n",
    "    # 分詞處理\n",
    "    text = ' '.join(jieba.cut(' '.join(df.values)))\n",
    "    print(text)"
   ],
   "metadata": {
    "collapsed": false,
    "ExecuteTime": {
     "end_time": "2023-05-24T09:11:39.812542306Z",
     "start_time": "2023-05-24T09:11:39.771551043Z"
    }
   }
  },
  {
   "cell_type": "code",
   "execution_count": 6,
   "outputs": [
    {
     "ename": "SyntaxError",
     "evalue": "leading zeros in decimal integer literals are not permitted; use an 0o prefix for octal integers (2562461157.py, line 1)",
     "output_type": "error",
     "traceback": [
      "\u001B[0;36m  Cell \u001B[0;32mIn[6], line 1\u001B[0;36m\u001B[0m\n\u001B[0;31m    wordcloud(2022-01-07)\u001B[0m\n\u001B[0m                    ^\u001B[0m\n\u001B[0;31mSyntaxError\u001B[0m\u001B[0;31m:\u001B[0m leading zeros in decimal integer literals are not permitted; use an 0o prefix for octal integers\n"
     ]
    }
   ],
   "source": [
    "wordcloud(2022-01-07)"
   ],
   "metadata": {
    "collapsed": false,
    "ExecuteTime": {
     "end_time": "2023-05-24T09:13:49.347687956Z",
     "start_time": "2023-05-24T09:13:49.346720990Z"
    }
   }
  },
  {
   "cell_type": "code",
   "execution_count": 7,
   "outputs": [
    {
     "data": {
      "text/plain": "                            title                                       link   \n0               [公告] 2022新年道賀許願區   /bbs/Japan_Travel/M.1640975790.A.051.html  \\\n1           [資訊] 長崎觀光指南:舊上海銀行紀念館等  /bbs/Japan_Travel/M.1641017275.A.861.html   \n2     Re: [問題] 大家在日本發生過自認最丟臉的事是什麼  /bbs/Japan_Travel/M.1641133021.A.761.html   \n3           [住宿] 關西 W大阪 (W Hotel   /bbs/Japan_Travel/M.1641198125.A.93F.html   \n4              [食記] 沖繩恩那村 亀ぬ浜海人料理  /bbs/Japan_Travel/M.1641368540.A.CAB.html   \n...                           ...                                        ...   \n6992  [讓售] 4月24日teamlab 門票2張(可改期)  /bbs/Japan_Travel/M.1682173018.A.4AD.html   \n6993              [問題] 黃金週 京阪行程請益  /bbs/Japan_Travel/M.1682173628.A.062.html   \n6994        [問題] 北海道旅遊時間抉擇（6月、7月）  /bbs/Japan_Travel/M.1682177891.A.FD9.html   \n6995              [問題] 阪京7天6夜行程請益  /bbs/Japan_Travel/M.1682178076.A.ACA.html   \n6996     [心得]2023日本自駕事故處理介紹（個人經歷）  /bbs/Japan_Travel/M.1682178302.A.B37.html   \n\n            author         publish_time push_count   \n0         sinohara  2022-01-01 02:36:26         10  \\\n1         k4851118  2022-01-01 14:07:52          0   \n2           tsuneo  2022-01-02 22:16:53          7   \n3        iPhone777  2022-01-03 16:21:57         13   \n4       Sherlock56  2022-01-05 15:42:19          3   \n...            ...                  ...        ...   \n6992       gracelo  2023-04-22 22:16:56          0   \n6993          Jmoe  2023-04-22 22:26:55          9   \n6994  awihsataw168  2023-04-22 23:38:09          8   \n6995      chumu123  2023-04-22 23:41:14          4   \n6996       sherina  2023-04-22 23:44:48         10   \n\n                                                content  \n0     各位版友大家好今年算是無法出國的第二年了或許在座的各位 不論是人在哪邊 都會想回去日本看看不...  \n1     長崎市歷史人文觀光指南:舊香港上海銀行長崎分店紀念館.玳瑁工藝館.須加五五道美術館巴哈姆特小...  \n2     ※ 引述《fantasycheng (MIT GS)》之銘言：: 之前在美國唸書的時候愛上了...  \n3     新年快樂!!!造訪日期：2121.11從上回寫完佐渡懶人包之後可能精疲力竭，超久都沒碰blo...  \n4     店名：亀ぬ浜   地址：沖縄県国頭郡恩納村字恩納419-4 恩納海浜公園那比海灘内   電話...  \n...                                                 ...  \n6992  1. 讓售品項：teamlab門票2張（可改入場日期與時段）2. 物品圖片：https://...  \n6993  1. 行程日期：4/28～5/22. 每日行程：Day1:關西機場 → Haruka直達京都...  \n6994  旅遊時間：6月底或7月中最近搜尋機票後發現六月底大概一萬，七月中大概兩萬多，由於價差有點大，...  \n6995  因為是第一次自己出國自由行希望能夠順利，煩請各位指點、提醒需要注意的地方出遊日期：5/30(...  \n6996  詳細內容資訊參考：https://www.youtube.com/watch?v=kKyn1...  \n\n[6997 rows x 6 columns]",
      "text/html": "<div>\n<style scoped>\n    .dataframe tbody tr th:only-of-type {\n        vertical-align: middle;\n    }\n\n    .dataframe tbody tr th {\n        vertical-align: top;\n    }\n\n    .dataframe thead th {\n        text-align: right;\n    }\n</style>\n<table border=\"1\" class=\"dataframe\">\n  <thead>\n    <tr style=\"text-align: right;\">\n      <th></th>\n      <th>title</th>\n      <th>link</th>\n      <th>author</th>\n      <th>publish_time</th>\n      <th>push_count</th>\n      <th>content</th>\n    </tr>\n  </thead>\n  <tbody>\n    <tr>\n      <th>0</th>\n      <td>[公告] 2022新年道賀許願區</td>\n      <td>/bbs/Japan_Travel/M.1640975790.A.051.html</td>\n      <td>sinohara</td>\n      <td>2022-01-01 02:36:26</td>\n      <td>10</td>\n      <td>各位版友大家好今年算是無法出國的第二年了或許在座的各位 不論是人在哪邊 都會想回去日本看看不...</td>\n    </tr>\n    <tr>\n      <th>1</th>\n      <td>[資訊] 長崎觀光指南:舊上海銀行紀念館等</td>\n      <td>/bbs/Japan_Travel/M.1641017275.A.861.html</td>\n      <td>k4851118</td>\n      <td>2022-01-01 14:07:52</td>\n      <td>0</td>\n      <td>長崎市歷史人文觀光指南:舊香港上海銀行長崎分店紀念館.玳瑁工藝館.須加五五道美術館巴哈姆特小...</td>\n    </tr>\n    <tr>\n      <th>2</th>\n      <td>Re: [問題] 大家在日本發生過自認最丟臉的事是什麼</td>\n      <td>/bbs/Japan_Travel/M.1641133021.A.761.html</td>\n      <td>tsuneo</td>\n      <td>2022-01-02 22:16:53</td>\n      <td>7</td>\n      <td>※ 引述《fantasycheng (MIT GS)》之銘言：: 之前在美國唸書的時候愛上了...</td>\n    </tr>\n    <tr>\n      <th>3</th>\n      <td>[住宿] 關西 W大阪 (W Hotel</td>\n      <td>/bbs/Japan_Travel/M.1641198125.A.93F.html</td>\n      <td>iPhone777</td>\n      <td>2022-01-03 16:21:57</td>\n      <td>13</td>\n      <td>新年快樂!!!造訪日期：2121.11從上回寫完佐渡懶人包之後可能精疲力竭，超久都沒碰blo...</td>\n    </tr>\n    <tr>\n      <th>4</th>\n      <td>[食記] 沖繩恩那村 亀ぬ浜海人料理</td>\n      <td>/bbs/Japan_Travel/M.1641368540.A.CAB.html</td>\n      <td>Sherlock56</td>\n      <td>2022-01-05 15:42:19</td>\n      <td>3</td>\n      <td>店名：亀ぬ浜   地址：沖縄県国頭郡恩納村字恩納419-4 恩納海浜公園那比海灘内   電話...</td>\n    </tr>\n    <tr>\n      <th>...</th>\n      <td>...</td>\n      <td>...</td>\n      <td>...</td>\n      <td>...</td>\n      <td>...</td>\n      <td>...</td>\n    </tr>\n    <tr>\n      <th>6992</th>\n      <td>[讓售] 4月24日teamlab 門票2張(可改期)</td>\n      <td>/bbs/Japan_Travel/M.1682173018.A.4AD.html</td>\n      <td>gracelo</td>\n      <td>2023-04-22 22:16:56</td>\n      <td>0</td>\n      <td>1. 讓售品項：teamlab門票2張（可改入場日期與時段）2. 物品圖片：https://...</td>\n    </tr>\n    <tr>\n      <th>6993</th>\n      <td>[問題] 黃金週 京阪行程請益</td>\n      <td>/bbs/Japan_Travel/M.1682173628.A.062.html</td>\n      <td>Jmoe</td>\n      <td>2023-04-22 22:26:55</td>\n      <td>9</td>\n      <td>1. 行程日期：4/28～5/22. 每日行程：Day1:關西機場 → Haruka直達京都...</td>\n    </tr>\n    <tr>\n      <th>6994</th>\n      <td>[問題] 北海道旅遊時間抉擇（6月、7月）</td>\n      <td>/bbs/Japan_Travel/M.1682177891.A.FD9.html</td>\n      <td>awihsataw168</td>\n      <td>2023-04-22 23:38:09</td>\n      <td>8</td>\n      <td>旅遊時間：6月底或7月中最近搜尋機票後發現六月底大概一萬，七月中大概兩萬多，由於價差有點大，...</td>\n    </tr>\n    <tr>\n      <th>6995</th>\n      <td>[問題] 阪京7天6夜行程請益</td>\n      <td>/bbs/Japan_Travel/M.1682178076.A.ACA.html</td>\n      <td>chumu123</td>\n      <td>2023-04-22 23:41:14</td>\n      <td>4</td>\n      <td>因為是第一次自己出國自由行希望能夠順利，煩請各位指點、提醒需要注意的地方出遊日期：5/30(...</td>\n    </tr>\n    <tr>\n      <th>6996</th>\n      <td>[心得]2023日本自駕事故處理介紹（個人經歷）</td>\n      <td>/bbs/Japan_Travel/M.1682178302.A.B37.html</td>\n      <td>sherina</td>\n      <td>2023-04-22 23:44:48</td>\n      <td>10</td>\n      <td>詳細內容資訊參考：https://www.youtube.com/watch?v=kKyn1...</td>\n    </tr>\n  </tbody>\n</table>\n<p>6997 rows × 6 columns</p>\n</div>"
     },
     "execution_count": 7,
     "metadata": {},
     "output_type": "execute_result"
    }
   ],
   "source": [
    "df = pd.read_csv('ptt_jptrvl_post_new.csv', encoding='utf-8', index_col=False)\n",
    "df"
   ],
   "metadata": {
    "collapsed": false,
    "ExecuteTime": {
     "end_time": "2023-05-24T09:41:45.062346021Z",
     "start_time": "2023-05-24T09:41:44.986875782Z"
    }
   }
  },
  {
   "cell_type": "code",
   "execution_count": 16,
   "outputs": [],
   "source": [
    "df[\"Date\"] = df[\"publish_time\"].dt.date\n",
    "df[\"Time\"] = df[\"publish_time\"].dt.time"
   ],
   "metadata": {
    "collapsed": false,
    "ExecuteTime": {
     "end_time": "2023-05-24T09:51:38.468525146Z",
     "start_time": "2023-05-24T09:51:38.462381458Z"
    }
   }
  },
  {
   "cell_type": "code",
   "execution_count": 15,
   "outputs": [],
   "source": [
    "df['publish_time'] = pd.to_datetime(df['publish_time'], format='%Y-%m-%d %H:%M:%S')"
   ],
   "metadata": {
    "collapsed": false,
    "ExecuteTime": {
     "end_time": "2023-05-24T09:51:23.910489208Z",
     "start_time": "2023-05-24T09:51:23.869740792Z"
    }
   }
  },
  {
   "cell_type": "code",
   "execution_count": 17,
   "outputs": [
    {
     "data": {
      "text/plain": "                            title                                       link   \n0               [公告] 2022新年道賀許願區   /bbs/Japan_Travel/M.1640975790.A.051.html  \\\n1           [資訊] 長崎觀光指南:舊上海銀行紀念館等  /bbs/Japan_Travel/M.1641017275.A.861.html   \n2     Re: [問題] 大家在日本發生過自認最丟臉的事是什麼  /bbs/Japan_Travel/M.1641133021.A.761.html   \n3           [住宿] 關西 W大阪 (W Hotel   /bbs/Japan_Travel/M.1641198125.A.93F.html   \n4              [食記] 沖繩恩那村 亀ぬ浜海人料理  /bbs/Japan_Travel/M.1641368540.A.CAB.html   \n...                           ...                                        ...   \n6992  [讓售] 4月24日teamlab 門票2張(可改期)  /bbs/Japan_Travel/M.1682173018.A.4AD.html   \n6993              [問題] 黃金週 京阪行程請益  /bbs/Japan_Travel/M.1682173628.A.062.html   \n6994        [問題] 北海道旅遊時間抉擇（6月、7月）  /bbs/Japan_Travel/M.1682177891.A.FD9.html   \n6995              [問題] 阪京7天6夜行程請益  /bbs/Japan_Travel/M.1682178076.A.ACA.html   \n6996     [心得]2023日本自駕事故處理介紹（個人經歷）  /bbs/Japan_Travel/M.1682178302.A.B37.html   \n\n            author        publish_time push_count   \n0         sinohara 2022-01-01 02:36:26         10  \\\n1         k4851118 2022-01-01 14:07:52          0   \n2           tsuneo 2022-01-02 22:16:53          7   \n3        iPhone777 2022-01-03 16:21:57         13   \n4       Sherlock56 2022-01-05 15:42:19          3   \n...            ...                 ...        ...   \n6992       gracelo 2023-04-22 22:16:56          0   \n6993          Jmoe 2023-04-22 22:26:55          9   \n6994  awihsataw168 2023-04-22 23:38:09          8   \n6995      chumu123 2023-04-22 23:41:14          4   \n6996       sherina 2023-04-22 23:44:48         10   \n\n                                                content        Date      Time  \n0     各位版友大家好今年算是無法出國的第二年了或許在座的各位 不論是人在哪邊 都會想回去日本看看不...  2022-01-01  02:36:26  \n1     長崎市歷史人文觀光指南:舊香港上海銀行長崎分店紀念館.玳瑁工藝館.須加五五道美術館巴哈姆特小...  2022-01-01  14:07:52  \n2     ※ 引述《fantasycheng (MIT GS)》之銘言：: 之前在美國唸書的時候愛上了...  2022-01-02  22:16:53  \n3     新年快樂!!!造訪日期：2121.11從上回寫完佐渡懶人包之後可能精疲力竭，超久都沒碰blo...  2022-01-03  16:21:57  \n4     店名：亀ぬ浜   地址：沖縄県国頭郡恩納村字恩納419-4 恩納海浜公園那比海灘内   電話...  2022-01-05  15:42:19  \n...                                                 ...         ...       ...  \n6992  1. 讓售品項：teamlab門票2張（可改入場日期與時段）2. 物品圖片：https://...  2023-04-22  22:16:56  \n6993  1. 行程日期：4/28～5/22. 每日行程：Day1:關西機場 → Haruka直達京都...  2023-04-22  22:26:55  \n6994  旅遊時間：6月底或7月中最近搜尋機票後發現六月底大概一萬，七月中大概兩萬多，由於價差有點大，...  2023-04-22  23:38:09  \n6995  因為是第一次自己出國自由行希望能夠順利，煩請各位指點、提醒需要注意的地方出遊日期：5/30(...  2023-04-22  23:41:14  \n6996  詳細內容資訊參考：https://www.youtube.com/watch?v=kKyn1...  2023-04-22  23:44:48  \n\n[6997 rows x 8 columns]",
      "text/html": "<div>\n<style scoped>\n    .dataframe tbody tr th:only-of-type {\n        vertical-align: middle;\n    }\n\n    .dataframe tbody tr th {\n        vertical-align: top;\n    }\n\n    .dataframe thead th {\n        text-align: right;\n    }\n</style>\n<table border=\"1\" class=\"dataframe\">\n  <thead>\n    <tr style=\"text-align: right;\">\n      <th></th>\n      <th>title</th>\n      <th>link</th>\n      <th>author</th>\n      <th>publish_time</th>\n      <th>push_count</th>\n      <th>content</th>\n      <th>Date</th>\n      <th>Time</th>\n    </tr>\n  </thead>\n  <tbody>\n    <tr>\n      <th>0</th>\n      <td>[公告] 2022新年道賀許願區</td>\n      <td>/bbs/Japan_Travel/M.1640975790.A.051.html</td>\n      <td>sinohara</td>\n      <td>2022-01-01 02:36:26</td>\n      <td>10</td>\n      <td>各位版友大家好今年算是無法出國的第二年了或許在座的各位 不論是人在哪邊 都會想回去日本看看不...</td>\n      <td>2022-01-01</td>\n      <td>02:36:26</td>\n    </tr>\n    <tr>\n      <th>1</th>\n      <td>[資訊] 長崎觀光指南:舊上海銀行紀念館等</td>\n      <td>/bbs/Japan_Travel/M.1641017275.A.861.html</td>\n      <td>k4851118</td>\n      <td>2022-01-01 14:07:52</td>\n      <td>0</td>\n      <td>長崎市歷史人文觀光指南:舊香港上海銀行長崎分店紀念館.玳瑁工藝館.須加五五道美術館巴哈姆特小...</td>\n      <td>2022-01-01</td>\n      <td>14:07:52</td>\n    </tr>\n    <tr>\n      <th>2</th>\n      <td>Re: [問題] 大家在日本發生過自認最丟臉的事是什麼</td>\n      <td>/bbs/Japan_Travel/M.1641133021.A.761.html</td>\n      <td>tsuneo</td>\n      <td>2022-01-02 22:16:53</td>\n      <td>7</td>\n      <td>※ 引述《fantasycheng (MIT GS)》之銘言：: 之前在美國唸書的時候愛上了...</td>\n      <td>2022-01-02</td>\n      <td>22:16:53</td>\n    </tr>\n    <tr>\n      <th>3</th>\n      <td>[住宿] 關西 W大阪 (W Hotel</td>\n      <td>/bbs/Japan_Travel/M.1641198125.A.93F.html</td>\n      <td>iPhone777</td>\n      <td>2022-01-03 16:21:57</td>\n      <td>13</td>\n      <td>新年快樂!!!造訪日期：2121.11從上回寫完佐渡懶人包之後可能精疲力竭，超久都沒碰blo...</td>\n      <td>2022-01-03</td>\n      <td>16:21:57</td>\n    </tr>\n    <tr>\n      <th>4</th>\n      <td>[食記] 沖繩恩那村 亀ぬ浜海人料理</td>\n      <td>/bbs/Japan_Travel/M.1641368540.A.CAB.html</td>\n      <td>Sherlock56</td>\n      <td>2022-01-05 15:42:19</td>\n      <td>3</td>\n      <td>店名：亀ぬ浜   地址：沖縄県国頭郡恩納村字恩納419-4 恩納海浜公園那比海灘内   電話...</td>\n      <td>2022-01-05</td>\n      <td>15:42:19</td>\n    </tr>\n    <tr>\n      <th>...</th>\n      <td>...</td>\n      <td>...</td>\n      <td>...</td>\n      <td>...</td>\n      <td>...</td>\n      <td>...</td>\n      <td>...</td>\n      <td>...</td>\n    </tr>\n    <tr>\n      <th>6992</th>\n      <td>[讓售] 4月24日teamlab 門票2張(可改期)</td>\n      <td>/bbs/Japan_Travel/M.1682173018.A.4AD.html</td>\n      <td>gracelo</td>\n      <td>2023-04-22 22:16:56</td>\n      <td>0</td>\n      <td>1. 讓售品項：teamlab門票2張（可改入場日期與時段）2. 物品圖片：https://...</td>\n      <td>2023-04-22</td>\n      <td>22:16:56</td>\n    </tr>\n    <tr>\n      <th>6993</th>\n      <td>[問題] 黃金週 京阪行程請益</td>\n      <td>/bbs/Japan_Travel/M.1682173628.A.062.html</td>\n      <td>Jmoe</td>\n      <td>2023-04-22 22:26:55</td>\n      <td>9</td>\n      <td>1. 行程日期：4/28～5/22. 每日行程：Day1:關西機場 → Haruka直達京都...</td>\n      <td>2023-04-22</td>\n      <td>22:26:55</td>\n    </tr>\n    <tr>\n      <th>6994</th>\n      <td>[問題] 北海道旅遊時間抉擇（6月、7月）</td>\n      <td>/bbs/Japan_Travel/M.1682177891.A.FD9.html</td>\n      <td>awihsataw168</td>\n      <td>2023-04-22 23:38:09</td>\n      <td>8</td>\n      <td>旅遊時間：6月底或7月中最近搜尋機票後發現六月底大概一萬，七月中大概兩萬多，由於價差有點大，...</td>\n      <td>2023-04-22</td>\n      <td>23:38:09</td>\n    </tr>\n    <tr>\n      <th>6995</th>\n      <td>[問題] 阪京7天6夜行程請益</td>\n      <td>/bbs/Japan_Travel/M.1682178076.A.ACA.html</td>\n      <td>chumu123</td>\n      <td>2023-04-22 23:41:14</td>\n      <td>4</td>\n      <td>因為是第一次自己出國自由行希望能夠順利，煩請各位指點、提醒需要注意的地方出遊日期：5/30(...</td>\n      <td>2023-04-22</td>\n      <td>23:41:14</td>\n    </tr>\n    <tr>\n      <th>6996</th>\n      <td>[心得]2023日本自駕事故處理介紹（個人經歷）</td>\n      <td>/bbs/Japan_Travel/M.1682178302.A.B37.html</td>\n      <td>sherina</td>\n      <td>2023-04-22 23:44:48</td>\n      <td>10</td>\n      <td>詳細內容資訊參考：https://www.youtube.com/watch?v=kKyn1...</td>\n      <td>2023-04-22</td>\n      <td>23:44:48</td>\n    </tr>\n  </tbody>\n</table>\n<p>6997 rows × 8 columns</p>\n</div>"
     },
     "execution_count": 17,
     "metadata": {},
     "output_type": "execute_result"
    }
   ],
   "source": [
    "df"
   ],
   "metadata": {
    "collapsed": false,
    "ExecuteTime": {
     "end_time": "2023-05-24T09:51:47.635538431Z",
     "start_time": "2023-05-24T09:51:47.594224568Z"
    }
   }
  },
  {
   "cell_type": "code",
   "execution_count": 18,
   "outputs": [],
   "source": [
    "df.to_csv('./jptrvl_post_time.csv', encoding='utf-8', sep=',', index=False)"
   ],
   "metadata": {
    "collapsed": false,
    "ExecuteTime": {
     "end_time": "2023-05-24T09:52:35.190309593Z",
     "start_time": "2023-05-24T09:52:35.113513964Z"
    }
   }
  },
  {
   "cell_type": "code",
   "execution_count": 19,
   "outputs": [],
   "source": [
    "def wordcloud(date):\n",
    "    # 讀取CSV檔案\n",
    "    df = pd.read_csv('jptrvl_post_time.csv')\n",
    "\n",
    "    # 選擇相同日期的文章內容\n",
    "    df = df[df['Date'].str.contains(date)]\n",
    "\n",
    "    # 合併文章內容\n",
    "    text = ' '.join(df['content'])\n",
    "\n",
    "    # 分詞處理\n",
    "    text = ' '.join(jieba.cut(text))\n",
    "\n",
    "    # 生成文字雲\n",
    "    wordcloud = WordCloud(font_path='/usr/share/fonts/google-noto-cjk/NotoSansCJK-Regular.ttc', width=800, height=600).generate(text)\n",
    "\n",
    "    print(wordcloud)"
   ],
   "metadata": {
    "collapsed": false,
    "ExecuteTime": {
     "end_time": "2023-05-24T09:56:25.322435637Z",
     "start_time": "2023-05-24T09:56:25.269918671Z"
    }
   }
  },
  {
   "cell_type": "code",
   "execution_count": 23,
   "outputs": [
    {
     "name": "stderr",
     "output_type": "stream",
     "text": [
      "Building prefix dict from the default dictionary ...\n",
      "Loading model from cache /tmp/jieba.cache\n",
      "Loading model cost 0.290 seconds.\n",
      "Prefix dict has been built successfully.\n"
     ]
    }
   ],
   "source": [
    "wordcloud('2022-01-01')"
   ],
   "metadata": {
    "collapsed": false,
    "ExecuteTime": {
     "end_time": "2023-05-24T09:59:16.458333088Z",
     "start_time": "2023-05-24T09:59:14.901302414Z"
    }
   }
  },
  {
   "cell_type": "code",
   "execution_count": 24,
   "outputs": [
    {
     "name": "stdout",
     "output_type": "stream",
     "text": [
      "<function wordcloud at 0x7f211bc2b3a0>\n"
     ]
    }
   ],
   "source": [
    "print(wordcloud)"
   ],
   "metadata": {
    "collapsed": false,
    "ExecuteTime": {
     "end_time": "2023-05-24T09:59:57.440408726Z",
     "start_time": "2023-05-24T09:59:57.399994229Z"
    }
   }
  }
 ],
 "metadata": {
  "kernelspec": {
   "display_name": "Python 3",
   "language": "python",
   "name": "python3"
  },
  "language_info": {
   "codemirror_mode": {
    "name": "ipython",
    "version": 2
   },
   "file_extension": ".py",
   "mimetype": "text/x-python",
   "name": "python",
   "nbconvert_exporter": "python",
   "pygments_lexer": "ipython2",
   "version": "2.7.6"
  }
 },
 "nbformat": 4,
 "nbformat_minor": 0
}
