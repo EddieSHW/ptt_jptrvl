{
 "cells": [
  {
   "cell_type": "code",
   "execution_count": 1,
   "metadata": {
    "collapsed": true,
    "pycharm": {
     "name": "#%%\n"
    }
   },
   "outputs": [],
   "source": [
    "import numpy as np\n",
    "import pandas as pd\n",
    "import psycopg2"
   ]
  },
  {
   "cell_type": "code",
   "execution_count": 2,
   "outputs": [],
   "source": [
    "DB_HOST = '127.0.0.1'\n",
    "DB_PORT = '5432'\n",
    "DB_NAME = 'jptrvl'\n",
    "DB_USER = 'postgres'\n",
    "DB_PASS = 'pttjp118'\n",
    "\n",
    "TB_NAME = 'public.jptrvl_post'\n",
    "\n",
    "conn_string = f'host={DB_HOST} user={DB_USER} dbname={DB_NAME} password={DB_PASS} port={DB_PORT}'\n",
    "\n",
    "conn = psycopg2.connect(conn_string)\n",
    "\n",
    "sql = f\"SELECT * FROM {TB_NAME} WHERE publish_time BETWEEN '2021-06-01' AND '2022-05-31;'\""
   ],
   "metadata": {
    "collapsed": false,
    "pycharm": {
     "name": "#%%\n"
    }
   }
  },
  {
   "cell_type": "code",
   "execution_count": 18,
   "outputs": [
    {
     "name": "stderr",
     "output_type": "stream",
     "text": [
      "C:\\Users\\DSSzuHung\\anaconda3\\envs\\nlp\\lib\\site-packages\\pandas\\io\\sql.py:761: UserWarning: pandas only support SQLAlchemy connectable(engine/connection) ordatabase string URI or sqlite3 DBAPI2 connectionother DBAPI2 objects are not tested, please consider using SQLAlchemy\n",
      "  warnings.warn(\n"
     ]
    },
    {
     "data": {
      "text/plain": "      id                                title  \\\n0     48  [資訊] JCB PLAZA Kyoto 已於2022年3月31日關閉   \n1    295            [食記] 東京 築地銀章魚酒場 轉型後的美味炸雞皮   \n2     16         [公告] 111年(上)實況回報(含天氣/物候/穿著詢問   \n3     17              Fw: [公告] 請使用者採取建議措施保護帳號   \n4     60              [資訊] 台灣虎航冬季航班開賣促銷798元起！   \n..   ...                                  ...   \n741  791                    [資訊] 東京迪士尼海洋20週年慶   \n742  792            [食記] 金澤 | 和菓子小人不倒翁，世界一的可愛   \n743  793             [問卷] 旅行行為與紀念品消費習慣調查（已截止）   \n744  794          [遊記] 北海道初行之旅(2) 支芴湖 第一滝本館 海   \n745  795            [遊記] 日劇 大豆田永久子與三個前夫 攝影地踩點   \n\n                                                  link       author  \\\n0    https://www.ptt.cc/bbs/Japan_Travel/M.16538888...  dahonehsueh   \n1    https://www.ptt.cc/bbs/Japan_Travel/M.16426058...   Sherlock56   \n2    https://www.ptt.cc/bbs/Japan_Travel/M.16419722...    airpretty   \n3    https://www.ptt.cc/bbs/Japan_Travel/M.16506041...    mithralin   \n4    https://www.ptt.cc/bbs/Japan_Travel/M.16532762...         dcat   \n..                                                 ...          ...   \n741  https://www.ptt.cc/bbs/Japan_Travel/M.16230432...        ccldg   \n742  https://www.ptt.cc/bbs/Japan_Travel/M.16230622...     paranana   \n743  https://www.ptt.cc/bbs/Japan_Travel/M.16230649...      zzzoraa   \n744  https://www.ptt.cc/bbs/Japan_Travel/M.16231421...   Sherlock56   \n745  https://www.ptt.cc/bbs/Japan_Travel/M.16232256...    tsujimini   \n\n           publish_time push_count  \\\n0   2022-05-30 13:33:36          7   \n1   2022-01-19 23:24:10          5   \n2   2022-01-12 15:24:10         10   \n3   2022-04-22 13:09:37              \n4   2022-05-23 11:24:17          爆   \n..                  ...        ...   \n741 2021-06-07 13:20:02         19   \n742 2021-06-07 18:37:49          7   \n743 2021-06-07 19:21:46          爆   \n744 2021-06-08 16:48:29         17   \n745 2021-06-09 16:01:16          6   \n\n                                               content  \n0    https://reurl.cc/GxGdOG今天看到寄行李的相關問題，就興緻一來去查一下，...  \n1       店名：築地銀章魚酒場 芝大門店   地址：東京都港区芝大門1-16-9   電話：03...  \n2    https://imgur.com/hI3mgM1Dear 版友們~新的一年又展開序幕了，謝...  \n3    ※ [本文轉錄自 SYSOP 看板 #1YOZAWAG ]作者: okcool ( ) 看板...  \n4    台  灣  虎  航【虎  將  湯 】來了！✈ 冬季航班開賣798元起！本次開賣航線包括：...  \n..                                                 ...  \n741  有沒有跟誰約定過，逢東京迪士尼週年慶都會去呢總算等到了…本來以為四月就有相關訊息，剛才收到提...  \n742  店    名：金沢 うら田地    址：金沢市御影町21-14營業時間：09:00~17:0...  \n743  6/20 21:28(台灣時間)更新謝謝日旅版各位的踴躍填答，目前已收集足夠的有效問券！也在...  \n744  造訪日期：2020年1月https://pic.pimg.tw/junespring/162...  \n745  造訪日期：2021/6本季日劇「大豆田永久子與三個前夫」的拍攝場景滿多都在澀谷跟代代木周邊，...  \n\n[746 rows x 7 columns]",
      "text/html": "<div>\n<style scoped>\n    .dataframe tbody tr th:only-of-type {\n        vertical-align: middle;\n    }\n\n    .dataframe tbody tr th {\n        vertical-align: top;\n    }\n\n    .dataframe thead th {\n        text-align: right;\n    }\n</style>\n<table border=\"1\" class=\"dataframe\">\n  <thead>\n    <tr style=\"text-align: right;\">\n      <th></th>\n      <th>id</th>\n      <th>title</th>\n      <th>link</th>\n      <th>author</th>\n      <th>publish_time</th>\n      <th>push_count</th>\n      <th>content</th>\n    </tr>\n  </thead>\n  <tbody>\n    <tr>\n      <th>0</th>\n      <td>48</td>\n      <td>[資訊] JCB PLAZA Kyoto 已於2022年3月31日關閉</td>\n      <td>https://www.ptt.cc/bbs/Japan_Travel/M.16538888...</td>\n      <td>dahonehsueh</td>\n      <td>2022-05-30 13:33:36</td>\n      <td>7</td>\n      <td>https://reurl.cc/GxGdOG今天看到寄行李的相關問題，就興緻一來去查一下，...</td>\n    </tr>\n    <tr>\n      <th>1</th>\n      <td>295</td>\n      <td>[食記] 東京 築地銀章魚酒場 轉型後的美味炸雞皮</td>\n      <td>https://www.ptt.cc/bbs/Japan_Travel/M.16426058...</td>\n      <td>Sherlock56</td>\n      <td>2022-01-19 23:24:10</td>\n      <td>5</td>\n      <td>店名：築地銀章魚酒場 芝大門店   地址：東京都港区芝大門1-16-9   電話：03...</td>\n    </tr>\n    <tr>\n      <th>2</th>\n      <td>16</td>\n      <td>[公告] 111年(上)實況回報(含天氣/物候/穿著詢問</td>\n      <td>https://www.ptt.cc/bbs/Japan_Travel/M.16419722...</td>\n      <td>airpretty</td>\n      <td>2022-01-12 15:24:10</td>\n      <td>10</td>\n      <td>https://imgur.com/hI3mgM1Dear 版友們~新的一年又展開序幕了，謝...</td>\n    </tr>\n    <tr>\n      <th>3</th>\n      <td>17</td>\n      <td>Fw: [公告] 請使用者採取建議措施保護帳號</td>\n      <td>https://www.ptt.cc/bbs/Japan_Travel/M.16506041...</td>\n      <td>mithralin</td>\n      <td>2022-04-22 13:09:37</td>\n      <td></td>\n      <td>※ [本文轉錄自 SYSOP 看板 #1YOZAWAG ]作者: okcool ( ) 看板...</td>\n    </tr>\n    <tr>\n      <th>4</th>\n      <td>60</td>\n      <td>[資訊] 台灣虎航冬季航班開賣促銷798元起！</td>\n      <td>https://www.ptt.cc/bbs/Japan_Travel/M.16532762...</td>\n      <td>dcat</td>\n      <td>2022-05-23 11:24:17</td>\n      <td>爆</td>\n      <td>台  灣  虎  航【虎  將  湯 】來了！✈ 冬季航班開賣798元起！本次開賣航線包括：...</td>\n    </tr>\n    <tr>\n      <th>...</th>\n      <td>...</td>\n      <td>...</td>\n      <td>...</td>\n      <td>...</td>\n      <td>...</td>\n      <td>...</td>\n      <td>...</td>\n    </tr>\n    <tr>\n      <th>741</th>\n      <td>791</td>\n      <td>[資訊] 東京迪士尼海洋20週年慶</td>\n      <td>https://www.ptt.cc/bbs/Japan_Travel/M.16230432...</td>\n      <td>ccldg</td>\n      <td>2021-06-07 13:20:02</td>\n      <td>19</td>\n      <td>有沒有跟誰約定過，逢東京迪士尼週年慶都會去呢總算等到了…本來以為四月就有相關訊息，剛才收到提...</td>\n    </tr>\n    <tr>\n      <th>742</th>\n      <td>792</td>\n      <td>[食記] 金澤 | 和菓子小人不倒翁，世界一的可愛</td>\n      <td>https://www.ptt.cc/bbs/Japan_Travel/M.16230622...</td>\n      <td>paranana</td>\n      <td>2021-06-07 18:37:49</td>\n      <td>7</td>\n      <td>店    名：金沢 うら田地    址：金沢市御影町21-14營業時間：09:00~17:0...</td>\n    </tr>\n    <tr>\n      <th>743</th>\n      <td>793</td>\n      <td>[問卷] 旅行行為與紀念品消費習慣調查（已截止）</td>\n      <td>https://www.ptt.cc/bbs/Japan_Travel/M.16230649...</td>\n      <td>zzzoraa</td>\n      <td>2021-06-07 19:21:46</td>\n      <td>爆</td>\n      <td>6/20 21:28(台灣時間)更新謝謝日旅版各位的踴躍填答，目前已收集足夠的有效問券！也在...</td>\n    </tr>\n    <tr>\n      <th>744</th>\n      <td>794</td>\n      <td>[遊記] 北海道初行之旅(2) 支芴湖 第一滝本館 海</td>\n      <td>https://www.ptt.cc/bbs/Japan_Travel/M.16231421...</td>\n      <td>Sherlock56</td>\n      <td>2021-06-08 16:48:29</td>\n      <td>17</td>\n      <td>造訪日期：2020年1月https://pic.pimg.tw/junespring/162...</td>\n    </tr>\n    <tr>\n      <th>745</th>\n      <td>795</td>\n      <td>[遊記] 日劇 大豆田永久子與三個前夫 攝影地踩點</td>\n      <td>https://www.ptt.cc/bbs/Japan_Travel/M.16232256...</td>\n      <td>tsujimini</td>\n      <td>2021-06-09 16:01:16</td>\n      <td>6</td>\n      <td>造訪日期：2021/6本季日劇「大豆田永久子與三個前夫」的拍攝場景滿多都在澀谷跟代代木周邊，...</td>\n    </tr>\n  </tbody>\n</table>\n<p>746 rows × 7 columns</p>\n</div>"
     },
     "execution_count": 18,
     "metadata": {},
     "output_type": "execute_result"
    }
   ],
   "source": [
    "df = pd.read_sql(sql, conn)\n",
    "df"
   ],
   "metadata": {
    "collapsed": false,
    "pycharm": {
     "name": "#%%\n"
    }
   }
  },
  {
   "cell_type": "code",
   "execution_count": 19,
   "outputs": [
    {
     "data": {
      "text/plain": "      id                                title  \\\n732  782                  [遊記] 小笠原諸島-1 『小笠原丸』   \n733  783              Re: [請益] 被高良大社貓跟2hr下山怎辦   \n734  784      [食記]東京 | Number Sugar 夏季限定牛奶糖咖啡   \n735  785            [遊記] 村上海賊的「能島城」(續百大)與潮流體驗   \n736  786                  [問題] 日本溫泉飯店更衣間提供去角質   \n..   ...                                  ...   \n11    45                     [遊記] 2019山陰：石見銀山   \n12    46                      [資訊] 20220530匯率   \n13    47                [新聞] 蘇貞昌同意鬆綁邊境管制、檢疫天數   \n0     48  [資訊] JCB PLAZA Kyoto 已於2022年3月31日關閉   \n15    49             [食記] モーリヤ Mouriya 神戶牛鐵板燒   \n\n                                                  link       author  \\\n732  https://www.ptt.cc/bbs/Japan_Travel/M.16226239...          BBQ   \n733  https://www.ptt.cc/bbs/Japan_Travel/M.16227446...     nolander   \n734  https://www.ptt.cc/bbs/Japan_Travel/M.16227811...     paranana   \n735  https://www.ptt.cc/bbs/Japan_Travel/M.16227830...       hidein   \n736  https://www.ptt.cc/bbs/Japan_Travel/M.16227961...     eric0626   \n..                                                 ...          ...   \n11   https://www.ptt.cc/bbs/Japan_Travel/M.16538322...      yeadean   \n12   https://www.ptt.cc/bbs/Japan_Travel/M.16538753...  jasmine3471   \n13   https://www.ptt.cc/bbs/Japan_Travel/M.16538882...    e38651028   \n0    https://www.ptt.cc/bbs/Japan_Travel/M.16538888...  dahonehsueh   \n15   https://www.ptt.cc/bbs/Japan_Travel/M.16539127...    a09250955   \n\n           publish_time push_count  \\\n732 2021-06-02 16:51:51          8   \n733 2021-06-04 02:23:57         55   \n734 2021-06-04 12:33:04          1   \n735 2021-06-04 13:03:24          2   \n736 2021-06-04 16:43:17          8   \n..                  ...        ...   \n11  2022-05-29 21:50:06         17   \n12  2022-05-30 09:48:37         30   \n13  2022-05-30 13:23:45          爆   \n0   2022-05-30 13:33:36          7   \n15  2022-05-30 20:12:52          6   \n\n                                               content  \n732                                       造訪日期：2018/05  \n733  前情提要:#1TiyOTil (Japan_Travel)本來是想說 貓也完整開心地每天在我...  \n734  店    名：Number Sugar地    址：〒150-0001 東京都渋谷区神宮前5...  \n735  造訪日期：2019/11/28完整高清圖文網誌https://hidejellyfish.b...  \n736  之前去日本泡溫泉時外面更衣間吹頭髮的地方都有提供頭皮水跟臉部去角質臉部去角質好像都是長方形居...  \n..                                                 ...  \n11   造訪日期：2019年10月網頁圖文版：https://yeadean.pixnet.net/...  \n12   2022.05.30現金換匯最佳牌告匯率台灣銀行 / 0.2339/ 更新時間：09:41台...  \n13    蘇貞昌同意鬆綁邊境管制　放寬入境總量上限、檢疫天數https://reurl.cc/KbO...  \n0    https://reurl.cc/GxGdOG今天看到寄行李的相關問題，就興緻一來去查一下，...  \n15   店    名：モーリヤ Mouriya地    址：〒650-0011 兵庫県神戸市中央区下...  \n\n[746 rows x 7 columns]",
      "text/html": "<div>\n<style scoped>\n    .dataframe tbody tr th:only-of-type {\n        vertical-align: middle;\n    }\n\n    .dataframe tbody tr th {\n        vertical-align: top;\n    }\n\n    .dataframe thead th {\n        text-align: right;\n    }\n</style>\n<table border=\"1\" class=\"dataframe\">\n  <thead>\n    <tr style=\"text-align: right;\">\n      <th></th>\n      <th>id</th>\n      <th>title</th>\n      <th>link</th>\n      <th>author</th>\n      <th>publish_time</th>\n      <th>push_count</th>\n      <th>content</th>\n    </tr>\n  </thead>\n  <tbody>\n    <tr>\n      <th>732</th>\n      <td>782</td>\n      <td>[遊記] 小笠原諸島-1 『小笠原丸』</td>\n      <td>https://www.ptt.cc/bbs/Japan_Travel/M.16226239...</td>\n      <td>BBQ</td>\n      <td>2021-06-02 16:51:51</td>\n      <td>8</td>\n      <td>造訪日期：2018/05</td>\n    </tr>\n    <tr>\n      <th>733</th>\n      <td>783</td>\n      <td>Re: [請益] 被高良大社貓跟2hr下山怎辦</td>\n      <td>https://www.ptt.cc/bbs/Japan_Travel/M.16227446...</td>\n      <td>nolander</td>\n      <td>2021-06-04 02:23:57</td>\n      <td>55</td>\n      <td>前情提要:#1TiyOTil (Japan_Travel)本來是想說 貓也完整開心地每天在我...</td>\n    </tr>\n    <tr>\n      <th>734</th>\n      <td>784</td>\n      <td>[食記]東京 | Number Sugar 夏季限定牛奶糖咖啡</td>\n      <td>https://www.ptt.cc/bbs/Japan_Travel/M.16227811...</td>\n      <td>paranana</td>\n      <td>2021-06-04 12:33:04</td>\n      <td>1</td>\n      <td>店    名：Number Sugar地    址：〒150-0001 東京都渋谷区神宮前5...</td>\n    </tr>\n    <tr>\n      <th>735</th>\n      <td>785</td>\n      <td>[遊記] 村上海賊的「能島城」(續百大)與潮流體驗</td>\n      <td>https://www.ptt.cc/bbs/Japan_Travel/M.16227830...</td>\n      <td>hidein</td>\n      <td>2021-06-04 13:03:24</td>\n      <td>2</td>\n      <td>造訪日期：2019/11/28完整高清圖文網誌https://hidejellyfish.b...</td>\n    </tr>\n    <tr>\n      <th>736</th>\n      <td>786</td>\n      <td>[問題] 日本溫泉飯店更衣間提供去角質</td>\n      <td>https://www.ptt.cc/bbs/Japan_Travel/M.16227961...</td>\n      <td>eric0626</td>\n      <td>2021-06-04 16:43:17</td>\n      <td>8</td>\n      <td>之前去日本泡溫泉時外面更衣間吹頭髮的地方都有提供頭皮水跟臉部去角質臉部去角質好像都是長方形居...</td>\n    </tr>\n    <tr>\n      <th>...</th>\n      <td>...</td>\n      <td>...</td>\n      <td>...</td>\n      <td>...</td>\n      <td>...</td>\n      <td>...</td>\n      <td>...</td>\n    </tr>\n    <tr>\n      <th>11</th>\n      <td>45</td>\n      <td>[遊記] 2019山陰：石見銀山</td>\n      <td>https://www.ptt.cc/bbs/Japan_Travel/M.16538322...</td>\n      <td>yeadean</td>\n      <td>2022-05-29 21:50:06</td>\n      <td>17</td>\n      <td>造訪日期：2019年10月網頁圖文版：https://yeadean.pixnet.net/...</td>\n    </tr>\n    <tr>\n      <th>12</th>\n      <td>46</td>\n      <td>[資訊] 20220530匯率</td>\n      <td>https://www.ptt.cc/bbs/Japan_Travel/M.16538753...</td>\n      <td>jasmine3471</td>\n      <td>2022-05-30 09:48:37</td>\n      <td>30</td>\n      <td>2022.05.30現金換匯最佳牌告匯率台灣銀行 / 0.2339/ 更新時間：09:41台...</td>\n    </tr>\n    <tr>\n      <th>13</th>\n      <td>47</td>\n      <td>[新聞] 蘇貞昌同意鬆綁邊境管制、檢疫天數</td>\n      <td>https://www.ptt.cc/bbs/Japan_Travel/M.16538882...</td>\n      <td>e38651028</td>\n      <td>2022-05-30 13:23:45</td>\n      <td>爆</td>\n      <td>蘇貞昌同意鬆綁邊境管制　放寬入境總量上限、檢疫天數https://reurl.cc/KbO...</td>\n    </tr>\n    <tr>\n      <th>0</th>\n      <td>48</td>\n      <td>[資訊] JCB PLAZA Kyoto 已於2022年3月31日關閉</td>\n      <td>https://www.ptt.cc/bbs/Japan_Travel/M.16538888...</td>\n      <td>dahonehsueh</td>\n      <td>2022-05-30 13:33:36</td>\n      <td>7</td>\n      <td>https://reurl.cc/GxGdOG今天看到寄行李的相關問題，就興緻一來去查一下，...</td>\n    </tr>\n    <tr>\n      <th>15</th>\n      <td>49</td>\n      <td>[食記] モーリヤ Mouriya 神戶牛鐵板燒</td>\n      <td>https://www.ptt.cc/bbs/Japan_Travel/M.16539127...</td>\n      <td>a09250955</td>\n      <td>2022-05-30 20:12:52</td>\n      <td>6</td>\n      <td>店    名：モーリヤ Mouriya地    址：〒650-0011 兵庫県神戸市中央区下...</td>\n    </tr>\n  </tbody>\n</table>\n<p>746 rows × 7 columns</p>\n</div>"
     },
     "execution_count": 19,
     "metadata": {},
     "output_type": "execute_result"
    }
   ],
   "source": [
    "df = df.sort_values(by=['publish_time'])\n",
    "df"
   ],
   "metadata": {
    "collapsed": false,
    "pycharm": {
     "name": "#%%\n"
    }
   }
  },
  {
   "cell_type": "code",
   "execution_count": 20,
   "outputs": [
    {
     "data": {
      "text/plain": "id              False\ntitle           False\nlink            False\nauthor          False\npublish_time    False\npush_count      False\ncontent         False\ndtype: bool"
     },
     "execution_count": 20,
     "metadata": {},
     "output_type": "execute_result"
    }
   ],
   "source": [
    "df.isnull().any()"
   ],
   "metadata": {
    "collapsed": false,
    "pycharm": {
     "name": "#%%\n"
    }
   }
  },
  {
   "cell_type": "code",
   "execution_count": 21,
   "outputs": [
    {
     "data": {
      "text/plain": "      id                         title  \\\n732  782           [遊記] 小笠原諸島-1 『小笠原丸』   \n148  571           [遊記] 小笠原諸島-2 『母島』-1   \n340  575           [遊記] 小笠原諸島-3 『母島』-2   \n2     16  [公告] 111年(上)實況回報(含天氣/物候/穿著詢問   \n249  289  [公告] 111年(上)實況回報(含天氣/物候/穿著詢問   \n80   121       Fw: [公告] 請使用者採取建議措施保護帳號   \n3     17       Fw: [公告] 請使用者採取建議措施保護帳號   \n\n                                                  link     author  \\\n732  https://www.ptt.cc/bbs/Japan_Travel/M.16226239...        BBQ   \n148  https://www.ptt.cc/bbs/Japan_Travel/M.16284724...        BBQ   \n340  https://www.ptt.cc/bbs/Japan_Travel/M.16285730...        BBQ   \n2    https://www.ptt.cc/bbs/Japan_Travel/M.16419722...  airpretty   \n249  https://www.ptt.cc/bbs/Japan_Travel/M.16419722...  airpretty   \n80   https://www.ptt.cc/bbs/Japan_Travel/M.16506041...  mithralin   \n3    https://www.ptt.cc/bbs/Japan_Travel/M.16506041...  mithralin   \n\n           publish_time push_count  \\\n732 2021-06-02 16:51:51          8   \n148 2021-08-09 09:27:21          5   \n340 2021-08-10 13:24:31          4   \n2   2022-01-12 15:24:10         10   \n249 2022-01-12 15:24:10          1   \n80  2022-04-22 13:09:37              \n3   2022-04-22 13:09:37              \n\n                                               content  \n732                                       造訪日期：2018/05  \n148                                       造訪日期：2018/05  \n340                                       造訪日期：2018/05  \n2    https://imgur.com/hI3mgM1Dear 版友們~新的一年又展開序幕了，謝...  \n249  https://imgur.com/hI3mgM1Dear 版友們~新的一年又展開序幕了，謝...  \n80   ※ [本文轉錄自 SYSOP 看板 #1YOZAWAG ]作者: okcool ( ) 看板...  \n3    ※ [本文轉錄自 SYSOP 看板 #1YOZAWAG ]作者: okcool ( ) 看板...  ",
      "text/html": "<div>\n<style scoped>\n    .dataframe tbody tr th:only-of-type {\n        vertical-align: middle;\n    }\n\n    .dataframe tbody tr th {\n        vertical-align: top;\n    }\n\n    .dataframe thead th {\n        text-align: right;\n    }\n</style>\n<table border=\"1\" class=\"dataframe\">\n  <thead>\n    <tr style=\"text-align: right;\">\n      <th></th>\n      <th>id</th>\n      <th>title</th>\n      <th>link</th>\n      <th>author</th>\n      <th>publish_time</th>\n      <th>push_count</th>\n      <th>content</th>\n    </tr>\n  </thead>\n  <tbody>\n    <tr>\n      <th>732</th>\n      <td>782</td>\n      <td>[遊記] 小笠原諸島-1 『小笠原丸』</td>\n      <td>https://www.ptt.cc/bbs/Japan_Travel/M.16226239...</td>\n      <td>BBQ</td>\n      <td>2021-06-02 16:51:51</td>\n      <td>8</td>\n      <td>造訪日期：2018/05</td>\n    </tr>\n    <tr>\n      <th>148</th>\n      <td>571</td>\n      <td>[遊記] 小笠原諸島-2 『母島』-1</td>\n      <td>https://www.ptt.cc/bbs/Japan_Travel/M.16284724...</td>\n      <td>BBQ</td>\n      <td>2021-08-09 09:27:21</td>\n      <td>5</td>\n      <td>造訪日期：2018/05</td>\n    </tr>\n    <tr>\n      <th>340</th>\n      <td>575</td>\n      <td>[遊記] 小笠原諸島-3 『母島』-2</td>\n      <td>https://www.ptt.cc/bbs/Japan_Travel/M.16285730...</td>\n      <td>BBQ</td>\n      <td>2021-08-10 13:24:31</td>\n      <td>4</td>\n      <td>造訪日期：2018/05</td>\n    </tr>\n    <tr>\n      <th>2</th>\n      <td>16</td>\n      <td>[公告] 111年(上)實況回報(含天氣/物候/穿著詢問</td>\n      <td>https://www.ptt.cc/bbs/Japan_Travel/M.16419722...</td>\n      <td>airpretty</td>\n      <td>2022-01-12 15:24:10</td>\n      <td>10</td>\n      <td>https://imgur.com/hI3mgM1Dear 版友們~新的一年又展開序幕了，謝...</td>\n    </tr>\n    <tr>\n      <th>249</th>\n      <td>289</td>\n      <td>[公告] 111年(上)實況回報(含天氣/物候/穿著詢問</td>\n      <td>https://www.ptt.cc/bbs/Japan_Travel/M.16419722...</td>\n      <td>airpretty</td>\n      <td>2022-01-12 15:24:10</td>\n      <td>1</td>\n      <td>https://imgur.com/hI3mgM1Dear 版友們~新的一年又展開序幕了，謝...</td>\n    </tr>\n    <tr>\n      <th>80</th>\n      <td>121</td>\n      <td>Fw: [公告] 請使用者採取建議措施保護帳號</td>\n      <td>https://www.ptt.cc/bbs/Japan_Travel/M.16506041...</td>\n      <td>mithralin</td>\n      <td>2022-04-22 13:09:37</td>\n      <td></td>\n      <td>※ [本文轉錄自 SYSOP 看板 #1YOZAWAG ]作者: okcool ( ) 看板...</td>\n    </tr>\n    <tr>\n      <th>3</th>\n      <td>17</td>\n      <td>Fw: [公告] 請使用者採取建議措施保護帳號</td>\n      <td>https://www.ptt.cc/bbs/Japan_Travel/M.16506041...</td>\n      <td>mithralin</td>\n      <td>2022-04-22 13:09:37</td>\n      <td></td>\n      <td>※ [本文轉錄自 SYSOP 看板 #1YOZAWAG ]作者: okcool ( ) 看板...</td>\n    </tr>\n  </tbody>\n</table>\n</div>"
     },
     "execution_count": 21,
     "metadata": {},
     "output_type": "execute_result"
    }
   ],
   "source": [
    "df_dup = df[df.duplicated(subset=['content'], keep=False)]\n",
    "df_dup"
   ],
   "metadata": {
    "collapsed": false,
    "pycharm": {
     "name": "#%%\n"
    }
   }
  },
  {
   "cell_type": "code",
   "execution_count": 22,
   "outputs": [
    {
     "data": {
      "text/plain": "      id                                title  \\\n732  782                  [遊記] 小笠原諸島-1 『小笠原丸』   \n733  783              Re: [請益] 被高良大社貓跟2hr下山怎辦   \n734  784      [食記]東京 | Number Sugar 夏季限定牛奶糖咖啡   \n735  785            [遊記] 村上海賊的「能島城」(續百大)與潮流體驗   \n736  786                  [問題] 日本溫泉飯店更衣間提供去角質   \n..   ...                                  ...   \n11    45                     [遊記] 2019山陰：石見銀山   \n12    46                      [資訊] 20220530匯率   \n13    47                [新聞] 蘇貞昌同意鬆綁邊境管制、檢疫天數   \n0     48  [資訊] JCB PLAZA Kyoto 已於2022年3月31日關閉   \n15    49             [食記] モーリヤ Mouriya 神戶牛鐵板燒   \n\n                                                  link       author  \\\n732  https://www.ptt.cc/bbs/Japan_Travel/M.16226239...          BBQ   \n733  https://www.ptt.cc/bbs/Japan_Travel/M.16227446...     nolander   \n734  https://www.ptt.cc/bbs/Japan_Travel/M.16227811...     paranana   \n735  https://www.ptt.cc/bbs/Japan_Travel/M.16227830...       hidein   \n736  https://www.ptt.cc/bbs/Japan_Travel/M.16227961...     eric0626   \n..                                                 ...          ...   \n11   https://www.ptt.cc/bbs/Japan_Travel/M.16538322...      yeadean   \n12   https://www.ptt.cc/bbs/Japan_Travel/M.16538753...  jasmine3471   \n13   https://www.ptt.cc/bbs/Japan_Travel/M.16538882...    e38651028   \n0    https://www.ptt.cc/bbs/Japan_Travel/M.16538888...  dahonehsueh   \n15   https://www.ptt.cc/bbs/Japan_Travel/M.16539127...    a09250955   \n\n           publish_time push_count  \\\n732 2021-06-02 16:51:51          8   \n733 2021-06-04 02:23:57         55   \n734 2021-06-04 12:33:04          1   \n735 2021-06-04 13:03:24          2   \n736 2021-06-04 16:43:17          8   \n..                  ...        ...   \n11  2022-05-29 21:50:06         17   \n12  2022-05-30 09:48:37         30   \n13  2022-05-30 13:23:45          爆   \n0   2022-05-30 13:33:36          7   \n15  2022-05-30 20:12:52          6   \n\n                                               content  \n732                                       造訪日期：2018/05  \n733  前情提要:#1TiyOTil (Japan_Travel)本來是想說 貓也完整開心地每天在我...  \n734  店    名：Number Sugar地    址：〒150-0001 東京都渋谷区神宮前5...  \n735  造訪日期：2019/11/28完整高清圖文網誌https://hidejellyfish.b...  \n736  之前去日本泡溫泉時外面更衣間吹頭髮的地方都有提供頭皮水跟臉部去角質臉部去角質好像都是長方形居...  \n..                                                 ...  \n11   造訪日期：2019年10月網頁圖文版：https://yeadean.pixnet.net/...  \n12   2022.05.30現金換匯最佳牌告匯率台灣銀行 / 0.2339/ 更新時間：09:41台...  \n13    蘇貞昌同意鬆綁邊境管制　放寬入境總量上限、檢疫天數https://reurl.cc/KbO...  \n0    https://reurl.cc/GxGdOG今天看到寄行李的相關問題，就興緻一來去查一下，...  \n15   店    名：モーリヤ Mouriya地    址：〒650-0011 兵庫県神戸市中央区下...  \n\n[742 rows x 7 columns]",
      "text/html": "<div>\n<style scoped>\n    .dataframe tbody tr th:only-of-type {\n        vertical-align: middle;\n    }\n\n    .dataframe tbody tr th {\n        vertical-align: top;\n    }\n\n    .dataframe thead th {\n        text-align: right;\n    }\n</style>\n<table border=\"1\" class=\"dataframe\">\n  <thead>\n    <tr style=\"text-align: right;\">\n      <th></th>\n      <th>id</th>\n      <th>title</th>\n      <th>link</th>\n      <th>author</th>\n      <th>publish_time</th>\n      <th>push_count</th>\n      <th>content</th>\n    </tr>\n  </thead>\n  <tbody>\n    <tr>\n      <th>732</th>\n      <td>782</td>\n      <td>[遊記] 小笠原諸島-1 『小笠原丸』</td>\n      <td>https://www.ptt.cc/bbs/Japan_Travel/M.16226239...</td>\n      <td>BBQ</td>\n      <td>2021-06-02 16:51:51</td>\n      <td>8</td>\n      <td>造訪日期：2018/05</td>\n    </tr>\n    <tr>\n      <th>733</th>\n      <td>783</td>\n      <td>Re: [請益] 被高良大社貓跟2hr下山怎辦</td>\n      <td>https://www.ptt.cc/bbs/Japan_Travel/M.16227446...</td>\n      <td>nolander</td>\n      <td>2021-06-04 02:23:57</td>\n      <td>55</td>\n      <td>前情提要:#1TiyOTil (Japan_Travel)本來是想說 貓也完整開心地每天在我...</td>\n    </tr>\n    <tr>\n      <th>734</th>\n      <td>784</td>\n      <td>[食記]東京 | Number Sugar 夏季限定牛奶糖咖啡</td>\n      <td>https://www.ptt.cc/bbs/Japan_Travel/M.16227811...</td>\n      <td>paranana</td>\n      <td>2021-06-04 12:33:04</td>\n      <td>1</td>\n      <td>店    名：Number Sugar地    址：〒150-0001 東京都渋谷区神宮前5...</td>\n    </tr>\n    <tr>\n      <th>735</th>\n      <td>785</td>\n      <td>[遊記] 村上海賊的「能島城」(續百大)與潮流體驗</td>\n      <td>https://www.ptt.cc/bbs/Japan_Travel/M.16227830...</td>\n      <td>hidein</td>\n      <td>2021-06-04 13:03:24</td>\n      <td>2</td>\n      <td>造訪日期：2019/11/28完整高清圖文網誌https://hidejellyfish.b...</td>\n    </tr>\n    <tr>\n      <th>736</th>\n      <td>786</td>\n      <td>[問題] 日本溫泉飯店更衣間提供去角質</td>\n      <td>https://www.ptt.cc/bbs/Japan_Travel/M.16227961...</td>\n      <td>eric0626</td>\n      <td>2021-06-04 16:43:17</td>\n      <td>8</td>\n      <td>之前去日本泡溫泉時外面更衣間吹頭髮的地方都有提供頭皮水跟臉部去角質臉部去角質好像都是長方形居...</td>\n    </tr>\n    <tr>\n      <th>...</th>\n      <td>...</td>\n      <td>...</td>\n      <td>...</td>\n      <td>...</td>\n      <td>...</td>\n      <td>...</td>\n      <td>...</td>\n    </tr>\n    <tr>\n      <th>11</th>\n      <td>45</td>\n      <td>[遊記] 2019山陰：石見銀山</td>\n      <td>https://www.ptt.cc/bbs/Japan_Travel/M.16538322...</td>\n      <td>yeadean</td>\n      <td>2022-05-29 21:50:06</td>\n      <td>17</td>\n      <td>造訪日期：2019年10月網頁圖文版：https://yeadean.pixnet.net/...</td>\n    </tr>\n    <tr>\n      <th>12</th>\n      <td>46</td>\n      <td>[資訊] 20220530匯率</td>\n      <td>https://www.ptt.cc/bbs/Japan_Travel/M.16538753...</td>\n      <td>jasmine3471</td>\n      <td>2022-05-30 09:48:37</td>\n      <td>30</td>\n      <td>2022.05.30現金換匯最佳牌告匯率台灣銀行 / 0.2339/ 更新時間：09:41台...</td>\n    </tr>\n    <tr>\n      <th>13</th>\n      <td>47</td>\n      <td>[新聞] 蘇貞昌同意鬆綁邊境管制、檢疫天數</td>\n      <td>https://www.ptt.cc/bbs/Japan_Travel/M.16538882...</td>\n      <td>e38651028</td>\n      <td>2022-05-30 13:23:45</td>\n      <td>爆</td>\n      <td>蘇貞昌同意鬆綁邊境管制　放寬入境總量上限、檢疫天數https://reurl.cc/KbO...</td>\n    </tr>\n    <tr>\n      <th>0</th>\n      <td>48</td>\n      <td>[資訊] JCB PLAZA Kyoto 已於2022年3月31日關閉</td>\n      <td>https://www.ptt.cc/bbs/Japan_Travel/M.16538888...</td>\n      <td>dahonehsueh</td>\n      <td>2022-05-30 13:33:36</td>\n      <td>7</td>\n      <td>https://reurl.cc/GxGdOG今天看到寄行李的相關問題，就興緻一來去查一下，...</td>\n    </tr>\n    <tr>\n      <th>15</th>\n      <td>49</td>\n      <td>[食記] モーリヤ Mouriya 神戶牛鐵板燒</td>\n      <td>https://www.ptt.cc/bbs/Japan_Travel/M.16539127...</td>\n      <td>a09250955</td>\n      <td>2022-05-30 20:12:52</td>\n      <td>6</td>\n      <td>店    名：モーリヤ Mouriya地    址：〒650-0011 兵庫県神戸市中央区下...</td>\n    </tr>\n  </tbody>\n</table>\n<p>742 rows × 7 columns</p>\n</div>"
     },
     "execution_count": 22,
     "metadata": {},
     "output_type": "execute_result"
    }
   ],
   "source": [
    "df.drop_duplicates(subset=['content'], keep='first', inplace=True)\n",
    "df"
   ],
   "metadata": {
    "collapsed": false,
    "pycharm": {
     "name": "#%%\n"
    }
   }
  },
  {
   "cell_type": "code",
   "execution_count": null,
   "outputs": [],
   "source": [
    "df = df.reset_index(drop=True)\n",
    "df"
   ],
   "metadata": {
    "collapsed": false,
    "pycharm": {
     "name": "#%%\n"
    }
   }
  },
  {
   "cell_type": "code",
   "execution_count": null,
   "outputs": [],
   "source": [
    "df = df.drop(['id'], axis=1)\n",
    "df"
   ],
   "metadata": {
    "collapsed": false,
    "pycharm": {
     "name": "#%%\n"
    }
   }
  },
  {
   "cell_type": "code",
   "execution_count": null,
   "outputs": [],
   "source": [
    "df['push_count'] = df['push_count'].replace(['','爆'],['0','100'])"
   ],
   "metadata": {
    "collapsed": false,
    "pycharm": {
     "name": "#%%\n"
    }
   }
  },
  {
   "cell_type": "code",
   "execution_count": null,
   "outputs": [],
   "source": [
    "df"
   ],
   "metadata": {
    "collapsed": false,
    "pycharm": {
     "name": "#%%\n"
    }
   }
  },
  {
   "cell_type": "code",
   "execution_count": null,
   "outputs": [],
   "source": [
    "df['content'] = df['content'].str.strip()\n",
    "df"
   ],
   "metadata": {
    "collapsed": false,
    "pycharm": {
     "name": "#%%\n"
    }
   }
  },
  {
   "cell_type": "code",
   "execution_count": null,
   "outputs": [],
   "source": [
    "df['content'] = df['content'].str.strip('')\n",
    "df"
   ],
   "metadata": {
    "collapsed": false,
    "pycharm": {
     "name": "#%%\n"
    }
   }
  },
  {
   "cell_type": "code",
   "execution_count": null,
   "outputs": [],
   "source": [
    "df['push_count'] = df['push_count'].replace(['','爆'],['0','100'])"
   ],
   "metadata": {
    "collapsed": false,
    "pycharm": {
     "name": "#%%\n"
    }
   }
  },
  {
   "cell_type": "code",
   "execution_count": null,
   "outputs": [],
   "source": [
    "df"
   ],
   "metadata": {
    "collapsed": false,
    "pycharm": {
     "name": "#%%\n"
    }
   }
  },
  {
   "cell_type": "code",
   "execution_count": null,
   "outputs": [],
   "source": [
    "df['content'] = df['content'].str.strip()\n",
    "df"
   ],
   "metadata": {
    "collapsed": false,
    "pycharm": {
     "name": "#%%\n"
    }
   }
  },
  {
   "cell_type": "code",
   "execution_count": null,
   "outputs": [],
   "source": [
    "df['content'] = df['content'].str.strip('')\n",
    "df"
   ],
   "metadata": {
    "collapsed": false,
    "pycharm": {
     "name": "#%%\n"
    }
   }
  },
  {
   "cell_type": "code",
   "execution_count": null,
   "outputs": [],
   "source": [
    "df.to_csv('./ptt_jptrvl_post.csv', encoding='utf-8', sep=',', index=False)"
   ],
   "metadata": {
    "collapsed": false,
    "pycharm": {
     "name": "#%%\n"
    }
   }
  },
  {
   "cell_type": "markdown",
   "source": [
    "# CSV EDA 向量化處理"
   ],
   "metadata": {
    "collapsed": false,
    "pycharm": {
     "name": "#%% md\n"
    }
   }
  },
  {
   "cell_type": "code",
   "execution_count": null,
   "outputs": [],
   "source": [
    "df = pd.read_csv('ptt_jptrvl_post.csv', encoding='utf-8', index_col=False)\n",
    "df"
   ],
   "metadata": {
    "collapsed": false,
    "pycharm": {
     "name": "#%%\n"
    }
   }
  },
  {
   "cell_type": "code",
   "execution_count": null,
   "outputs": [],
   "source": [
    "if __name__ == \"__main__\":\n",
    "    main()"
   ],
   "metadata": {
    "collapsed": false,
    "pycharm": {
     "name": "#%%\n"
    }
   }
  }
 ],
 "metadata": {
  "kernelspec": {
   "display_name": "Python 3",
   "language": "python",
   "name": "python3"
  },
  "language_info": {
   "codemirror_mode": {
    "name": "ipython",
    "version": 2
   },
   "file_extension": ".py",
   "mimetype": "text/x-python",
   "name": "python",
   "nbconvert_exporter": "python",
   "pygments_lexer": "ipython2",
   "version": "2.7.6"
  }
 },
 "nbformat": 4,
 "nbformat_minor": 0
}